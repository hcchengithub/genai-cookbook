{
 "cells": [
  {
   "cell_type": "markdown",
   "id": "5e553a3d-8bda-4a7e-b475-d137cd33d99f",
   "metadata": {},
   "source": [
    "\n",
    "<img src=\"./images/llm_prompt_req_resp.png\" height=\"35%\" width=\"%65\">\n",
    "\n",
    "## ReAct Prompting\n",
    "First introduced in a paper by [Yao et al., 2022](https://arxiv.org/abs/2210.03629), ReAct is a reasoning and acting paradigm that guides LLM to respond in a structured manager to complex queries. Reasoning and actions are interleaved and progressive, in the manner of chain of thought, so that LLM progresses from one result to another, using the previous answer.\n",
    "\n",
    "<img src=\"https://www.promptingguide.ai/_next/image?url=%2F_next%2Fstatic%2Fmedia%2Freact.8e7c93ae.png&w=1920&q=75\">\n",
    "\n",
    "Results suggest that ReAct outperforms other leading methods in language and decision-making tasks, enhances human understanding and trust in large language models (LLMs). It and best when combined with chain-of-thought (CoT) steps as individual tasks with results being used for the next step, utilizing both internal knowledge and external information during reasoning.\n",
    "\n",
    "Let's first use a few-shot examples to indicate how an LLM should progress with its reasoning and acting to solve a complex query, requiring intermideiate results to progress to its final outcome\n",
    "\n",
    "**Note**: \n",
    "To run any of these relevant notebooks you will need an account on Anyscale Endpoints, Anthropic, or OpenAI, depending on what model you elect, along with the respective environment file. Use the template environment files to create respective `.env` file for either Anyscale Endpoints, Anthropic, or OpenAI."
   ]
  },
  {
   "cell_type": "code",
   "execution_count": 1,
   "id": "f600b1ea-eb44-4911-bf20-11cbe5e19539",
   "metadata": {
    "tags": []
   },
   "outputs": [],
   "source": [
    "_file_ = \"7_how_to_use_react_prompt.ipynb\""
   ]
  },
  {
   "cell_type": "code",
   "execution_count": 1,
   "id": "467688ba-7dff-4d32-82a3-a06f1b62afdb",
   "metadata": {
    "tags": []
   },
   "outputs": [
    {
     "name": "stdout",
     "output_type": "stream",
     "text": [
      "env: OPENAI_API_KEY=\n"
     ]
    }
   ],
   "source": [
    "%env OPENAI_API_KEY=\n",
    "openai_api_key = \"\" # %env OPENAI_API_KEY"
   ]
  },
  {
   "cell_type": "code",
   "execution_count": 2,
   "id": "7e2bbc46-6089-4fb2-bc22-740ae077a1f6",
   "metadata": {
    "collapsed": true,
    "jupyter": {
     "outputs_hidden": true
    },
    "tags": []
   },
   "outputs": [
    {
     "name": "stderr",
     "output_type": "stream",
     "text": [
      "2024-06-13 15:47:35,224 - INFO - Start\n",
      "2024-06-13 15:47:36,741 - INFO - access_token : eyJ0eXAiOiJKV1QiLCJhbGciOiJSUzI1NiIsIng1dCI6IkwxS2ZLRklfam5YYndXYzIyeFp4dzFzVUhIMCIsImtpZCI6IkwxS2ZLRklfam5YYndXYzIyeFp4dzFzVUhIMCJ9.eyJhdWQiOiJodHRwczovL2NvZ25pdGl2ZXNlcnZpY2VzLmF6dXJlLmNvbSIsImlzcyI6Imh0dHBzOi8vc3RzLndpbmRvd3MubmV0L2RlMDc5NWUwLWQ3YzAtNGVlYi1iOWJiLWJjOTRkODk4MGQzYi8iLCJpYXQiOjE3MTgyNjQ1NTYsIm5iZiI6MTcxODI2NDU1NiwiZXhwIjoxNzE4MjY4NDU2LCJhaW8iOiJFMmRnWURpYjh0eUpNWHVwbDJ0RTdxa2xKZE9lQUFBPSIsImFwcGlkIjoiM2Y4MzI2Y2MtZGQ5Zi00ZTJjLWJlMzYtOWVjMGVjN2VlYWE2IiwiYXBwaWRhY3IiOiIxIiwiZ3JvdXBzIjpbIjM5MDUxZjJkLTlhMDQtNDc2YS1hNTk4LTRiMWRmMGQ1ODA1NiIsImUzYmFjNzk0LTllM2EtNGY1ZC04NWNiLWFkNjJhYWQzYTBmMyJdLCJpZHAiOiJodHRwczovL3N0cy53aW5kb3dzLm5ldC9kZTA3OTVlMC1kN2MwLTRlZWItYjliYi1iYzk0ZDg5ODBkM2IvIiwiaWR0eXAiOiJhcHAiLCJvaWQiOiIzYjFiMzY0OC04ZjVkLTQzNjQtODVhOS1kZjAyYTJjNWJmYWEiLCJyaCI6IjAuQVVrQTRKVUgzc0RYNjA2NXU3eVUySmdOTzVBaU1YM0lLRHhIb08yT1UzU2JiVzFKQUFBLiIsInN1YiI6IjNiMWIzNjQ4LThmNWQtNDM2NC04NWE5LWRmMDJhMmM1YmZhYSIsInRpZCI6ImRlMDc5NWUwLWQ3YzAtNGVlYi1iOWJiLWJjOTRkODk4MGQzYiIsInV0aSI6IkN3bzRjczVFQUVXUm9mYk40MjBiQUEiLCJ2ZXIiOiIxLjAiLCJ4bXNfaWRyZWwiOiIxNiA3In0.k1AiilfwS_wjf-uhn6zvZ7VEAx4gNdelrsvenGhe-6boulJSP7gLy4K_GY1AIbO5xQbt_L5NY3nck3hEmW_Wg2OY-SDgYK_ORJXeB2dK73CIW97cy7erq2qATKcRts2T9M9LPw1giYcX4-t13zLSNgcoLUv65YfTLHFWRfbZxtRHg3IG68fQaWBQcOw4M5VZAW5eB9zyzuHk8X5zvKqasWxOd0Gg1-CTIyCP5GCIrwmoURE9iS0UJzm7q8nBZ5FvslI08FHpM6BolkGDp82S2xueiK8J_VEZmKXz5_A_P0RHxIW-romEHhzew5a1UZf1TF3h6RD2KMHVfiIujJJ3ig\n",
      "2024-06-13 15:47:36,752 - INFO - Columbus class ready\n",
      "2024-06-13 15:47:43,468 - INFO - Note: NumExpr detected 12 cores but \"NUMEXPR_MAX_THREADS\" not set, so enforcing safe limit of 8.\n",
      "2024-06-13 15:47:43,469 - INFO - NumExpr defaulting to 8 threads.\n",
      "2024-06-13 15:47:52,289 - INFO - get_llm_for_DSPy modelname=gpt-4-turbo, apikey=''\n",
      "2024-06-13 15:47:52,290 - INFO - get_llm_for_DSPy WistronGPT\n",
      "2024-06-13 15:47:53,201 - INFO - llm_for_DSPy.kwargs['extra_headers']['Authorization']: length is 1418 (normal 1374 / FT 1422)\n"
     ]
    }
   ],
   "source": [
    "from columbus_api import Columbus\n",
    "columbus = Columbus()\n",
    "llm = columbus.get_llm_for_DSPy(\"gpt-4-turbo\", openai_api_key=openai_api_key)\n",
    "llm.kwargs['max_tokens']=1500"
   ]
  },
  {
   "cell_type": "code",
   "execution_count": 3,
   "id": "a1589080-37fe-4866-9615-da112d01404e",
   "metadata": {
    "tags": []
   },
   "outputs": [
    {
     "name": "stderr",
     "output_type": "stream",
     "text": [
      "2024-06-13 15:47:55,601 - INFO - HTTP Request: POST https://wistron-apim-qas.wistron.com/openai/deployments/gpt-4-turbo/chat/completions?api-version=2024-03-01-preview \"HTTP/1.1 200 OK\"\n"
     ]
    },
    {
     "data": {
      "text/plain": [
       "['Hello! How can I assist you today? If you have any questions or need information on a particular topic, feel free to ask.']"
      ]
     },
     "execution_count": 3,
     "metadata": {},
     "output_type": "execute_result"
    }
   ],
   "source": [
    "# llm.kwargs['extra_headers']['Authorization'] = f\"Bearer {columbus.get_access_token()}\"    \n",
    "llm(\"Hello World!\")"
   ]
  },
  {
   "cell_type": "code",
   "execution_count": 4,
   "id": "d4666f55-0188-4629-807f-2f04769d9b14",
   "metadata": {
    "tags": []
   },
   "outputs": [],
   "source": [
    "import warnings\n",
    "import os\n",
    "\n",
    "import openai\n",
    "from openai import OpenAI\n",
    "\n",
    "from dotenv import load_dotenv, find_dotenv"
   ]
  },
  {
   "cell_type": "markdown",
   "id": "73c7c1c8-4cf2-40e1-a9bc-28af5112627a",
   "metadata": {},
   "source": [
    "Load the environment"
   ]
  },
  {
   "cell_type": "code",
   "execution_count": 23,
   "id": "4c69f7ea-334d-42ea-bbf8-fecb0a2c7dd3",
   "metadata": {
    "tags": []
   },
   "outputs": [
    {
     "name": "stdout",
     "output_type": "stream",
     "text": [
      "Using MODEL=gpt-4-turbo; base=None\n"
     ]
    }
   ],
   "source": [
    "_ = load_dotenv(find_dotenv()) # read local .env file\n",
    "warnings.filterwarnings('ignore')\n",
    "openai.api_base = os.getenv(\"ANYSCALE_API_BASE\", os.getenv(\"OPENAI_API_BASE\"))\n",
    "openai.api_key = os.getenv(\"ANYSCALE_API_KEY\", os.getenv(\"OPENAI_API_KEY\"))\n",
    "MODEL = \"gpt-4-turbo\" # os.getenv(\"MODEL\")\n",
    "print(f\"Using MODEL={MODEL}; base={openai.api_base}\")"
   ]
  },
  {
   "cell_type": "code",
   "execution_count": 7,
   "id": "bbb1d18a-7f60-4eb3-b015-908898a40c5b",
   "metadata": {
    "tags": []
   },
   "outputs": [],
   "source": [
    "# Create the OpenAI client, which can be used transparently with Anyscale \n",
    "#Endpoints too\n",
    "\n",
    "from openai import OpenAI\n",
    "\n",
    "client = OpenAI(\n",
    "    api_key = openai.api_key,\n",
    "    base_url = openai.api_base\n",
    ")"
   ]
  },
  {
   "cell_type": "code",
   "execution_count": 24,
   "id": "6cd63b00-9903-4069-993f-873607f19da6",
   "metadata": {
    "tags": []
   },
   "outputs": [],
   "source": [
    "# Utility function to send and fetch response\n",
    "\n",
    "def get_commpletion(clnt: object, model: str, system_content: str, user_content:str) -> str:\n",
    "    chat_completion = clnt.chat.completions.create(\n",
    "        model=model,\n",
    "    messages=[{\"role\": \"system\", \"content\": system_content},\n",
    "              {\"role\": \"user\", \"content\": user_content}],\n",
    "    temperature = 0.8)\n",
    "\n",
    "    response = chat_completion.choices[0].message.content\n",
    "    return response"
   ]
  },
  {
   "cell_type": "markdown",
   "id": "443502dc-083b-465d-89b5-7970d838475b",
   "metadata": {},
   "source": [
    "#### Example 1: Use a in-context example for calculating an age of a person using its existing knowledge base\n",
    "An example use case for a few-shot learning is to provide an example pattern of chain of thought that the model can learn from and generalize how to use ReAct. Using what it has learned as an in-context example, it can generate a response for its subsequent prompt in the manner suggested.\n",
    "\n",
    "We will use an example few-shot prompt from this [guide](https://www.promptingguide.ai/techniques/react)."
   ]
  },
  {
   "cell_type": "code",
   "execution_count": 25,
   "id": "e073f7a0-d208-4e06-9106-804aba2498da",
   "metadata": {
    "tags": []
   },
   "outputs": [],
   "source": [
    "system_content = \"\"\"\n",
    "You are supreme repository of knowledge and can answer\n",
    "questions by deliberating following an thought, action, and\n",
    "observation pattern known as ReAct.\n",
    "\"\"\""
   ]
  },
  {
   "cell_type": "code",
   "execution_count": 26,
   "id": "16dc6afc-8d27-4c8d-be72-b3b79a901adb",
   "metadata": {
    "tags": []
   },
   "outputs": [],
   "source": [
    "react_user_prompt = \"\"\"\n",
    "Question: What is the elevation range for the area that the eastern sector of the\n",
    "Colorado orogeny extends into?\n",
    "Thought 1: I need to search Colorado orogeny, find the area that the eastern sector\n",
    "of the Colorado orogeny extends into, then find the elevation range of the\n",
    "area.\n",
    "Action 1: Search[Colorado orogeny]\n",
    "Observation 1: The Colorado orogeny was an episode of mountain building (an orogeny) in\n",
    "Colorado and surrounding areas.\n",
    "Thought 2: It does not mention the eastern sector. So I need to look up eastern\n",
    "sector.\n",
    "Action 2: Lookup[eastern sector]\n",
    "Observation 2: (Result 1 / 1) The eastern sector extends into the High Plains and is called\n",
    "the Central Plains orogeny.\n",
    "Thought 3: The eastern sector of Colorado orogeny extends into the High Plains. So I\n",
    "need to search High Plains and find its elevation range.\n",
    "Action 3: Search[High Plains]\n",
    "Observation 3: High Plains refers to one of two distinct land regions\n",
    "Thought 4: I need to instead search High Plains (United States).\n",
    "Action 4: Search[High Plains (United States)]\n",
    "Observation 4: The High Plains are a subregion of the Great Plains. From east to west, the\n",
    "High Plains rise in elevation from around 1,800 to 7,000 ft (550 to 2,130\n",
    "m).[3]\n",
    "Thought 5: High Plains rise in elevation from around 1,800 to 7,000 ft, so the answer\n",
    "is 1,800 to 7,000 ft.\n",
    "Action 5: Finish[1,800 to 7,000 ft]\n",
    "\n",
    "Question: Based on information provided to you upto 2023, Who was Olivia Wilde's boyfriend? What is his current age raised to the 0.23 power?\n",
    "...\n",
    "\"\"\""
   ]
  },
  {
   "cell_type": "code",
   "execution_count": 28,
   "id": "984b7a99-c90e-4a5e-b2da-409e94cc8957",
   "metadata": {
    "tags": []
   },
   "outputs": [
    {
     "name": "stderr",
     "output_type": "stream",
     "text": [
      "2024-06-13 15:58:52,933 - INFO - HTTP Request: POST https://api.openai.com/v1/chat/completions \"HTTP/1.1 200 OK\"\n"
     ]
    },
    {
     "name": "stdout",
     "output_type": "stream",
     "text": [
      "Question: Based on information provided to you up to 2023, who was Olivia Wilde's boyfriend? What is his current age raised to the 0.23 power?\n",
      "\n",
      "Thought 1: First, I need to identify Olivia Wilde's boyfriend as of the latest information until 2023.\n",
      "Action 1: Search[Olivia Wilde boyfriend 2023]\n",
      "Observation 1: Olivia Wilde's recent boyfriend, as of my latest updates in 2023, was Harry Styles. However, they broke up before the end of 2023.\n",
      "\n",
      "Thought 2: Now that I know her boyfriend was Harry Styles, I need to find Harry Styles' age to calculate his age raised to the 0.23 power.\n",
      "Action 2: Search[Harry Styles birthdate]\n",
      "Observation 2: Harry Styles was born on February 1, 1994.\n",
      "\n",
      "Thought 3: Calculate Harry Styles' age in 2023, then raise it to the power of 0.23.\n",
      "Action 3: Calculate[2023 - 1994]\n",
      "Observation 3: Harry Styles' age in 2023 is 29.\n",
      "\n",
      "Thought 4: Now that I have his age, I need to calculate 29 raised to the power of 0.23.\n",
      "Action 4: Calculate[29^0.23]\n",
      "Observation 4: 29 raised to the power of 0.23 is approximately 2.45.\n",
      "\n",
      "Thought 5: I have now determined that Olivia Wilde's boyfriend was Harry Styles, and his age in 2023 raised to the power of 0.23 is about 2.45.\n",
      "Action 5: Finish[Harry Styles, 2.45]\n",
      "\n",
      "Answer: Olivia Wilde's boyfriend was Harry Styles, and his current age raised to the 0.23 power is approximately 2.45.\n",
      "\n"
     ]
    }
   ],
   "source": [
    "response = get_commpletion(client, MODEL, system_content, react_user_prompt)\n",
    "print(f\"{response}\\n\")"
   ]
  },
  {
   "cell_type": "markdown",
   "id": "11677faa-8fa1-4470-a37a-ac121c264f16",
   "metadata": {},
   "source": [
    "#### Example 2: Use a in-context example for 在除了 Apple Remote 之外，還有哪些設備可以控制最初設計用於 Apple Remote 的程式？"
   ]
  },
  {
   "cell_type": "code",
   "execution_count": 29,
   "id": "f27c976f-a662-47ad-87d6-3ca679f43b8b",
   "metadata": {
    "tags": []
   },
   "outputs": [],
   "source": [
    "react_user_prompt_2 = \"\"\"\n",
    "Question: What is the elevation range for the area that the eastern sector of the\n",
    "Colorado orogeny extends into?\n",
    "Thought 1: I need to search Colorado orogeny, find the area that the eastern sector\n",
    "of the Colorado orogeny extends into, then find the elevation range of the\n",
    "area.\n",
    "Action 1: Search[Colorado orogeny]\n",
    "Observation 1: The Colorado orogeny was an episode of mountain building (an orogeny) in\n",
    "Colorado and surrounding areas.\n",
    "Thought 2: It does not mention the eastern sector. So I need to look up eastern\n",
    "sector.\n",
    "Action 2: Lookup[eastern sector]\n",
    "Observation 2: (Result 1 / 1) The eastern sector extends into the High Plains and is called\n",
    "the Central Plains orogeny.\n",
    "Thought 3: The eastern sector of Colorado orogeny extends into the High Plains. So I\n",
    "need to search High Plains and find its elevation range.\n",
    "Action 3: Search[High Plains]\n",
    "Observation 3: High Plains refers to one of two distinct land regions\n",
    "Thought 4: I need to instead search High Plains (United States).\n",
    "Action 4: Search[High Plains (United States)]\n",
    "Observation 4: The High Plains are a subregion of the Great Plains. From east to west, the\n",
    "High Plains rise in elevation from around 1,800 to 7,000 ft (550 to 2,130\n",
    "m).[3]\n",
    "Thought 5: High Plains rise in elevation from around 1,800 to 7,000 ft, so the answer\n",
    "is 1,800 to 7,000 ft.\n",
    "Action 5: Finish[1,800 to 7,000 ft]\n",
    "\n",
    "Question: Based on information provided to you upto 2023, aside from the Apple Remote, what other devices can \n",
    "control the program Apple Remote was originally designed to interact with?\n",
    "...\n",
    "\"\"\""
   ]
  },
  {
   "cell_type": "code",
   "execution_count": 30,
   "id": "7385238f-2744-41b7-a960-7d473fa9688e",
   "metadata": {
    "tags": []
   },
   "outputs": [
    {
     "name": "stderr",
     "output_type": "stream",
     "text": [
      "2024-06-13 16:00:40,748 - INFO - HTTP Request: POST https://api.openai.com/v1/chat/completions \"HTTP/1.1 200 OK\"\n"
     ]
    },
    {
     "name": "stdout",
     "output_type": "stream",
     "text": [
      "Thought 1: I need to recall what the Apple Remote was originally designed to control and then identify other devices that can control the same program or device.\n",
      "Action 1: Recall[Apple Remote purpose]\n",
      "Observation 1: The Apple Remote was primarily designed to control Apple TV and other Apple devices such as Mac computers (to manage media playback and other functions).\n",
      "\n",
      "Thought 2: Since I know the Apple Remote controls Apple TV and Mac computers, I need to find out what other devices or methods can be used to control these.\n",
      "Action 2: Research[devices controlling Apple TV]\n",
      "Observation 2: Other than the Apple Remote, Apple TV can be controlled by the Siri Remote, which is provided with newer versions of Apple TV, and also through the Apple TV Remote app available on iOS devices.\n",
      "\n",
      "Thought 3: I need to check for other means to control Mac computers similarly.\n",
      "Action 3: Research[devices controlling Mac computers]\n",
      "Observation 3: Mac computers can be controlled via a variety of input devices including the Magic Keyboard, Magic Mouse, and trackpads. Additionally, they can be controlled remotely through software like Apple Screen Sharing, or third-party options like TeamViewer.\n",
      "\n",
      "Thought 4: Combining the devices and software controls for both Apple TV and Mac computers gives a comprehensive list of alternative control methods.\n",
      "Action 4: Compile information\n",
      "\n",
      "Conclusion: Aside from the Apple Remote, Apple TV can be controlled by the Siri Remote, iOS devices using the Apple TV Remote app, while Mac computers can be managed using Magic Keyboard, Magic Mouse, trackpads, Apple Screen Sharing, and third-party software like TeamViewer.\n",
      "\n"
     ]
    }
   ],
   "source": [
    "response = get_commpletion(client, MODEL, system_content, react_user_prompt_2)\n",
    "print(f\"{response}\\n\")"
   ]
  },
  {
   "cell_type": "markdown",
   "id": "482b47a3-fd09-4096-88f6-1704cdd09d1f",
   "metadata": {},
   "source": [
    "#### Example 3: Use a in-context example for calculating cirumference and area using its existing knowledge base"
   ]
  },
  {
   "cell_type": "code",
   "execution_count": 19,
   "id": "5c30e8c5-56ca-422c-87c7-8c4ef098f80e",
   "metadata": {
    "tags": []
   },
   "outputs": [],
   "source": [
    "react_user_prompt_3 = \"\"\"\n",
    "Question: What is the elevation range for the area that the eastern sector of the\n",
    "Colorado orogeny extends into?\n",
    "Thought 1: I need to search Colorado orogeny, find the area that the eastern sector\n",
    "of the Colorado orogeny extends into, then find the elevation range of the\n",
    "area.\n",
    "Action 1: Search[Colorado orogeny]\n",
    "Observation 1: The Colorado orogeny was an episode of mountain building (an orogeny) in\n",
    "Colorado and surrounding areas.\n",
    "Thought 2: It does not mention the eastern sector. So I need to look up eastern\n",
    "sector.\n",
    "Action 2: Lookup[eastern sector]\n",
    "Observation 2: (Result 1 / 1) The eastern sector extends into the High Plains and is called\n",
    "the Central Plains orogeny.\n",
    "Thought 3: The eastern sector of Colorado orogeny extends into the High Plains. So I\n",
    "need to search High Plains and find its elevation range.\n",
    "Action 3: Search[High Plains]\n",
    "Observation 3: High Plains refers to one of two distinct land regions\n",
    "Thought 4: I need to instead search High Plains (United States).\n",
    "Action 4: Search[High Plains (United States)]\n",
    "Observation 4: The High Plains are a subregion of the Great Plains. From east to west, the\n",
    "High Plains rise in elevation from around 1,800 to 7,000 ft (550 to 2,130\n",
    "m).[3]\n",
    "Thought 5: High Plains rise in elevation from around 1,800 to 7,000 ft, so the answer\n",
    "is 1,800 to 7,000 ft.\n",
    "Action 5: Finish[1,800 to 7,000 ft]\n",
    "\n",
    "Question: Based on information provided to you upto 2023, how do you calculate the value\n",
    "of PI. With its current value of PI, given a circle of diameter 2 meters, what is its \n",
    "circumfernce and area?\n",
    "...\n",
    "\"\"\""
   ]
  },
  {
   "cell_type": "code",
   "execution_count": 31,
   "id": "244c5a61-be8c-4b83-9e75-210baa60ad2e",
   "metadata": {
    "tags": []
   },
   "outputs": [
    {
     "name": "stderr",
     "output_type": "stream",
     "text": [
      "2024-06-13 16:29:34,264 - INFO - HTTP Request: POST https://api.openai.com/v1/chat/completions \"HTTP/1.1 200 OK\"\n"
     ]
    },
    {
     "name": "stdout",
     "output_type": "stream",
     "text": [
      "**Thought 1:** To answer the question, I need to understand the method of calculating the value of pi, its current accepted value, and then use this value to calculate the circumference and area of a circle with a diameter of 2 meters.\n",
      "\n",
      "**Action 1:** Research[How is the value of pi calculated?]\n",
      "\n",
      "**Observation 1:** The value of pi (π) is typically calculated using mathematical algorithms or geometric approximations. One of the most famous is the Archimedes method which involves inscribing and circumscribing polygons around a circle and calculating their perimeters.\n",
      "\n",
      "**Thought 2:** Since the question asks for calculations using the current value of pi, I need to use the commonly accepted value of pi, which is approximately 3.14159.\n",
      "\n",
      "**Action 2:** Confirm[Current accepted value of pi]\n",
      "   \n",
      "**Observation 2:** The commonly accepted value of pi is approximately 3.14159.\n",
      "\n",
      "**Thought 3:** Now, I need to calculate the circumference and the area of a circle with a diameter of 2 meters using the formulae Circumference = π * Diameter and Area = π * (radius^2).\n",
      "\n",
      "**Action 3:** Calculate[Circumference and area using diameter = 2m]\n",
      "\n",
      "**Observation 3:** Diameter = 2 meters, so the radius = 1 meter.\n",
      "   - Circumference = π * Diameter = 3.14159 * 2 = 6.28318 meters\n",
      "   - Area = π * (radius^2) = 3.14159 * (1^2) = 3.14159 square meters\n",
      "\n",
      "**Thought 4:** The calculations are complete. The circumference of the circle is 6.28318 meters, and the area is 3.14159 square meters.\n",
      "\n",
      "**Action 4:** Finish[Answer with calculated values]\n",
      "\n",
      "**Results:** \n",
      "1. The value of pi is generally calculated using mathematical methods such as the Archimedes method, and its currently accepted value is approximately 3.14159.\n",
      "2. For a circle with a diameter of 2 meters:\n",
      "   - The circumference is approximately 6.28318 meters.\n",
      "   - The area is approximately 3.14159 square meters.\n",
      "\n"
     ]
    }
   ],
   "source": [
    "response = get_commpletion(client, MODEL, system_content, react_user_prompt_3)\n",
    "print(f\"{response}\\n\")"
   ]
  },
  {
   "cell_type": "markdown",
   "id": "f7f80337-e079-4173-881d-d39013bff204",
   "metadata": {},
   "source": [
    "#### Example 4: Use a in-context example for calculating the pace and rate each day of climbing Mount Kilimajaro."
   ]
  },
  {
   "cell_type": "code",
   "execution_count": 32,
   "id": "0d59afc8-3c45-4d24-abfa-f4e0d3048051",
   "metadata": {
    "tags": []
   },
   "outputs": [],
   "source": [
    "react_user_prompt_4 = \"\"\"\n",
    "Question: What is the elevation range for the area that the eastern sector of the\n",
    "Colorado orogeny extends into?\n",
    "Thought 1: I need to search Colorado orogeny, find the area that the eastern sector\n",
    "of the Colorado orogeny extends into, then find the elevation range of the\n",
    "area.\n",
    "Action 1: Search[Colorado orogeny]\n",
    "Observation 1: The Colorado orogeny was an episode of mountain building (an orogeny) in\n",
    "Colorado and surrounding areas.\n",
    "Thought 2: It does not mention the eastern sector. So I need to look up eastern\n",
    "sector.\n",
    "Action 2: Lookup[eastern sector]\n",
    "Observation 2: (Result 1 / 1) The eastern sector extends into the High Plains and is called\n",
    "the Central Plains orogeny.\n",
    "Thought 3: The eastern sector of Colorado orogeny extends into the High Plains. So I\n",
    "need to search High Plains and find its elevation range.\n",
    "Action 3: Search[High Plains]\n",
    "Observation 3: High Plains refers to one of two distinct land regions\n",
    "Thought 4: I need to instead search High Plains (United States).\n",
    "Action 4: Search[High Plains (United States)]\n",
    "Observation 4: The High Plains are a subregion of the Great Plains. From east to west, the\n",
    "High Plains rise in elevation from around 1,800 to 7,000 ft (550 to 2,130\n",
    "m).[3]\n",
    "Thought 5: High Plains rise in elevation from around 1,800 to 7,000 ft, so the answer\n",
    "is 1,800 to 7,000 ft.\n",
    "Action 5: Finish[1,800 to 7,000 ft]\n",
    "\n",
    "Question: Based on information provided to you upto 2023, what is the elevation\n",
    "in feet of Mount Kilimanjor, the highest peek in the continent of Africa.\n",
    "What is the recommended and healthy way to climb the mountain in terms of ascending number of\n",
    "feet per day to ascend, and how based on that calculation and rest between each day's\n",
    "climb, how long will it take to get to the top?\n",
    "...\n",
    "\"\"\""
   ]
  },
  {
   "cell_type": "code",
   "execution_count": 33,
   "id": "91e5afd1-6665-4617-bf0b-cbcd98cc1ea4",
   "metadata": {
    "tags": []
   },
   "outputs": [
    {
     "name": "stderr",
     "output_type": "stream",
     "text": [
      "2024-06-13 16:35:12,612 - INFO - HTTP Request: POST https://api.openai.com/v1/chat/completions \"HTTP/1.1 200 OK\"\n"
     ]
    },
    {
     "name": "stdout",
     "output_type": "stream",
     "text": [
      "**Question:** What is the elevation in feet of Mount Kilimanjaro, the highest peak in the continent of Africa?\n",
      "\n",
      "**Thought 1:** I need to recall the elevation of Mount Kilimanjaro from my stored data.\n",
      "\n",
      "**Action 1:** Lookup stored information on Mount Kilimanjaro's elevation.\n",
      "\n",
      "**Observation 1:** Mount Kilimanjaro's elevation is approximately 19,341 feet (5,895 meters).\n",
      "\n",
      "**Thought 2:** Now I need to consider the recommended and healthy way to climb Mount Kilimanjaro in terms of ascending feet per day.\n",
      "\n",
      "**Action 2:** Search for climbing guidelines and best practices for Mount Kilimanjaro.\n",
      "\n",
      "**Observation 2:** Climbing guidelines often recommend ascending no more than 1,000 to 2,000 feet per day after reaching an altitude of 10,000 feet for acclimatization purposes.\n",
      "\n",
      "**Thought 3:** Calculate the daily ascent and determine the total days required to summit, factoring in acclimatization days.\n",
      "\n",
      "**Action 3:** Calculate total ascent days and add acclimatization days.\n",
      "\n",
      "**Observation 3:** Assuming an ascent starts from 6,000 feet (base camp), the total ascent needed is 13,341 feet. Climbing at an average of 1,500 feet per day would take about 9 days. Adding acclimatization days (usually 1 day for every 3,000 feet ascended), this would add approximately 3 more days.\n",
      "\n",
      "**Thought 4:** Sum the days of ascent and acclimatization to find the total days required.\n",
      "\n",
      "**Action 4:** Sum the days.\n",
      "\n",
      "**Observation 4:** Total days required would be approximately 12 days (9 days of climbing + 3 days of acclimatization).\n",
      "\n",
      "**Thought 5:** I have now calculated the total days required based on the safe ascending rate and necessary acclimatization days.\n",
      "\n",
      "**Action 5:** Conclude with the response.\n",
      "\n",
      "**Final Answer:** Mount Kilimanjaro's elevation is 19,341 feet. It is recommended to ascend about 1,000 to 2,000 feet per day after the first 10,000 feet for proper acclimatization. Based on this calculation and including necessary rest days for acclimatization, it would take approximately 12 days to reach the summit.\n",
      "\n"
     ]
    }
   ],
   "source": [
    "response = get_commpletion(client, MODEL, system_content, react_user_prompt_4)\n",
    "print(f\"{response}\\n\")"
   ]
  },
  {
   "cell_type": "markdown",
   "id": "5c1b1baf-2a95-4ad2-9477-32052d090dfd",
   "metadata": {},
   "source": [
    "#### Example 5: Use an in-context example for calculating the smallest prime number greater than 30,000 using ReAct prompting"
   ]
  },
  {
   "cell_type": "code",
   "execution_count": 34,
   "id": "c8d3f26c-6efd-4d53-beeb-34bfac89ee22",
   "metadata": {
    "tags": []
   },
   "outputs": [],
   "source": [
    "react_user_prompt_5 = \"\"\"\n",
    "Question: What is the elevation range for the area that the eastern sector of the\n",
    "Colorado orogeny extends into?\n",
    "Thought 1: I need to search Colorado orogeny, find the area that the eastern sector\n",
    "of the Colorado orogeny extends into, then find the elevation range of the\n",
    "area.\n",
    "Action 1: Search[Colorado orogeny]\n",
    "Observation 1: The Colorado orogeny was an episode of mountain building (an orogeny) in\n",
    "Colorado and surrounding areas.\n",
    "Thought 2: It does not mention the eastern sector. So I need to look up eastern\n",
    "sector.\n",
    "Action 2: Lookup[eastern sector]\n",
    "Observation 2: (Result 1 / 1) The eastern sector extends into the High Plains and is called\n",
    "the Central Plains orogeny.\n",
    "Thought 3: The eastern sector of Colorado orogeny extends into the High Plains. So I\n",
    "need to search High Plains and find its elevation range.\n",
    "Action 3: Search[High Plains]\n",
    "Observation 3: High Plains refers to one of two distinct land regions\n",
    "Thought 4: I need to instead search High Plains (United States).\n",
    "Action 4: Search[High Plains (United States)]\n",
    "Observation 4: The High Plains are a subregion of the Great Plains. From east to west, the\n",
    "High Plains rise in elevation from around 1,800 to 7,000 ft (550 to 2,130\n",
    "m).[3]\n",
    "Thought 5: High Plains rise in elevation from around 1,800 to 7,000 ft, so the answer\n",
    "is 1,800 to 7,000 ft.\n",
    "Action 5: Finish[1,800 to 7,000 ft]\n",
    "\n",
    "Question: Based on information provided to you upto 2023, find to your best ability the three \n",
    "smallest prime numbers greater than 30,000. Add these prime numbers.  \n",
    "Is the sum of these three prime numbers a prime number too?\n",
    "...\n",
    "\"\"\""
   ]
  },
  {
   "cell_type": "code",
   "execution_count": 35,
   "id": "ccf2ddce-57fa-456e-888c-bfe32a9bfd23",
   "metadata": {
    "tags": []
   },
   "outputs": [
    {
     "name": "stderr",
     "output_type": "stream",
     "text": [
      "2024-06-13 16:42:46,077 - INFO - HTTP Request: POST https://api.openai.com/v1/chat/completions \"HTTP/1.1 200 OK\"\n"
     ]
    },
    {
     "name": "stdout",
     "output_type": "stream",
     "text": [
      "**Thought 1:** To answer this question, I first need to identify the three smallest prime numbers greater than 30,000. Then, I will add these numbers together and verify if the sum is also a prime number.\n",
      "\n",
      "**Action 1:** Find the three smallest prime numbers greater than 30,000.\n",
      "\n",
      "**Observation 1:** Using a prime number table or algorithm, the three smallest prime numbers greater than 30,000 are identified as 30,017, 30,023, and 30,041.\n",
      "\n",
      "**Thought 2:** Now that I have identified the three smallest primes greater than 30,000, I need to calculate their sum.\n",
      "\n",
      "**Action 2:** Calculate the sum of 30,017 + 30,023 + 30,041.\n",
      "\n",
      "**Observation 2:** The sum of 30,017, 30,023, and 30,041 is 90,081.\n",
      "\n",
      "**Thought 3:** Next, I need to determine whether 90,081 is a prime number.\n",
      "\n",
      "**Action 3:** Check if 90,081 is a prime number.\n",
      "\n",
      "**Observation 3:** 90,081 is not a prime number. It can be factored into 3 * 3 * 10009, therefore showing that it has divisors other than 1 and itself.\n",
      "\n",
      "**Thought 4:** I have found the three smallest prime numbers greater than 30,000 and determined that their sum, 90,081, is not a prime number.\n",
      "\n",
      "**Action 4:** Conclude that the sum of the three smallest prime numbers greater than 30,000 is not a prime number.\n",
      "\n",
      "**Final Answer:** The three smallest prime numbers greater than 30,000 are 30,017, 30,023, and 30,041. Their sum is 90,081, which is not a prime number.\n",
      "\n"
     ]
    }
   ],
   "source": [
    "response = get_commpletion(client, MODEL, system_content, react_user_prompt_5)\n",
    "print(f\"{response}\\n\")"
   ]
  },
  {
   "cell_type": "markdown",
   "id": "91eae264-bfd8-4056-b26c-884909ac1179",
   "metadata": {},
   "source": [
    "#### Example 6: Use an in-context example for converting `HH:MM:SS` string format into seconds using ReAct prompting"
   ]
  },
  {
   "cell_type": "code",
   "execution_count": 36,
   "id": "ec4ebf57-9bb2-43de-9809-d04895012b3e",
   "metadata": {
    "tags": []
   },
   "outputs": [],
   "source": [
    "react_user_prompt_6 = \"\"\"\n",
    "Question: What is the elevation range for the area that the eastern sector of the\n",
    "Colorado orogeny extends into?\n",
    "Thought 1: I need to search Colorado orogeny, find the area that the eastern sector\n",
    "of the Colorado orogeny extends into, then find the elevation range of the\n",
    "area.\n",
    "Action 1: Search[Colorado orogeny]\n",
    "Observation 1: The Colorado orogeny was an episode of mountain building (an orogeny) in\n",
    "Colorado and surrounding areas.\n",
    "Thought 2: It does not mention the eastern sector. So I need to look up eastern\n",
    "sector.\n",
    "Action 2: Lookup[eastern sector]\n",
    "Observation 2: (Result 1 / 1) The eastern sector extends into the High Plains and is called\n",
    "the Central Plains orogeny.\n",
    "Thought 3: The eastern sector of Colorado orogeny extends into the High Plains. So I\n",
    "need to search High Plains and find its elevation range.\n",
    "Action 3: Search[High Plains]\n",
    "Observation 3: High Plains refers to one of two distinct land regions\n",
    "Thought 4: I need to instead search High Plains (United States).\n",
    "Action 4: Search[High Plains (United States)]\n",
    "Observation 4: The High Plains are a subregion of the Great Plains. From east to west, the\n",
    "High Plains rise in elevation from around 1,800 to 7,000 ft (550 to 2,130\n",
    "m).[3]\n",
    "Thought 5: High Plains rise in elevation from around 1,800 to 7,000 ft, so the answer\n",
    "is 1,800 to 7,000 ft.\n",
    "Action 5: Finish[1,800 to 7,000 ft]\n",
    "\n",
    "Question: Based on information provided to you upto 2023, convert a time string with format \n",
    "H:MM:SS to seconds. How do you convert 3:56:25 into seconds?\n",
    "...\n",
    "\"\"\""
   ]
  },
  {
   "cell_type": "code",
   "execution_count": 8,
   "id": "62d5ab7a-8880-4c4c-b826-f86d0f87371e",
   "metadata": {},
   "outputs": [
    {
     "name": "stdout",
     "output_type": "stream",
     "text": [
      "Thought 1: To convert a time given in hours, minutes, and seconds to seconds, I need to use the fact that there are 3600 seconds in an hour and 60 seconds in a minute.\n",
      "\n",
      "Action 1: Calculate[3 hours to seconds]\n",
      "Observation 1: 3 hours * 3600 seconds/hour = 10800 seconds\n",
      "\n",
      "Thought 2: Next, calculate the number of seconds in 56 minutes.\n",
      "\n",
      "Action 2: Calculate[56 minutes to seconds]\n",
      "Observation 2: 56 minutes * 60 seconds/minute = 3360 seconds\n",
      "\n",
      "Thought 3: Add the seconds part of the time directly since it's already in seconds.\n",
      "\n",
      "Action 3: Calculate[25 seconds]\n",
      "Observation 3: 25 seconds is already in the correct unit, so no conversion is needed.\n",
      "\n",
      "Thought 4: Now, add all the converted time units together to get the total time in seconds.\n",
      "\n",
      "Action 4: Calculate[Total seconds]\n",
      "Observation 4: Total seconds = 10800 seconds (from hours) + 3360 seconds (from minutes) + 25 seconds = 14185 seconds\n",
      "\n",
      "Thought 5: The conversion of 3:56:25 into seconds is 14185 seconds.\n",
      "\n",
      "Action 5: Finish[14185 seconds]\n",
      "\n",
      "The time string \"3:56:25\" converts to 14,185 seconds.\n",
      "\n"
     ]
    }
   ],
   "source": [
    "response = get_commpletion(client, MODEL, system_content, react_user_prompt_6)\n",
    "print(f\"{response}\\n\")"
   ]
  },
  {
   "cell_type": "markdown",
   "id": "b9569817-a6ff-4e4f-8485-46bfd8ca7b76",
   "metadata": {},
   "source": [
    "## All this is amazing! 😜 Feel the wizardy in prompt power 🧙‍♀️"
   ]
  }
 ],
 "metadata": {
  "kernelspec": {
   "display_name": "Python 3 (ipykernel)",
   "language": "python",
   "name": "python3"
  },
  "language_info": {
   "codemirror_mode": {
    "name": "ipython",
    "version": 3
   },
   "file_extension": ".py",
   "mimetype": "text/x-python",
   "name": "python",
   "nbconvert_exporter": "python",
   "pygments_lexer": "ipython3",
   "version": "3.10.0"
  }
 },
 "nbformat": 4,
 "nbformat_minor": 5
}
