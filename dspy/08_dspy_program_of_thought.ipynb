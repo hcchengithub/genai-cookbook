{
 "cells": [
  {
   "cell_type": "markdown",
   "id": "0c6a9d1e-35de-4197-9673-5d5bf262ae65",
   "metadata": {},
   "source": [
    "\n",
    "<img src=\"images/dspy_img.png\" height=\"35%\" width=\"%65\">\n",
    "\n",
    "## Program of thought (CoT) prompting\n",
    "\n",
    "Program of thought prompting, like chain of thought, for LLMs involves providing a sequence of reasoning steps in the prompt to guide the model toward a solution. This technique helps the model to process complex problems by breaking them down into intermediate steps, much like a human would. By mimicking human-like reasoning, chain of thought prompting improves the model's ability to handle tasks that require logic, deduction and programming. \n",
    "\n",
    "Let's look at a few of those examples below 👇 using DSPy Program of Thought (CoT) Module\n",
    "[`dspy.ProgramOfThought`]. Most of this examples generate Python code to solve the problem.\n",
    "To observe how the DSPy modules generate LLM prompts, you can inspect the history of the \n",
    "prompt generation, using `model.inspect_history(n=<value>)`\n",
    "\n",
    "**Note**: \n",
    "To run any of these relevant notebooks you will need to install OLlama on the local\n",
    "latop or use any LLM-hosted provder service: OpenAI, Anyscale Endpoints, Anthropic, etc.\n"
   ]
  },
  {
   "cell_type": "code",
   "execution_count": 9,
   "id": "128711b6-0ce7-4503-a5b8-ee5df3b231ff",
   "metadata": {
    "tags": []
   },
   "outputs": [],
   "source": [
    "_file_ = \"08_dspy_program_of_thought.ipynb\""
   ]
  },
  {
   "cell_type": "code",
   "execution_count": 13,
   "id": "187463dc-4606-4407-b3c8-5dca96a83f30",
   "metadata": {
    "tags": []
   },
   "outputs": [],
   "source": [
    "import dspy\n",
    "import warnings\n",
    "import argparse\n",
    "from dspy_utils import POT, BOLD_BEGIN, BOLD_END\n",
    "import dspy_utils"
   ]
  },
  {
   "cell_type": "code",
   "execution_count": 11,
   "id": "fbe5f8f1-02b4-4530-b1e6-b36dab439575",
   "metadata": {
    "tags": []
   },
   "outputs": [],
   "source": [
    "warnings.filterwarnings(\"ignore\")"
   ]
  },
  {
   "cell_type": "code",
   "execution_count": 4,
   "id": "7a3b4668-030d-4550-bf12-390818e992e0",
   "metadata": {
    "tags": []
   },
   "outputs": [
    {
     "name": "stdout",
     "output_type": "stream",
     "text": [
      "env: OPENAI_API_KEY=\n"
     ]
    }
   ],
   "source": [
    "%env OPENAI_API_KEY=\n",
    "openai_api_key = %env OPENAI_API_KEY"
   ]
  },
  {
   "cell_type": "code",
   "execution_count": 6,
   "id": "67eca9ac-6f1f-4489-91b2-c7bf94637fcc",
   "metadata": {
    "tags": []
   },
   "outputs": [],
   "source": [
    "from columbus_api import Columbus\n",
    "columbus = Columbus()\n",
    "llm = columbus.get_llm_for_DSPy(\"gpt-4-turbo\", openai_api_key=openai_api_key)\n",
    "llm.kwargs['max_tokens']=1500"
   ]
  },
  {
   "cell_type": "code",
   "execution_count": 7,
   "id": "43aec4f8-79e1-4daf-99d7-0d92f2bc9eaf",
   "metadata": {
    "tags": []
   },
   "outputs": [
    {
     "name": "stderr",
     "output_type": "stream",
     "text": [
      "2024-06-13 10:20:23,833 - INFO - HTTP Request: POST https://api.openai.com/v1/chat/completions \"HTTP/1.1 200 OK\"\n"
     ]
    },
    {
     "data": {
      "text/plain": [
       "['Hello! How can I assist you today?']"
      ]
     },
     "execution_count": 7,
     "metadata": {},
     "output_type": "execute_result"
    }
   ],
   "source": [
    "# llm.kwargs['extra_headers']['Authorization'] = f\"Bearer {columbus.get_access_token()}\"    \n",
    "llm(\"Hello World!\")"
   ]
  },
  {
   "cell_type": "markdown",
   "id": "b6ec69c9-d2c3-424d-99dd-8caeb83aac64",
   "metadata": {},
   "source": [
    "Utility function to execute PoT tasks"
   ]
  },
  {
   "cell_type": "code",
   "execution_count": 4,
   "id": "0d40441d-be9b-448a-9f6f-68e0b996d46b",
   "metadata": {
    "tags": []
   },
   "outputs": [],
   "source": [
    "def run_pot_task(task, question=None, args=None, history=None):\n",
    "    print(f\"Program of Thought Task {task}.\")\n",
    "    print(f\"{BOLD_BEGIN}Question:{BOLD_END}{question}\")\n",
    "    \n",
    "    pot = POT()\n",
    "    response = pot(question=question)\n",
    "    \n",
    "    if hasattr(response, \"answer\"):\n",
    "        print(f\"{BOLD_BEGIN}Answer  :{BOLD_END}{response.answer}\")\n",
    "    \n",
    "    print(\"-----------------------------\\n\")\n",
    "    \n",
    "    if history:\n",
    "        print(f\"{BOLD_BEGIN}Prompt History:{BOLD_END}\") \n",
    "      # print(ollama_mistral.inspect_history(n=history))\n",
    "        print(llm.inspect_history(n=history))\n",
    "        print(\"===========================\\n\")"
   ]
  },
  {
   "cell_type": "markdown",
   "id": "258e721d-7cc1-4a97-bb20-da7250dfe434",
   "metadata": {},
   "source": [
    "Define some Program of Thought word problems to solve with \n",
    "DSPy Module"
   ]
  },
  {
   "cell_type": "code",
   "execution_count": 5,
   "id": "8f76ec90-db97-4789-be68-b033b585b29e",
   "metadata": {
    "tags": []
   },
   "outputs": [],
   "source": [
    "POT_TASKS_1 = \"\"\"\n",
    "            Sarah has 5 apples. She buys 7 more apples from the store. \n",
    "            How many apples does Sarah have now?\"\"\"\n",
    "\n",
    "POT_TASKS_2 = \"\"\"\n",
    "            What is the area of a triangle if its base is 4ft and height\n",
    "            is 7ft?.\n",
    "    \"\"\"\n",
    "POT_TASKS_3 = \"\"\"\n",
    "            How to write a Python function to check a prime nunber?\n",
    "    \"\"\"\n",
    "POT_TASKS_4 = \"\"\"\n",
    "            How to write a Python function to generate fibonacci series?   \n",
    "\"\"\"\n",
    "POT_TASKS_5 = \"\"\"\n",
    "            How to write Python code to find three smallest prime numbers greater than 30,000?\n",
    "\"\"\"\n",
    "\n",
    "POT_TASK_6 = \"\"\"\n",
    " How to write a Python code, using fractions python module, that generates fractions between 1 and 10?\n",
    "\"\"\"\n",
    "POT_TASK_7 = \"\"\"\n",
    "Given the following SQL schema for tables\n",
    "Table clicks, columns = [target_url, orig_url, user_id, clicks]\n",
    "Table users, columns = [user_id, f_name, l_name, e_mail, company, title], generate\n",
    "an SQL query that computes in the descening order of all the clicks. Also, for\n",
    "each user_id, list the f_name, l_name, company, and title\n",
    "\n",
    "\"\"\"\n",
    "\n",
    "POT_TASKS = [POT_TASKS_1, POT_TASKS_2, POT_TASKS_3, \n",
    "             POT_TASKS_4, POT_TASKS_5, POT_TASK_6, \n",
    "             POT_TASK_7]"
   ]
  },
  {
   "cell_type": "markdown",
   "id": "69c72d51-34db-49a4-8cc8-d8a54cd5d337",
   "metadata": {},
   "source": [
    "### Setup OLlama environment on the local machine"
   ]
  },
  {
   "cell_type": "code",
   "execution_count": 6,
   "id": "f5dc9c72-1f6b-486e-86f4-83fbc6f08019",
   "metadata": {
    "tags": []
   },
   "outputs": [],
   "source": [
    "# ollama_mistral = dspy.OllamaLocal(model='mistral', max_tokens=2500)\n",
    "# dspy.settings.configure(lm=ollama_mistral)\n",
    "dspy.settings.configure(lm=llm)"
   ]
  },
  {
   "cell_type": "raw",
   "id": "a58b6702-f27f-4739-8213-728f92a8a211",
   "metadata": {},
   "source": [
    "MODEL = \"ollama/mistral\"\n",
    "print(f\"Using MODEL={MODEL}; base=localhost\")"
   ]
  },
  {
   "cell_type": "markdown",
   "id": "e35d40de-7b76-4701-8796-f41b1693802c",
   "metadata": {},
   "source": [
    "#### Example 1: Program of Thought"
   ]
  },
  {
   "cell_type": "code",
   "execution_count": null,
   "id": "56985def-acd8-4afa-929f-ef83bd373915",
   "metadata": {
    "tags": []
   },
   "outputs": [],
   "source": [
    "run_pot_task(1, question=POT_TASKS[0], history=1)"
   ]
  },
  {
   "cell_type": "markdown",
   "id": "806e445c-74a5-445a-a9dc-ffb4a82f0d78",
   "metadata": {},
   "source": [
    "#### Example 2: Program of Thought"
   ]
  },
  {
   "cell_type": "code",
   "execution_count": null,
   "id": "606ec31c-faf2-4d1f-a8b1-3a4a67c66c8e",
   "metadata": {
    "tags": []
   },
   "outputs": [],
   "source": [
    "run_pot_task(2, question=POT_TASKS[1], history=1)"
   ]
  },
  {
   "cell_type": "markdown",
   "id": "d36cd7c3-c299-4f79-9fb6-6d4306ad1059",
   "metadata": {},
   "source": [
    "#### Example 3: Program of Thought"
   ]
  },
  {
   "cell_type": "code",
   "execution_count": null,
   "id": "6e8e76f8-9bc4-47fa-9e63-9b211d4d2ae5",
   "metadata": {},
   "outputs": [],
   "source": [
    "run_pot_task(3, question=POT_TASKS[2], history=1)"
   ]
  },
  {
   "cell_type": "markdown",
   "id": "fe6b412c-2c60-4b75-88de-8cd0571aea9e",
   "metadata": {},
   "source": [
    "#### Example 4: Program of Thought"
   ]
  },
  {
   "cell_type": "code",
   "execution_count": null,
   "id": "f33536c2-6003-40c4-93c2-8461285e3ae8",
   "metadata": {},
   "outputs": [],
   "source": [
    "run_pot_task(4, question=POT_TASKS[3], history=1)"
   ]
  },
  {
   "cell_type": "markdown",
   "id": "8c6cbd86-6b32-4b53-b5f2-850c15103503",
   "metadata": {},
   "source": [
    "#### Example 5: Program of Thought"
   ]
  },
  {
   "cell_type": "code",
   "execution_count": 7,
   "id": "28f9370c-6310-4b64-ae3e-5d8a21607b4d",
   "metadata": {
    "tags": []
   },
   "outputs": [
    {
     "name": "stdout",
     "output_type": "stream",
     "text": [
      "Program of Thought Task 5.\n",
      "Question:\n",
      "            How to write Python code to find three smallest prime numbers greater than 30,000?\n",
      "\n"
     ]
    },
    {
     "name": "stderr",
     "output_type": "stream",
     "text": [
      "2024-06-13 09:57:22,020 - INFO - HTTP Request: POST https://wistron-apim-qas.wistron.com/openai/deployments/gpt-4-turbo/chat/completions?api-version=2024-03-01-preview \"HTTP/1.1 200 OK\"\n"
     ]
    },
    {
     "name": "stdout",
     "output_type": "stream",
     "text": [
      "> c:\\users\\8304018\\miniconda3\\envs\\mymlenv\\lib\\site-packages\\dspy\\predict\\program_of_thought.py(174)forward()\n",
      "    172         while hop < self.max_iters and error:\n",
      "    173             import pdb; pdb.set_trace() # hc debug\n",
      "--> 174             print(\"Error in code execution\")\n",
      "    175             input_kwargs.update({\"previous_code\": code, \"error\": error})\n",
      "    176             code_data = self.code_regenerate(**input_kwargs)\n",
      "\n"
     ]
    },
    {
     "name": "stdin",
     "output_type": "stream",
     "text": [
      "ipdb>  p error\n"
     ]
    },
    {
     "name": "stdout",
     "output_type": "stream",
     "text": [
      "'Evaluation of the code stopped at node 2. See:\\nWhile is not supported.'\n"
     ]
    },
    {
     "name": "stdin",
     "output_type": "stream",
     "text": [
      "ipdb>  p parsed_code\n"
     ]
    },
    {
     "name": "stdout",
     "output_type": "stream",
     "text": [
      "'def is_prime(n):\\n    if n <= 1:\\n        return False\\n    if n <= 3:\\n        return True\\n    if n % 2 == 0 or n % 3 == 0:\\n        return False\\n    i = 5\\n    while i * i <= n:\\n        if n % i == 0 or n % (i + 2) == 0:\\n            return False\\n        i += 6\\n    return True\\n\\ndef find_three_smallest_primes_above_30000():\\n    primes = []\\n    number = 30001\\n    while len(primes) < 3:\\n        if is_prime(number):\\n            primes.append(number)\\n        number += 1\\n    return primes\\n\\nanswer = find_three_smallest_primes_above_30000()\\nanswer'\n"
     ]
    },
    {
     "name": "stdin",
     "output_type": "stream",
     "text": [
      "ipdb>  print(parsed_code)\n"
     ]
    },
    {
     "name": "stdout",
     "output_type": "stream",
     "text": [
      "def is_prime(n):\n",
      "    if n <= 1:\n",
      "        return False\n",
      "    if n <= 3:\n",
      "        return True\n",
      "    if n % 2 == 0 or n % 3 == 0:\n",
      "        return False\n",
      "    i = 5\n",
      "    while i * i <= n:\n",
      "        if n % i == 0 or n % (i + 2) == 0:\n",
      "            return False\n",
      "        i += 6\n",
      "    return True\n",
      "\n",
      "def find_three_smallest_primes_above_30000():\n",
      "    primes = []\n",
      "    number = 30001\n",
      "    while len(primes) < 3:\n",
      "        if is_prime(number):\n",
      "            primes.append(number)\n",
      "        number += 1\n",
      "    return primes\n",
      "\n",
      "answer = find_three_smallest_primes_above_30000()\n",
      "answer\n"
     ]
    },
    {
     "name": "stdin",
     "output_type": "stream",
     "text": [
      "ipdb>  self.execute_code(parsed_code)\n"
     ]
    },
    {
     "name": "stdout",
     "output_type": "stream",
     "text": [
      "('def is_prime(n):\\n    if n <= 1:\\n        return False\\n    if n <= 3:\\n        return True\\n    if n % 2 == 0 or n % 3 == 0:\\n        return False\\n    i = 5\\n    while i * i <= n:\\n        if n % i == 0 or n % (i + 2) == 0:\\n            return False\\n        i += 6\\n    return True\\n\\ndef find_three_smallest_primes_above_30000():\\n    primes = []\\n    number = 30001\\n    while len(primes) < 3:\\n        if is_prime(number):\\n            primes.append(number)\\n        number += 1\\n    return primes\\n\\nanswer = find_three_smallest_primes_above_30000()\\nanswer', None, 'Evaluation of the code stopped at node 2. See:\\nWhile is not supported.')\n"
     ]
    },
    {
     "name": "stdin",
     "output_type": "stream",
     "text": [
      "ipdb>  q\n"
     ]
    }
   ],
   "source": [
    "run_pot_task(5, question=POT_TASKS[4], history=1)"
   ]
  },
  {
   "cell_type": "markdown",
   "id": "1cde6ef7-6314-47af-99bc-ef0f2575b7ce",
   "metadata": {},
   "source": [
    "#### Example 6: Program of Thought"
   ]
  },
  {
   "cell_type": "code",
   "execution_count": null,
   "id": "834e906c-109c-4d0c-ac41-c41f1ae84011",
   "metadata": {
    "tags": []
   },
   "outputs": [],
   "source": [
    "run_pot_task(6, question=POT_TASKS[5], history=1)"
   ]
  },
  {
   "cell_type": "markdown",
   "id": "116335cb-8fb6-4526-8ab5-62343ad291be",
   "metadata": {},
   "source": [
    "#### Example 7: Program of Thought"
   ]
  },
  {
   "cell_type": "code",
   "execution_count": null,
   "id": "49e224fd-6883-4a77-b50c-575c43efeefb",
   "metadata": {
    "tags": []
   },
   "outputs": [],
   "source": [
    "run_pot_task(7, question=POT_TASKS[6], history=1)"
   ]
  },
  {
   "cell_type": "markdown",
   "id": "db733e66-6bc4-4ca0-9d47-d6bc54a511fa",
   "metadata": {},
   "source": [
    "## All this is amazing! 😜 Feel the wizardy in Program of Thought reasoning 🧙‍♀️"
   ]
  }
 ],
 "metadata": {
  "kernelspec": {
   "display_name": "Python 3 (ipykernel)",
   "language": "python",
   "name": "python3"
  },
  "language_info": {
   "codemirror_mode": {
    "name": "ipython",
    "version": 3
   },
   "file_extension": ".py",
   "mimetype": "text/x-python",
   "name": "python",
   "nbconvert_exporter": "python",
   "pygments_lexer": "ipython3",
   "version": "3.10.0"
  }
 },
 "nbformat": 4,
 "nbformat_minor": 5
}
