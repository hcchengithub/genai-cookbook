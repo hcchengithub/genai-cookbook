{
 "cells": [
  {
   "cell_type": "markdown",
   "id": "39330ca8-0778-405c-8d1f-2c31e190ebde",
   "metadata": {
    "tags": []
   },
   "source": [
    "# Common NLP tasks using DSPy Signatures and Modules\n",
    "\n",
    "<img src=\"images/dspy_img.png\" height=\"35%\" width=\"%65\">\n",
    "\n",
    "### Quick overview DSPY Programming model\n",
    "DSPy is a framework for optimizing Language Model (LM) prompts and weights in complex systems, especially when using LMs multiple times within a pipeline. \n",
    "\n",
    "The process of using LMs without DSPy involves breaking down problems into steps, prompting the LM effectively for each step, adjusting steps to work together, generating synthetic examples for tuning, and finetuning smaller LMs to reduce costs. This process is currently challenging and messy, requiring frequent changes to prompts or finetuning steps whenever the pipeline, LM, or data are altered. \n",
    "\n",
    "DSPy addresses these issues by separating program flow from LM parameters and introducing new optimizers that tune LM prompts and/or weights based on a desired metric. DSPy can train powerful models like GPT-3.5 and GPT-4, as well as smaller models such as T5-base or Llama2-13b, to perform more reliably at tasks by optimizing their prompts and weights. \n",
    "\n",
    "DSPy optimizers generate custom instructions, few-shot prompts, and weight updates for each LM, creating a new paradigm where LMs and their prompts are treated as optimizable components of a larger learning system. \n",
    "\n",
    "In summary, DSPy enables less prompting, higher scores, and a more systematic approach to solving complex tasks using Language Models.\n",
    "\n",
    "**Summary**: \n",
    "1. DSPy is a framework for optimizing LM prompts and weights in complex systems.\n",
    "2. Using LMs without DSPy requires breaking down problems into steps, prompting effectively, adjusting steps, generating synthetic examples, and finetuning smaller LMs.\n",
    "3. This process is challenging due to frequent changes needed when altering pipelines, LMs, or data.\n",
    "4. DSPy separates program flow from LM parameters and introduces new optimizers that tune prompts and weights based on a metric.\n",
    "5. DSPy can train powerful and smaller models to perform more reliably at tasks by optimizing their prompts and weights.\n",
    "6. DSPy optimizers generate custom instructions, few-shot prompts, and weight updates for each LM.\n",
    "7. This new paradigm treats LMs and their prompts as optimizable components of a larger learning system.\n",
    "8. Less prompting is required with DSPy, leading to higher scores\n",
    "9. The approach is more systematic and addresses the challenges of using LMs in complex systems.\n",
    "10. DSPy enables a new way to train and utilize Language Models effectively\n",
    "\n",
    "### Signature\n",
    "\n",
    "\"A signature is a declarative specification of input/output behavior of a DSPy module. Signatures allow you to tell the LM what it needs to do, rather than specify how we should ask the LM to do it,\" states the docs.  \n",
    "\n",
    "A Signature is composition of three fields: \n",
    " * Task description\n",
    " * Input\n",
    " * Output\n",
    "\n",
    "<img src=\"images/dspy_signature.png\">\n",
    "\n",
    "A Signature class abstracts the above and allows you to express your tasks, with its\n",
    "input and output (response). Internally, the framework converts a Signature class\n",
    "into a prompt. Declaratively specifying the specs, they define and dictate the behavior of any module we use in DSPy. All Siganture implementation details of \n",
    "Signature employed in the this notebook to carry out common NLP tasks are defined in [DSPy Utils file](./dspy_utils.py).\n",
    "\n",
    "<img src=\"images/class_based_prompt_creation.png\">\n",
    "\n",
    "Implementation details of all the Signatures for this notebook to carry out\n",
    "all common NLP tasks is [DSPy Utils file](./dspy_utils.py).\n",
    "\n",
    "## Natural language processing (NLP) LLM Tasks\n",
    "\n",
    "The tasks explored in this notebook, using sophiscated DSPy declarative\n",
    "signatures, show *how-to* code examples for common natural language understanfing capabilites of a generalized LLM, such as ChatGPT, OLlama, Mistral, and Llama 3 series:\n",
    "\n",
    " * Text generation or completion\n",
    " * Text summarization\n",
    " * Text extraction\n",
    " * Text classification or sentiment analysis\n",
    " * Text categorization\n",
    " * Text transformation and translation\n",
    " * Simple and complex reasoning\n",
    "\n",
    "**Note**: \n",
    "To run any of these relevant notebooks you will need to install OLlama on the local\n",
    "latop or use any LLM-hosted provder service: OpenAI, Anyscale Endpoints, Anthropic, etc.\n"
   ]
  },
  {
   "cell_type": "code",
   "execution_count": 26,
   "id": "99369e9f-e46b-4522-8527-dc065a99b70e",
   "metadata": {
    "tags": []
   },
   "outputs": [],
   "source": [
    "import dspy, json, pickle\n",
    "import pandas as pd"
   ]
  },
  {
   "cell_type": "code",
   "execution_count": 2,
   "id": "43de8846-e9e2-4c13-8787-172a09398e25",
   "metadata": {
    "tags": []
   },
   "outputs": [],
   "source": [
    "_file_ = \"04_dspy_common_nlp_llm_tasks.ipynb\""
   ]
  },
  {
   "cell_type": "code",
   "execution_count": null,
   "id": "3e03c707-0dbe-4cc9-b906-12380355bf0c",
   "metadata": {
    "tags": []
   },
   "outputs": [],
   "source": [
    "from dspy_utils import TextCompletion, SummarizeText, \\\n",
    "    SummarizeTextAndExtractKeyTheme, TranslateText, \\\n",
    "    TextTransformationAndCorrection, TextCorrection, GenerateJSON, \\\n",
    "    ClassifyEmotion, TextCategorizationAndSentimentAnalsysis, \\\n",
    "    TranslateTextToLanguage, SimpleAndComplexReasoning, WordMathProblem, \\\n",
    "    BOLD_BEGIN, BOLD_END"
   ]
  },
  {
   "cell_type": "code",
   "execution_count": null,
   "id": "15552ff4-1a7e-4fd1-9dc9-d047c038012e",
   "metadata": {
    "tags": []
   },
   "outputs": [],
   "source": [
    "BOLD_BEGIN = \"<b>\"\n",
    "BOLD_END = \"</b>\"\n"
   ]
  },
  {
   "cell_type": "markdown",
   "id": "1100b6ed-f27b-4f07-84e7-507cea8f1cb6",
   "metadata": {},
   "source": [
    "### Setup OLlama environment on the local machine"
   ]
  },
  {
   "cell_type": "raw",
   "id": "b2e39ffe-267d-47a1-9ca7-49cbcbf03a34",
   "metadata": {},
   "source": [
    "ollama_mistral = dspy.OllamaLocal(model='mistral', max_tokens=2500)\n",
    "dspy.settings.configure(lm=ollama_mistral)"
   ]
  },
  {
   "cell_type": "code",
   "execution_count": 4,
   "id": "4c70d636-edf3-49e3-b1f2-c3cee3ed1852",
   "metadata": {
    "tags": []
   },
   "outputs": [
    {
     "name": "stdout",
     "output_type": "stream",
     "text": [
      "env: OPENAI_API_KEY=\n"
     ]
    }
   ],
   "source": [
    "%env OPENAI_API_KEY=\n",
    "openai_api_key = %env OPENAI_API_KEY"
   ]
  },
  {
   "cell_type": "code",
   "execution_count": 5,
   "id": "8a3c061e-884b-4346-9aa3-98a69b101658",
   "metadata": {
    "scrolled": true,
    "tags": []
   },
   "outputs": [
    {
     "name": "stderr",
     "output_type": "stream",
     "text": [
      "2024-06-15 03:45:47,654 - INFO - Start\n",
      "2024-06-15 03:45:49,583 - ERROR - Error! can not get Columbus access token. Chech columbus_api.json.\n",
      "2024-06-15 03:45:49,600 - INFO - Columbus class ready\n",
      "2024-06-15 03:45:50,513 - ERROR - Columbus access token error: check your evns.\n",
      "2024-06-15 03:45:50,516 - INFO - get_llm_for_DSPy modelname=gpt-3.5-turbo, apikey=''\n",
      "2024-06-15 03:45:50,518 - INFO - get_llm_for_DSPy OpenAI\n"
     ]
    }
   ],
   "source": [
    "from columbus_api import Columbus\n",
    "columbus = Columbus()\n",
    "llm = columbus.get_llm_for_DSPy(\"gpt-3.5-turbo\", openai_api_key=openai_api_key)\n",
    "llm.kwargs['max_tokens']=1500"
   ]
  },
  {
   "cell_type": "code",
   "execution_count": 6,
   "id": "3d1c5ffa-7e76-43b0-bb41-12a570caa71b",
   "metadata": {
    "tags": []
   },
   "outputs": [
    {
     "data": {
      "text/plain": [
       "['Hello! How can I assist you today?']"
      ]
     },
     "execution_count": 6,
     "metadata": {},
     "output_type": "execute_result"
    }
   ],
   "source": [
    "# llm.kwargs['extra_headers']['Authorization'] = f\"Bearer {columbus.get_access_token()}\"    \n",
    "llm(\"Hello World!\")"
   ]
  },
  {
   "cell_type": "code",
   "execution_count": 7,
   "id": "b2608a75-cdf6-460e-8d33-e277e46a1fbf",
   "metadata": {
    "tags": []
   },
   "outputs": [],
   "source": [
    "dspy.settings.configure(lm=llm)"
   ]
  },
  {
   "cell_type": "raw",
   "id": "2a0554fa-cf49-42a1-9060-4bcd34ff7776",
   "metadata": {
    "tags": []
   },
   "source": [
    "MODEL = \"ollama/mistral\"\n",
    "print(f\"Using MODEL={MODEL}; base=localhost\")"
   ]
  },
  {
   "cell_type": "markdown",
   "id": "b2f06061-ea86-4e09-b006-9a0c61f92e33",
   "metadata": {
    "tags": []
   },
   "source": [
    "## NLP Task 1: Text Generation and Completion\n",
    "Use class signatures for text completion\n",
    "\n",
    "In this simple task, we use an LLM to generate text by finishing an incomplete user content provided in the prompt. For example, by providing an incomplete prompt such as \"On a cold winter night, the stray dog ...\". \n",
    "\n",
    "Let's try a few text generation or completion tasks by providing partial prompts in the user content. You will surprised at its fluency and coherency in the generated text."
   ]
  },
  {
   "cell_type": "code",
   "execution_count": null,
   "id": "07fbcbf8-0ccc-4fd4-a27d-a27c1ad14ad0",
   "metadata": {
    "tags": []
   },
   "outputs": [],
   "source": [
    "PROMPTS =  [\"On cold winter nights, the wolves in Siberia ...\",\n",
    "                 \"On the day Franklin Benjamin realized his passion for printer, ...\",\n",
    "                 \"During the final World Cup 1998 when France beat Brazil in Paris, ...\",\n",
    "                 \"Issac Newton set under a tree when an apple fell...\"\n",
    "            ]"
   ]
  },
  {
   "cell_type": "code",
   "execution_count": null,
   "id": "013638c9-9853-4a20-a04f-16f3fb661778",
   "metadata": {
    "tags": []
   },
   "outputs": [],
   "source": [
    "print(\"NLP Task 1: Text Generation and Completion\")\n",
    "# Create an instance module Predict with Signature TextCompletion\n",
    "complete = dspy.Predict(TextCompletion)\n",
    "# loop over all prompts\n",
    "for prompt in PROMPTS:\n",
    "    response = complete(in_text=prompt)\n",
    "    print(f\"{BOLD_BEGIN}Prompt:{BOLD_END}\")\n",
    "    print(prompt)\n",
    "    print(f\"{BOLD_BEGIN}Completion: {BOLD_END}\")\n",
    "    print(response.out_text)\n",
    "    print(\"-------------------\")"
   ]
  },
  {
   "cell_type": "markdown",
   "id": "9906ef51-6bf1-4bf0-82c1-0869756e5c9c",
   "metadata": {
    "tags": []
   },
   "source": [
    "### Inspect the Prompt generated for the LLM"
   ]
  },
  {
   "cell_type": "code",
   "execution_count": null,
   "id": "aff01071-9ead-4d1c-bbd9-8e587c8415ea",
   "metadata": {
    "tags": []
   },
   "outputs": [],
   "source": [
    "# Print the prompt history\n",
    "print(\"Prompt history:\")\n",
    "# print(ollama_mistral.history[0][\"prompt\"])\n",
    "print(llm.history[0][\"prompt\"])\n",
    "print(\"-------------------\")"
   ]
  },
  {
   "cell_type": "markdown",
   "id": "66e03d54-6200-4664-9a6d-13fe8297e0cb",
   "metadata": {
    "tags": []
   },
   "source": [
    "## NLP Task 2: Text Summarization\n",
    "Use Signatures class module for summarization\n",
    "\n",
    "A common task in natural langauge processing is text summiarization. A common use case\n",
    "is summarizing large articles or documents, for a quick and easy-to-absorb summaries.\n",
    "\n",
    "You can instruct LLM to generate the response in a preferable style, and comprehensibility. For example, use simple language aimed for a certain grade level, keep the orginal style of the article, use different sentence sytles (as we have done in few of examples in this notebook and previous one).\n",
    "\n",
    "Let's try a few examples."
   ]
  },
  {
   "cell_type": "code",
   "execution_count": null,
   "id": "85736577-b4ee-466e-90c8-a810849fe172",
   "metadata": {
    "tags": []
   },
   "outputs": [],
   "source": [
    "user_prompts = [\n",
    "    \"\"\" The emergence of large language models (LLMs) has marked a significant \n",
    "         breakthrough in natural language processing (NLP), leading to remarkable \n",
    "         advancements in text understanding and generation. \n",
    "         \n",
    "         Nevertheless, alongside these strides, LLMs exhibit a critical tendency \n",
    "         to produce hallucinations, resulting in content that is inconsistent with \n",
    "         real-world facts or user inputs. This phenomenon poses substantial challenges \n",
    "         to their practical deployment and raises concerns over the reliability of LLMs \n",
    "         in real-world scenarios, which attracts increasing attention to detect and \n",
    "         mitigate these hallucinations. In this survey, we aim to provide a thorough and \n",
    "         in-depth  overview of recent advances in the field of LLM hallucinations. \n",
    "         \n",
    "         We begin with an innovative taxonomy of LLM hallucinations, then delve into the \n",
    "         factors contributing to hallucinations. Subsequently, we present a comprehensive\n",
    "         overview of hallucination detection methods and benchmarks. \n",
    "         Additionally, representative approaches designed to mitigate hallucinations \n",
    "         are introduced accordingly. \n",
    "         \n",
    "         Finally, we analyze the challenges that highlight the current limitations and \n",
    "         formulate open questions, aiming to delineate pathways for future  research on \n",
    "         hallucinations in LLMs.\"\"\",\n",
    "    \"\"\"  Can a Large Language Model (LLM) solve simple abstract reasoning problems?\n",
    "         We explore this broad question through a systematic analysis of GPT on the \n",
    "         Abstraction and Reasoning Corpus (ARC), a representative benchmark of abstract \n",
    "         reasoning ability from limited examples in which solutions require some \n",
    "         \"core knowledge\" of concepts such as objects, goal states, counting, and \n",
    "         basic geometry. GPT-4 solves only 13/50 of the most straightforward ARC \n",
    "         tasks when using textual encodings for their two-dimensional input-output grids. \n",
    "         Our failure analysis reveals that GPT-4's capacity to identify objects and \n",
    "         reason about them is significantly influenced by the sequential nature of \n",
    "         the text that represents an object within a text encoding of a task. \n",
    "         To test this hypothesis, we design a new benchmark, the 1D-ARC, which \n",
    "         consists of one-dimensional (array-like) tasks that are more conducive \n",
    "         to GPT-based reasoning, and where it indeed performs better than on \n",
    "         the (2D) ARC. To alleviate this issue, we propose an object-based \n",
    "         representation that is obtained through an external tool, resulting in \n",
    "         nearly doubling the performance on solved ARC tasks and near-perfect scores \n",
    "         on the easier 1D-ARC. Although the state-of-the-art GPT-4 is unable to \n",
    "         \"reason\" perfectly within non-language domains such as the 1D-ARC or a \n",
    "         simple ARC subset, our study reveals that the use of object-based representations \n",
    "         can significantly improve its reasoning ability. Visualizations, GPT logs, and \n",
    "         data are available at this https URL.\"\"\",\n",
    "    \"\"\" DSPy is a framework for optimizing Language Model (LM) prompts and weights in \n",
    "        complex systems, especially when using LMs multiple times within a pipeline. \n",
    "        The process of using LMs without DSPy involves breaking down problems into steps, \n",
    "        prompting the LM effectively for each step, adjusting steps to work together, \n",
    "        generating synthetic examples for tuning, and finetuning smaller LMs to reduce costs.\n",
    "        This process is currently challenging and messy, requiring frequent changes to prompts\n",
    "        or finetuning steps whenever the pipeline, LM, or data are altered. DSPy addresses \n",
    "        these issues by separating program flow from LM parameters and introducing new \n",
    "        optimizers that tune LM prompts and/or weights based on a desired metric. \n",
    "        DSPy can train powerful models like GPT-3.5 and GPT-4, as well as smaller \n",
    "        models such as T5-base or Llama2-13b, to perform more reliably at tasks \n",
    "        by optimizing their prompts and weights. DSPy optimizers generate custom \n",
    "        instructions, few-shot prompts, and weight updates for each LM, creating a \n",
    "        new paradigm where LMs and their prompts are treated as optimizable components\n",
    "        of a larger learning system. In summary, DSPy enables less prompting, higher \n",
    "        scores, and a more systematic approach to solving complex tasks using \n",
    "        Language Models.\n",
    "    \"\"\"\n",
    "]"
   ]
  },
  {
   "cell_type": "code",
   "execution_count": null,
   "id": "4837c80b-e5b3-4223-9d35-120a686be58e",
   "metadata": {
    "tags": []
   },
   "outputs": [],
   "source": [
    "print(\"NLP Task 2: Text Summarization\")\n",
    "# Create an instance module Predict with Signature SummarizeText\n",
    "summarize = dspy.Predict(SummarizeText)\n",
    "for prompt in user_prompts:\n",
    "    print(f\"{BOLD_BEGIN}Summarization of text response:{BOLD_END}\")\n",
    "    response = summarize(text=prompt)\n",
    "    print(response.summary)\n",
    "    print(\"-------------------\")"
   ]
  },
  {
   "cell_type": "markdown",
   "id": "affe9c30-bf89-49ee-80c8-c5d260b91914",
   "metadata": {
    "tags": []
   },
   "source": [
    "## NLP Task 3: Text Summarization and Key Theme Extraction\n",
    "Use Signature class module for summarization and key theme extraction\n",
    "\n",
    "Another natural langauge capability, similar to summarization or text completion, is extracting key idea or infromation from an article, blog, or a paragraph. For example,\n",
    "given a set of text, you can ask LLM to extract key ideas or topics or subjects. Or even\n",
    "better enumerate key takeways for you, saving time if you are in a hurry.\n",
    "\n",
    "### Task\n",
    " * Given a passage from an article, extract the main theme of the passage and label it as the `Subjects`, if more than one, separated by comma.\n",
    " * Identify three key takeways and enumerate them in simple sentences"
   ]
  },
  {
   "cell_type": "code",
   "execution_count": null,
   "id": "3cdcd4d4-62c7-4dea-b98a-58070552c892",
   "metadata": {
    "tags": []
   },
   "outputs": [],
   "source": [
    "SUMMARY_THEME = \"\"\"Isaac Newton sat under a tree when an apple fell, an event that, \n",
    "                according to popular legend, led to his contemplation of the forces\n",
    "                of gravity. Although this story is often regarded as apocryphal or at \n",
    "                least exaggerated, it serves as a powerful symbol of Newton's insight \n",
    "                into the universal law that governs celestial and earthly bodies alike. \n",
    "                His formulation of the law of universal gravitation was revolutionary, \n",
    "                as it provided a mathematical explanation for both the motion of planets \n",
    "                and the phenomena observed on Earth. Newton's work in physics, captured \n",
    "                in his seminal work Philosophiæ Naturalis Principia Mathematica, laid the \n",
    "                groundwork for classical mechanics. His influence extended beyond his own \n",
    "                time, shaping the course of scientific inquiry for centuries to come.\n",
    "                \"\"\""
   ]
  },
  {
   "cell_type": "code",
   "execution_count": null,
   "id": "1a15d2e1-b488-4a42-bec3-acf46ed404ce",
   "metadata": {
    "tags": []
   },
   "outputs": [],
   "source": [
    "print(\"NLP Task 3: Text Summarization and Key Theme Extraction\")\n",
    "summarize_theme = dspy.Predict(SummarizeTextAndExtractKeyTheme)\n",
    "print(f\"{BOLD_BEGIN}Summarization:{BOLD_END}\")\n",
    "response = summarize_theme(text=SUMMARY_THEME)\n",
    "print(response.summary)\n",
    "print(f\"{BOLD_BEGIN}Key Themes:{BOLD_END}\")\n",
    "response.key_themes = response.key_themes.split(\"\\n\")\n",
    "print(response.key_themes)\n",
    "print(f\"{BOLD_BEGIN}Takeaways:{BOLD_END}\")\n",
    "print(response.takeaways)\n",
    "print(\"-------------------\")"
   ]
  },
  {
   "cell_type": "markdown",
   "id": "113abb50-6a73-4101-8846-e8f26d85bb9c",
   "metadata": {
    "tags": []
   },
   "source": [
    "### Task\n",
    "Let's try another example to extract more than one subject or topic being\n",
    "discussed in the text, and enumerate three takeways.\n",
    "\n",
    "(Incidentally, I'm reading biography of Benjamin Franklin by Issac Stevenson, and all this seems to align with his career path and passion.)"
   ]
  },
  {
   "cell_type": "code",
   "execution_count": null,
   "id": "f34ceebf-c1b6-495b-8c78-81d2fc45baff",
   "metadata": {
    "tags": []
   },
   "outputs": [],
   "source": [
    "user_stories = [\"\"\"\"\n",
    "'The Printer'\n",
    "    He that has a Trade has an Office of Profit and Honour’ Poor Richard’s Almanack\n",
    "Benjamin Franklin had an affinity with print and books throughout his life. \n",
    "Apprenticed as a child to his brother James, a printer, he mastered all aspects of\n",
    "the trade, from typesetting to engraving, learning the latest techniques during his\n",
    "first visit to London.  An avid reader, Franklin saved money to buy books by \n",
    "temporarily turning vegetarian and, once settled in Philadelphia, founded the \n",
    "Library Company, the first subscription library in the colonies.  As an elder\n",
    "statesman, he even bought type and kept a press during his stay in France. \n",
    "After working as a printer’s journeyman, he set up his own Philadelphian printing \n",
    "office in 1728.  His success with the Pennslyannia Gazette and Poor Richard’s\n",
    "Almanack helped to provide Franklin with the financial means to retire from\n",
    "business, retaining a stake in his print shop and founding others throughout the \n",
    "colonies.  Print also gave him a public voice: Franklin preferred the printed word, \n",
    "rather than public rhetoric, influencing political and public opinion as a brilliant\n",
    "journalist and pamphleteer.\n",
    "\n",
    "'Silence Dogood and the New­England Courant'\n",
    "    When James Franklin lost the contract to print the Boston Gazette, he determined\n",
    "to begin his own newspaper, launching the New­England Courant in 1721.\n",
    "Benjamin, who had been indentured secretly to James, helped to print the weekly \n",
    "paper.  One night he slipped a composition under the door, beginning the series\n",
    "of ‘Silence Dogood’ letters, the purported epistles of a vocal widower, with strong \n",
    "opinions on drunks, clergymen, foolish fashions and Boston nightlife. Owing no\n",
    "little debt to the satire of the London Spectator, the letters represented a \n",
    "remarkable literary achievement for the 16­year old.  The British Library’s copy has \n",
    "been uniquely annotated in what appears to be Franklin’s hand. The first \n",
    "‘Dogood’ letter appears on the bottom right.\n",
    "\n",
    "‘The Main Design of the Weekly Paper will be to Entertain the Town’\n",
    "    Benjamin’s brother, James, began the New­England Courant in the face of\n",
    "opposition from the Boston Establishment.  He soon irritated them with his squibs\n",
    "and satires on the great and the good, attacking the influential clergyman Cotton\n",
    "Mather’s pet project of small pox inoculation and the authorities’ weak response \n",
    "to piracy. Twice arrested, James temporally left the paper in Benjamin’s hands, and \n",
    "then continued to publish it under Benjamin’s name to escape a ban on\n",
    "publication.  This issue is the first printed item to carry the imprint ‘B. Franklin’ (on\n",
    "the rear).  Franklin announces his intention to ‘Entertain the Town’ on this page.\n",
    "\"\"\"]"
   ]
  },
  {
   "cell_type": "code",
   "execution_count": null,
   "id": "1909a1b5-68fa-449c-9d40-0d4494b75b93",
   "metadata": {
    "tags": []
   },
   "outputs": [],
   "source": [
    "print(\"NLP Task 3: Text Summarization and Key Theme Extraction\")\n",
    "\n",
    "# Iterate over stories\n",
    "for story in user_stories:\n",
    "    summarize_theme = dspy.Predict(SummarizeTextAndExtractKeyTheme)\n",
    "    print(f\"{BOLD_BEGIN}Summarization:{BOLD_END}\")\n",
    "    response = summarize_theme(text=story)\n",
    "    print(response.summary)\n",
    "    print(f\"{BOLD_BEGIN}Key Themes:{BOLD_END}\")\n",
    "    response.key_themes = response.key_themes.split(\"\\n\")\n",
    "    print(response.key_themes)\n",
    "    print(f\"{BOLD_BEGIN}Takeaways:{BOLD_END}\")\n",
    "    print(response.takeaways)\n",
    "    print(\"-------------------\")"
   ]
  },
  {
   "cell_type": "markdown",
   "id": "08da3189-e9d0-42c9-9f70-d403df9e0dc5",
   "metadata": {
    "tags": []
   },
   "source": [
    "## NLP Task 4: Text classification or sentiment analysis\n",
    "\n",
    "Unlike classical or traditional machine learning, where you'll have to do supervised learning to collect data, label it, and train for hours, depending on how much data,classifying text using LLM is simple.\n",
    "\n",
    "In short, you'll have to build an ML model to understand text and classify its sentiments as positive, negative or neutral. \n",
    "\n",
    "This onus task is easily done with LLM via clever prompting. \n",
    "\n",
    "Let's see what I mean in this *how-to* idenfity sentiments in text. But first let's \n",
    "generatre some sentiments as our ground truth, and supply them to LLM to observe if\n",
    "LLM identifies them correctly. This bit is not needed, for I'm just curious.\n",
    "\n",
    "*Positive*: \"This movie is a true cinematic gem, blending an engaging plot with superb performances and stunning visuals. A masterpiece that leaves a lasting impression.\"\n",
    "\n",
    "*Negative*: \"Regrettably, the film failed to live up to expectations, with a convoluted storyline, lackluster acting, and uninspiring cinematography. A disappointment overall.\"\n",
    "\n",
    "*Neutral*: \"The movie had its moments, offering a decent storyline and average performances. While not groundbreaking, it provided an enjoyable viewing experience.\"\n",
    "\n",
    "*Positive*: \"This city is a vibrant tapestry of culture, with friendly locals, historic landmarks, and a lively atmosphere. An ideal destination for cultural exploration.\"\n",
    "\n",
    "*Negative*: \"The city's charm is overshadowed by traffic congestion, high pollution levels, and a lack of cleanliness. Not recommended for a peaceful retreat.\"\n",
    "\n",
    "*Neutral*: \"The city offers a mix of experiences, from bustling markets to serene parks. An interesting but not extraordinary destination for exploration.\"\n",
    "\n",
    "*Positive*: \"This song is a musical masterpiece, enchanting listeners with its soulful lyrics, mesmerizing melody, and exceptional vocals. A timeless classic.\"\n",
    "\n",
    "*Negative*: \"The song fails to impress, featuring uninspiring lyrics, a forgettable melody, and lackluster vocals. It lacks the creativity to leave a lasting impact.\"\n",
    "\n",
    "*Neutral*: \"The song is decent, with a catchy tune and average lyrics. While enjoyable, it doesn't stand out in the vast landscape of music.\"\n",
    "\n",
    "*Positive*: \"A delightful cinematic experience that seamlessly weaves together a compelling narrative, strong character development, and breathtaking visuals.\"\n",
    "\n",
    "*Negative*: \"This film, unfortunately, falls short with a disjointed plot, subpar performances, and a lack of coherence. A disappointing viewing experience.\"\n",
    "\n",
    "*Neutral*: \"While not groundbreaking, the movie offers a decent storyline and competent performances, providing an overall satisfactory viewing experience.\"\n",
    "\n",
    "*Positive*: \"This city is a haven for culture enthusiasts, boasting historical landmarks, a rich culinary scene, and a welcoming community. A must-visit destination.\"\n",
    "\n",
    "*Negative*: \"The city's appeal is tarnished by overcrowded streets, noise pollution, and a lack of urban planning. Not recommended for a tranquil getaway.\"\n",
    "\n",
    "*Neutral*: \"The city offers a diverse range of experiences, from bustling markets to serene parks. An intriguing destination for those seeking a mix of urban and natural landscapes.\""
   ]
  },
  {
   "cell_type": "code",
   "execution_count": null,
   "id": "26fba25e-e40b-40fc-84b5-0a86df748b9c",
   "metadata": {
    "tags": []
   },
   "outputs": [],
   "source": [
    "user_sentiments = [ \"This movie is a true cinematic gem, blending an engaging plot with superb performances and stunning visuals. A masterpiece that leaves a lasting impression.\",\n",
    "                    \"Regrettably, the film failed to live up to expectations, with a convoluted storyline, lackluster acting, and uninspiring cinematography. A disappointment overall.\",\n",
    "                    \"The movie had its moments, offering a decent storyline and average performances. While not groundbreaking, it provided an enjoyable viewing experience.\",\n",
    "                    \"This city is a vibrant tapestry of culture, with friendly locals, historic landmarks, and a lively atmosphere. An ideal destination for cultural exploration.\",\n",
    "                    \"The city's charm is overshadowed by traffic congestion, high pollution levels, and a lack of cleanliness. Not recommended for a peaceful retreat.\",\n",
    "                    \"The city offers a mix of experiences, from bustling markets to serene parks. An interesting but not extraordinary destination for exploration.\",\n",
    "                    \"This song is a musical masterpiece, enchanting listeners with its soulful lyrics, mesmerizing melody, and exceptional vocals. A timeless classic.\",\n",
    "                    \"The song fails to impress, featuring uninspiring lyrics, a forgettable melody, and lackluster vocals. It lacks the creativity to leave a lasting impact.\",\n",
    "                    \"The song is decent, with a catchy tune and average lyrics. While enjoyable, it doesn't stand out in the vast landscape of music.\",\n",
    "                    \"A delightful cinematic experience that seamlessly weaves together a compelling narrative, strong character development, and breathtaking visuals.\",\n",
    "                    \"This film, unfortunately, falls short with a disjointed plot, subpar performances, and a lack of coherence. A disappointing viewing experience.\",\n",
    "                    \"While not groundbreaking, the movie offers a decent storyline and competent performances, providing an overall satisfactory viewing experience.\",\n",
    "                    \"This city is a haven for culture enthusiasts, boasting historical landmarks, a rich culinary scene, and a welcoming community. A must-visit destination.\",\n",
    "                    \"The city's appeal is tarnished by overcrowded streets, noise pollution, and a lack of urban planning. Not recommended for a tranquil getaway.\",\n",
    "                    \"The city offers a diverse range of experiences, from bustling markets to serene parks. An intriguing destination for those seeking a mix of urban and natural landscapes.\",\n",
    "                    \"xxxyyyzzz was curious and dubious\"\n",
    "]"
   ]
  },
  {
   "cell_type": "code",
   "execution_count": null,
   "id": "4bae549c-fa32-46e8-af19-83f923222e3e",
   "metadata": {
    "tags": []
   },
   "outputs": [],
   "source": [
    "# Create an instance of ClassifyEmotion signature class\n",
    "# module\n",
    "print(\"NLP Task 4: Text classification or sentiment analysis\")\n",
    "classify = dspy.Predict(ClassifyEmotion)\n",
    "\n",
    "# Iterate over list of sentiments\n",
    "for sentiment in user_sentiments:\n",
    "    print(f\"\\n{BOLD_BEGIN}Sentiment:{BOLD_END} {sentiment}\")\n",
    "    response = classify(sentence=sentiment)\n",
    "    print(f\"\\n{BOLD_BEGIN}Label    :{BOLD_END}\")\n",
    "    print(response.sentiment)\n",
    "    print(\"---\" * 10)\n",
    "    "
   ]
  },
  {
   "cell_type": "markdown",
   "id": "6f520fec-af04-4b97-8e66-3187e34b5566",
   "metadata": {
    "tags": []
   },
   "source": [
    "## NLP Task 5:  Text categorization\n",
    "Like sentiment analysis, given a query, an LLM can identify from its context how to classify and route customer queries to respective departments. Also, note that LLM can detect foul language and respond politely. Text categorization can be employed to automate customer on-line queries.\n",
    "\n",
    "Let's look at how we can achieve that with DSPy without smart prompting."
   ]
  },
  {
   "cell_type": "code",
   "execution_count": null,
   "id": "75b9307f-a2b3-4393-8e5a-5d7af520ebd5",
   "metadata": {
    "tags": []
   },
   "outputs": [],
   "source": [
    "customer_queries = [\"\"\"My modem has stop working. I tried to restart but the orange light keep flashing. It never turns green.\"\"\",\n",
    "                    \"\"\"I just moved into town, and I need Internet service\"\"\",\n",
    "                    \"\"\"Why does my bill include an extra $20 a month for cable TV when I don't use a television?\"\"\",\n",
    "                    \"\"\"I need to change my user name and password since someone is using my credentials. I cannot access my account.\"\"\",\n",
    "                    \"\"\"What days this week are we having a general upgrades to the cable models?\"\"\",\n",
    "                    \"\"\"What day is the best day to call customer service so that I can avoid talking to a bot!\"\"\",\n",
    "                    \"\"\"Your company is full of incompetent morons and fools!\"\"\",\n",
    "                    \"\"\"I hate your worthless services. Cancel my stupid account or else I'll sue you!\"\"\"\n",
    "                   ]\n",
    "                    "
   ]
  },
  {
   "cell_type": "code",
   "execution_count": null,
   "id": "36fe82a0-9486-4e8c-b573-3bb71d7a71b9",
   "metadata": {
    "tags": []
   },
   "outputs": [],
   "source": [
    "# Create an instance of TextCategorizationAndSentimentAnalsysis \n",
    "# signature class module\n",
    "print(\"NLP Task 4: Text categorization and sentiment analysis of the user queries\")\n",
    "categorize = dspy.Predict(TextCategorizationAndSentimentAnalsysis)\n",
    "for query in customer_queries:\n",
    "    response = categorize(text=query)\n",
    "    print(f\"{BOLD_BEGIN}Query   :{BOLD_END} {query}\")\n",
    "    print(f\"{BOLD_BEGIN}Route to:{BOLD_END} {response.category}\")\n",
    "    print(f\"{BOLD_BEGIN}Sentiment:{BOLD_END} {response.sentiment}\")\n",
    "    print(\"-----\" * 10)"
   ]
  },
  {
   "cell_type": "markdown",
   "id": "05333b92-c3fb-4341-b59d-82eeb7a65071",
   "metadata": {
    "tags": []
   },
   "source": [
    "## NLP Task 6: Text tranlsation and transformation\n",
    "\n",
    "Language translation by far is the most common use case for natural language processing. \n",
    "We have seen its early uses in Google translation, but with the emergence of multi-lingual LLMs, this task is simply achieved by exact prompting. \n",
    "\n",
    "In this section, we'll explore tasks in how to use LLMs for text translations, langugage identication, text transformation, spelling and grammar checking, tone adjustment, and format conversion.\n",
    "\n",
    "### Task 1:\n",
    " * Given an English text, translate into French, Spanish, and German.\n",
    " * Given a foreign language text, idenfify the language, and translate to English."
   ]
  },
  {
   "cell_type": "code",
   "execution_count": null,
   "id": "9e9dcecd-8c00-45d6-af45-af19ee7bffc6",
   "metadata": {
    "tags": []
   },
   "outputs": [],
   "source": [
    "english_texts = [\"\"\" Welcome to New York for the United Nations General Council Meeting. Today\n",
    "is a special day for us to celeberate all our achievments since this global institute's formation.\n",
    "But more importantly, we want to address how we can mitigate global conflict with conversation\n",
    "and promote deterence, detente, and discussion.\"\"\"\n",
    "]"
   ]
  },
  {
   "cell_type": "code",
   "execution_count": null,
   "id": "2f3f97f7-8370-4f20-befc-3d8d98b54fb8",
   "metadata": {
    "tags": []
   },
   "outputs": [],
   "source": [
    "print(\"NLP Task 4: Text Translation and Transliteration\")\n",
    "translate = dspy.Predict(TranslateText)\n",
    "for text in english_texts: \n",
    "    response = translate(text=text)\n",
    "    print(f\"{BOLD_BEGIN}Language Text:{BOLD_END} {response.language}\")\n",
    "    print(f\"{BOLD_BEGIN}Translated Text:{BOLD_END}\")\n",
    "    print(response.translated_text)\n",
    "    print(\"---\" * 10)"
   ]
  },
  {
   "cell_type": "markdown",
   "id": "b4dae09d-5198-42a6-896b-347f260fe3eb",
   "metadata": {
    "tags": []
   },
   "source": [
    "Given a foreing language, identify the language and translate into English.\n",
    "\n",
    "This is the reverse of the above."
   ]
  },
  {
   "cell_type": "code",
   "execution_count": null,
   "id": "a366e171-38b6-4d8d-928a-a36ec0137a93",
   "metadata": {
    "tags": []
   },
   "outputs": [],
   "source": [
    "languages_texts = [\"\"\"Bienvenidos a Nueva York para la Reunión del Consejo General de las Naciones Unidas. Hoy\n",
    "es un día especial para celebrar todos nuestros logros desde la formación de este instituto global.\n",
    "Pero más importante aún, queremos abordar cómo podemos mitigar el conflicto global con conversaciones\n",
    "y promover la disuasión, la distensión y el diálogo.\"\"\",\n",
    "            \"\"\"Willkommen in New York zur Sitzung des Allgemeinen Rates der Vereinten Nationen. Heute\n",
    "ist ein besonderer Tag für uns, um all unsere Errungenschaften seit der Gründung dieses globalen Instituts zu feiern.\n",
    "Aber wichtiger ist, dass wir ansprechen möchten, wie wir globale Konflikte durch Gespräche mildern können\n",
    "und Abschreckung, Entspannung und Diskussion fördern.\"\"\",\n",
    "                  \"\"\"Bienvenue à New York pour la réunion du Conseil Général des Nations Unies. Aujourd'hui,\n",
    "c'est un jour spécial pour nous pour célébrer toutes nos réalisations depuis la formation de cette institution mondiale.\n",
    "Mais plus important encore, nous voulons aborder comment nous pouvons atténuer les conflits mondiaux grâce à la conversation\n",
    "et promouvoir la dissuasion, la détente et la discussion.\"\"\",\n",
    "                  \"\"\"欢迎来到纽约参加联合国大会议。今天对我们来说是一个特别的日子，我们将庆祝自该全球机构成立以来取得的所有成就。但更重要的是，我们想要讨论如何通过对话来缓解全球冲突，并促进遏制、缓和和讨论。\n",
    "\"\"\"]\n"
   ]
  },
  {
   "cell_type": "code",
   "execution_count": null,
   "id": "9e0b1fc2-9014-40be-8ec8-5f7528ee0997",
   "metadata": {
    "tags": []
   },
   "outputs": [],
   "source": [
    "print(\"NLP Task 4: Text Translation and Transliteration\")\n",
    "translate = dspy.Predict(TranslateTextToLanguage)\n",
    "for text in languages_texts:\n",
    "    response = translate(text=text)\n",
    "    print(f\"{BOLD_BEGIN}Language Text:{BOLD_END} {response.language}\")\n",
    "    print(f\"{BOLD_BEGIN}Translated Text:{BOLD_END}\")\n",
    "    print(response.translated_text)\n",
    "    print(\"-------------------\")"
   ]
  },
  {
   "cell_type": "markdown",
   "id": "e8740e21-ea45-4b38-a0f7-753ef48a02aa",
   "metadata": {
    "tags": []
   },
   "source": [
    "### Task 2\n",
    "\n",
    " * Text Correction for Grammatical Errors\n",
    " * Given an English text, proof read it and correct any grammatical and usage errors.\n",
    " * Given a Pirate text, correct its tone to standard English.\n"
   ]
  },
  {
   "cell_type": "code",
   "execution_count": null,
   "id": "a31e6bb8-83dd-4f0a-9036-a58e305e7d7a",
   "metadata": {
    "tags": []
   },
   "outputs": [],
   "source": [
    "bad_english_texts = [\"\"\"I don't know nothing about them big words and grammar rules. Me and my friend, we was talking, and he don't agree with me. We ain't never gonna figure it out, I reckon. His dog don't listen good, always running around and don't come when you call.\"\"\",\n",
    "                     \"\"\"Yesterday, we was at the park, and them kids was playing. She don't like the way how they acted, but I don't got no problem with it. We seen a movie last night, and it was good, but my sister, she don't seen it yet. Them books on the shelf, they ain't interesting to me.\"\"\",\n",
    "                     \"\"\"Arrr matey! I be knowin' nuthin' 'bout them fancy words and grammatical rules. Me and me heartie, we be chattin', and he don't be agreein' with me. We ain't never gonna figure it out, I reckon. His scallywag of a dog don't be listenin' well, always runnin' around and not comin' when ye call.\"\"\"\n",
    "                    ]"
   ]
  },
  {
   "cell_type": "code",
   "execution_count": null,
   "id": "466881a6-50f9-4fe5-af85-ea2f7a291380",
   "metadata": {
    "tags": []
   },
   "outputs": [],
   "source": [
    "print(\"NLP Task 6: Text Correction for Grammatical Errors\")\n",
    "correct = dspy.Predict(TextTransformationAndCorrection)\n",
    "for bad_text in bad_english_texts:\n",
    "    response = correct(text=bad_text)\n",
    "    print(f\"{BOLD_BEGIN}Incorrect Text:{BOLD_END}\")\n",
    "    print(bad_text)\n",
    "    print(f\"{BOLD_BEGIN}Corrected Text:{BOLD_END}\")\n",
    "    print(response.corrected_text)\n",
    "    print(\"-------------------\")"
   ]
  },
  {
   "cell_type": "markdown",
   "id": "d4e48460-00a6-4a7f-9e54-b1e25e00860d",
   "metadata": {
    "tags": []
   },
   "source": [
    "## NLP Task 7: Generate JSON Output\n",
    "* Given some text in a particular format, convert it into JSON format.\n",
    "* For example, we LLM to producce names of five top shoes, but we want them it product and its items in JSON format. This JSON format can be fed downstream into another application that may process it.\n",
    "\n",
    "Let's have go at it.\n"
   ]
  },
  {
   "cell_type": "code",
   "execution_count": null,
   "id": "ea500883-0071-4f2c-972f-d433d4d453af",
   "metadata": {
    "tags": []
   },
   "outputs": [],
   "source": [
    "# NLP Task 7: Generate JSON Output\n",
    "# Use class signatures for JSON output generation\n",
    "print(\"NLP Task 7: Generate JSON Output\")\n",
    "generate_json = dspy.Predict(GenerateJSON)\n",
    "response = generate_json()\n",
    "print(f\"{BOLD_BEGIN}Generated JSON Output:{BOLD_END}\")\n",
    "print(response.json_text)\n",
    "print(\"-------------------\")"
   ]
  },
  {
   "cell_type": "markdown",
   "id": "e6496b00-0a1d-4a57-9783-11f2dcf09c5a",
   "metadata": {
    "tags": []
   },
   "source": [
    "## NLP Task 8: Simple and complex reasoning \n",
    "\n",
    "An import characteristic of LLM is that it's not only general respository of compressed parametric-knowledge garned from large corpus of text, but can be employed as a simple and complex reasoning engine. \n",
    "\n",
    "With use of precise DSPy signature, you can instruct LLM to think trough a problem in a step by step fashion.\n",
    "\n",
    "Let's look at some tasks as examples.\n",
    " * **Task 1**: given a list of numbers identify the prime numbers, add the prime numbers and check if the sum is even or odd.\n",
    " * **Task 2**: given an hourly rate of wages, compute your yearly income if you work 30 hours a week"
   ]
  },
  {
   "cell_type": "markdown",
   "id": "b4dc303e-7a5f-43e1-a0be-a68c93ce1dd3",
   "metadata": {
    "tags": []
   },
   "source": [
    "#### Task 1: simple math problem to identify prime numbers"
   ]
  },
  {
   "cell_type": "code",
   "execution_count": null,
   "id": "b7b4418d-2b23-44e7-965c-a4032efd55b3",
   "metadata": {
    "tags": []
   },
   "outputs": [],
   "source": [
    "# NLP Task 8: Simple and Complex Reasoning\n",
    "# Use class signatures for simple and complex reasoning\n",
    "print(\"NLP Task 8: Simple and Complex Reasoning\")\n",
    "reasoning = dspy.Predict(SimpleAndComplexReasoning)\n",
    "response = reasoning(numbers=[4, 8, 9, 11, 13, 17, 19, 23, 24, 29, 31, 37, 41, 42, 43, 47, 53, 59, 61, 67, 71, 74])\n",
    "print(f\"{BOLD_BEGIN}Prime numbers:{BOLD_END} {response.prime_numbers}\")\n",
    "print(f\"{BOLD_BEGIN}Sum of Prime numbers:{BOLD_END} {response.sum_of_prime_numbers}\")\n",
    "print(f\"{BOLD_BEGIN}Sum is :{BOLD_END} {response.sum_is_even_or_odd }\")\n",
    "print(f\"{BOLD_BEGIN}Reasoning:{BOLD_END}\")\n",
    "print(response.reasoning)\n",
    "print(\"-------------------\")"
   ]
  },
  {
   "cell_type": "markdown",
   "id": "c3bd2c6e-bfa7-45cc-804d-acaf4797f8f3",
   "metadata": {
    "tags": []
   },
   "source": [
    "#### Task 2: simple math word problem\n"
   ]
  },
  {
   "cell_type": "code",
   "execution_count": null,
   "id": "5651b79b-997e-4524-b17b-14f413e850a8",
   "metadata": {
    "tags": []
   },
   "outputs": [],
   "source": [
    "MATH_PROBLEM = \"\"\"\n",
    "    If my hourly rate is $117.79 per hour and I work 30 hours a week, \n",
    "    what is my yearly income?\"\n",
    "\"\"\""
   ]
  },
  {
   "cell_type": "code",
   "execution_count": null,
   "id": "d61b8b6b-957c-4560-8be0-7d17a2a95c10",
   "metadata": {
    "tags": []
   },
   "outputs": [],
   "source": [
    "# NLP Task 9: Word Math Problem\n",
    "# Use class signatures for word math problem\n",
    "print(\"NLP Task 9: Word Math Problem\")\n",
    "word_math = dspy.Predict(WordMathProblem)\n",
    "response = word_math(problem=MATH_PROBLEM)\n",
    "print(f\"{BOLD_BEGIN}Word Math Problem:{BOLD_END}\")\n",
    "print(MATH_PROBLEM)\n",
    "print(f\"{BOLD_BEGIN}Explanation:{BOLD_END}\")\n",
    "print(response.explanation)\n",
    "print(\"-------------------\")"
   ]
  },
  {
   "cell_type": "markdown",
   "id": "d546337d-b9a4-40db-92dd-8cdce63c6979",
   "metadata": {
    "tags": []
   },
   "source": [
    "## All this is amazing! 😜 Feel the wizardy, declarative DSPy power 🧙‍♀️"
   ]
  },
  {
   "cell_type": "markdown",
   "id": "4fc03cdc-5294-4ce2-a375-865a0c6d0791",
   "metadata": {},
   "source": [
    "# Hubble2 root cause evaluator v4"
   ]
  },
  {
   "cell_type": "code",
   "execution_count": 14,
   "id": "08c6ffba-63ed-4ffc-ac1e-c33ce155eb51",
   "metadata": {
    "tags": []
   },
   "outputs": [],
   "source": [
    "class RootCauseEvaluation(dspy.Signature):\n",
    "    \"\"\"\n",
    "    You are tasked with evaluating technical descriptions written by \n",
    "    engineers whose first language is not English. The goal is to \n",
    "    determine if their documentation adequately and succinctly explains \n",
    "    the root cause of technical issues in notebook computer design and \n",
    "    manufacturing to a quality of 'yes' or 'no'.\n",
    "\n",
    "    Following are explanations of jargons and abbreviations that you \n",
    "    will see:\n",
    "\n",
    "    List of Abbreviations\n",
    "    ---------------------\n",
    "    Note: A leading * specifies the standard form of the term.\n",
    "    1. win10, W10, *Windows 10.\n",
    "    1. win11, W11, *Windows 11.\n",
    "    1. bt, *bluetooth.\n",
    "    1. bsod, blue screen.\n",
    "    1. YB, Yello wmark, Yellow exlamation, yellow band, *yellow bang.\n",
    "    1. PM, power management.\n",
    "    1. ME, CSME, Management Engine.\n",
    "    1. CND, Can not dupliate, Can not reproduce the bug.\n",
    "    1. WNF, Will not fix.\n",
    "    1. VNP, Verified Not Presented, formally confirmed can not reproduce the bug.\n",
    "    1. EB, Expected Behavior.\n",
    "    1. WAD, Working as Designed.\n",
    "    1. ATS process, Approved To Ship process. It means that the bug has been accepted.\n",
    "    1. frozen, Hard hang, dead, hangup, hang up, freeze.\n",
    "    1. MS, s0i3, *Modern standby\n",
    "    1. kb, keyboard.\n",
    "    1. type-c, typec, *USB Type-C.\n",
    "    1. TC, QT TC, *Test Case.\n",
    "    1. fp, finger print, finger printer, *fingerprint.\n",
    "    1. CB, cold boot, s5.\n",
    "    1. WB, warm boot.\n",
    "    1. WU, Windows Update.\n",
    "    1. RTS, Ready to shipment.\n",
    "    1. wifi, wireless, wlan.\n",
    "    1. DFU, Dock Firmware Upgrade.\n",
    "    1. QT, Quality Test department.\n",
    "    1. CE, Component Engineering department.\n",
    "    1. ES, CPU Engineering Sample.\n",
    "    1. QS, CPU Qualification Sample.\n",
    "    1. EVT or LAB, Laboratory stage of a project.\n",
    "    1. DVT or ENG, Engineering stage of a project, after LAB. Also DVT2, DVT3, etc.\n",
    "    1. PVT, Project stage that occurs after DVT and before MP.\n",
    "    1. MP: The math production stage of a project.\n",
    "\n",
    "    General rules \n",
    "    -------------\n",
    "    Do not accept cases listed below, their quality are 'no'. \n",
    "    1. Human error and poor assembly.\n",
    "    1. CND, Can not dupliate, Can not reproduce the bug.\n",
    "    1. WNF, Will not fix.\n",
    "    1. VNP, Verified Not Presented.\n",
    "    1. EB, Expected Behavior.\n",
    "    1. WAD, Working as Designed.\n",
    "    1. Limitations.\n",
    "    1. Incorrect steps and improper settings.\n",
    "    1. Duplicate/duplicated.\n",
    "    1. Already resolved; refer to elsewhere for reference.\n",
    "    1. Not yet developed; not yet implemented.\n",
    "    1. Not a bug but a tracking issue.\n",
    "    1. Clarify/specify spec (specification).\n",
    "    1. Functionality not supported.\n",
    "    1. Explain and test unrelated adverse phenomena/phenomenon that are unrelated to the explanation and testing purpose(s).\n",
    "    1. Clarify behavior. \n",
    "    1. Reference to other bug ID is NOT valuable, we want the info right here.\n",
    "    1. Only mention BIOS, driver or app version that fixed the bug wihout explain the root cause.\n",
    "    \"\"\"\n",
    "    text        = dspy.InputField()\n",
    "    summary     = dspy.OutputField(desc = \"synonyms and abbreviation expansion\")\n",
    "    check_rules = dspy.OutputField(desc = \"check the summary with general rules, no match is allowed\")\n",
    "    component   = dspy.OutputField(desc = \"indicate the component in trouble or N/A if not mentioned\")\n",
    "    cause       = dspy.OutputField(desc = \"if component exists then explain the mistake happened on the component that caused the bug, otherwise N/A\")\n",
    "    conclusion  = dspy.OutputField(desc = \"conclude the quality. cause must not N/A and no general rule violation. Ask yourself: so what is the root cause?\")\n",
    "    output      = dspy.OutputField(desc = 'JSON key-value pairs e.g. {\"quality\":\"yes\"} or {\"quality\":\"no\"}')    \n"
   ]
  },
  {
   "cell_type": "code",
   "execution_count": 28,
   "id": "c6ff99d0-bfd9-4cfe-a464-eec5b3db3df7",
   "metadata": {
    "scrolled": true,
    "tags": []
   },
   "outputs": [
    {
     "data": {
      "text/plain": [
       "Predict(RootCauseEvaluation(text -> summary, check_rules, component, cause, conclusion, output\n",
       "    instructions=\"\\n    You are tasked with evaluating technical descriptions written by \\n    engineers whose first language is not English. The goal is to \\n    determine if their documentation adequately and succinctly explains \\n    the root cause of technical issues in notebook computer design and \\n    manufacturing to a quality of 'yes' or 'no'.\\n\\n    Following are explanations of jargons and abbreviations that you \\n    will see:\\n\\n    List of Abbreviations\\n    ---------------------\\n    Note: A leading * specifies the standard form of the term.\\n    1. win10, W10, *Windows 10.\\n    1. win11, W11, *Windows 11.\\n    1. bt, *bluetooth.\\n    1. bsod, blue screen.\\n    1. YB, Yello wmark, Yellow exlamation, yellow band, *yellow bang.\\n    1. PM, power management.\\n    1. ME, CSME, Management Engine.\\n    1. CND, Can not dupliate, Can not reproduce the bug.\\n    1. WNF, Will not fix.\\n    1. VNP, Verified Not Presented, formally confirmed can not reproduce the bug.\\n    1. EB, Expected Behavior.\\n    1. WAD, Working as Designed.\\n    1. ATS process, Approved To Ship process. It means that the bug has been accepted.\\n    1. frozen, Hard hang, dead, hangup, hang up, freeze.\\n    1. MS, s0i3, *Modern standby\\n    1. kb, keyboard.\\n    1. type-c, typec, *USB Type-C.\\n    1. TC, QT TC, *Test Case.\\n    1. fp, finger print, finger printer, *fingerprint.\\n    1. CB, cold boot, s5.\\n    1. WB, warm boot.\\n    1. WU, Windows Update.\\n    1. RTS, Ready to shipment.\\n    1. wifi, wireless, wlan.\\n    1. DFU, Dock Firmware Upgrade.\\n    1. QT, Quality Test department.\\n    1. CE, Component Engineering department.\\n    1. ES, CPU Engineering Sample.\\n    1. QS, CPU Qualification Sample.\\n    1. EVT or LAB, Laboratory stage of a project.\\n    1. DVT or ENG, Engineering stage of a project, after LAB. Also DVT2, DVT3, etc.\\n    1. PVT, Project stage that occurs after DVT and before MP.\\n    1. MP: The math production stage of a project.\\n\\n    General rules \\n    -------------\\n    Do not accept cases listed below, their quality are 'no'. \\n    1. Human error and poor assembly.\\n    1. CND, Can not dupliate, Can not reproduce the bug.\\n    1. WNF, Will not fix.\\n    1. VNP, Verified Not Presented.\\n    1. EB, Expected Behavior.\\n    1. WAD, Working as Designed.\\n    1. Limitations.\\n    1. Incorrect steps and improper settings.\\n    1. Duplicate/duplicated.\\n    1. Already resolved; refer to elsewhere for reference.\\n    1. Not yet developed; not yet implemented.\\n    1. Not a bug but a tracking issue.\\n    1. Clarify/specify spec (specification).\\n    1. Functionality not supported.\\n    1. Explain and test unrelated adverse phenomena/phenomenon that are unrelated to the explanation and testing purpose(s).\\n    1. Clarify behavior. \\n    1. Reference to other bug ID is NOT valuable, we want the info right here.\\n    1. Only mention BIOS, driver or app version that fixed the bug wihout explain the root cause.\\n    \"\n",
       "    text = Field(annotation=str required=True json_schema_extra={'__dspy_field_type': 'input', 'prefix': 'Text:', 'desc': '${text}'})\n",
       "    summary = Field(annotation=str required=True json_schema_extra={'desc': 'synonyms and abbreviation expansion', '__dspy_field_type': 'output', 'prefix': 'Summary:'})\n",
       "    check_rules = Field(annotation=str required=True json_schema_extra={'desc': 'check the summary with general rules, no match is allowed', '__dspy_field_type': 'output', 'prefix': 'Check Rules:'})\n",
       "    component = Field(annotation=str required=True json_schema_extra={'desc': 'indicate the component in trouble or N/A if not mentioned', '__dspy_field_type': 'output', 'prefix': 'Component:'})\n",
       "    cause = Field(annotation=str required=True json_schema_extra={'desc': 'if component exists then explain the mistake happened on the component that caused the bug, otherwise N/A', '__dspy_field_type': 'output', 'prefix': 'Cause:'})\n",
       "    conclusion = Field(annotation=str required=True json_schema_extra={'desc': 'conclude the quality. cause must not N/A and no general rule violation. Ask yourself: so what is the root cause?', '__dspy_field_type': 'output', 'prefix': 'Conclusion:'})\n",
       "    output = Field(annotation=str required=True json_schema_extra={'desc': 'JSON key-value pairs e.g. {\"quality\":\"yes\"} or {\"quality\":\"no\"}', '__dspy_field_type': 'output', 'prefix': 'Output:'})\n",
       "))"
      ]
     },
     "execution_count": 28,
     "metadata": {},
     "output_type": "execute_result"
    }
   ],
   "source": [
    "pred = dspy.Predict(RootCauseEvaluation)\n",
    "pred"
   ]
  },
  {
   "cell_type": "code",
   "execution_count": 29,
   "id": "3839a7fb-6b18-4b45-8a4a-51035fcc7494",
   "metadata": {
    "tags": []
   },
   "outputs": [
    {
     "name": "stdout",
     "output_type": "stream",
     "text": [
      "CPU times: total: 0 ns\n",
      "Wall time: 956 µs\n"
     ]
    },
    {
     "data": {
      "text/plain": [
       "Prediction(\n",
       "    summary='Samples not scheduled for presentation causing dropped frames',\n",
       "    check_rules='VNP, Expected Behavior',\n",
       "    component='N/A',\n",
       "    cause='N/A',\n",
       "    conclusion='The explanation does not violate any general rules, but it does not provide a clear root cause of the technical issue.',\n",
       "    output='{\"quality\":\"no\"}'\n",
       ")"
      ]
     },
     "execution_count": 29,
     "metadata": {},
     "output_type": "execute_result"
    }
   ],
   "source": [
    "%%time\n",
    "response = pred(text=\"The sample(s) which weren't scheduled for presentation and it causes a number of frames being dropped.\")\n",
    "response"
   ]
  },
  {
   "cell_type": "code",
   "execution_count": null,
   "id": "2dd1fa7d-e4bf-473a-b7e1-e58f44501150",
   "metadata": {
    "tags": []
   },
   "outputs": [],
   "source": [
    "root_cause_samples = [(0, \"this is EB/WAD. the 3.5mm input on WL7024 only supports audio listening.\",\"no\"),\n",
    "    ( 1, \"The sample(s) which weren't scheduled for presentation and it causes a number of frames being dropped.\",\"no\"),\n",
    "    ( 2, \"OS UI issue and fixed on 26074.\",\"yes\"),\n",
    "    ( 3, \"Please verify latest BIOS 1.5.1 by enable preOS bluetooth\\r\\n\",\"yes\"),\n",
    "    ( 4, \"RC: Battery service on headset is not implemented.(This solution will be added to next formal WL3024 headset FW v2.5)\\r\\n\\r\\nNewer WL3024 headset FW will be ready on Jan 25th 2024 , web post/DPeM ready on Jan 25th 2024 via DPeM app.\\r\\nHeadset fw version v2.5\\r\\nEnd user can to upgrade headset FW via DPeM app/standalone updater to update newer headset FW.\",\"no\"),\n",
    "    ( 5, \"This looks to be an Intel issue. Information shared with Dawid Kwiatkowski at Intel on how to address this issue in the Intel USB sideband audio driver.\",\"yes\"),\n",
    "    ( 6, \"Please verify on Sign BIOS + fused EC on BIOS 0.2.2\\r\\nUse chipsec-1.12.4-p0072_20231123.7zto have a retest on DVT2 + closemnf machine + BIOS 0.2.3 or later.\\r\\nnew cmd update\",\"no\"),\n",
    "    ( 7, \"Driver WU is in progress and not completed yet. MDAVT tool will check WU and make sure driver WU is ready on server.\\r\\n\\r\\nNvidia GFX is new part and not RTS yet.\\r\\nNvidia will submit WU after embargo date. Target on 3/5.\\r\\n\",\"no\"),\n",
    "    ( 8, \"Plan cut in BIOS 1.2.0\",\"no\"),\n",
    "    ( 9, \"By design.\",\"no\"),\n",
    "    (10, \"03/01/2024, Wistron BIOS Tony, Animation logo solution modify InitWelcomePage() location when hotkey press, it cause non-function key message be skip.\",\"no\"),\n",
    "    (11, \"Plan cut in BIOS 1.2.0\",\"no\"),\n",
    "    (12, \"03/01/2024, Wistron BIOS Tony, Animation logo solution modify InitWelcomePage() location when hotkey press, it cause non-function key message be skip.\",\"no\"),\n",
    "    (13, \"MSFT confirm It is a new design in 24H2.\\r\\nHello won't be triggered when user lock or logged out. Since in the most time, user won't sign-in back immediately. You could turn off display and turn on again or press any key to enter LogonUI to trigger Hello. Close it as by design.\",\"no\"),\n",
    "    (14, \"Plan cut in BIOS 1.2.0\",\"no\"),\n",
    "    (15, \"It is a new design in 24H2.\\r\\nHello won't be triggered when user lock or logged out.\\r\\nSince in the most time, user won't sign-in back immediately.\\r\\nYou could turn off display and turn on again or press any key to enter LogonUI to trigger Hello.\",\"no\"),\n",
    "    (16, \"DO team feedback: This is the current design. DO app doesn't support resize.\\r\\nWe'll work with DO EDG to see if we can enhance it in the future release.\\r\\n\",\"no\"),\n",
    "    (17, \"The sample(s) which weren't scheduled for presentation and it causes a number of frames being dropped. \",\"no\"),\n",
    "    (18, \"EC already cut in the CR on formal EC.\\r\\nPlease refer to the ticket, CEP-12069 for more details\",\"no\"),\n",
    "    (19, \"RD and QT manual test with PCI dump and compare pass.\",\"no\"),\n",
    "    (20, \"N/A\",\"no\"),\n",
    "    (21, \"Tracking CPSE-20383, after using the latest test scripts and tool, it can get positive results. The root cause is test scripts have fixed the failed items.\",\"no\"),\n",
    "    (22, \"Per power team requested, implement code into BIOS 0.3.12 to fix DDE system error\",\"no\"),\n",
    "    (23, \"Implemented in BIOS 0.3.8.\",\"no\"),\n",
    "    (24, \"After adding CBDCIT-2269 code, DiabloMtl can get positive results. This code change will be add in BIOS 1.3.0.\\r\\nPlease use BIOS 1.3.0 to verify this issue.\",\"no\"),\n",
    "    (25, \"Driver list v32 implement\",\"no\"),\n",
    "    (26, \"Fixed in BIOS 0.3.4\",\"no\"),\n",
    "    (27, \"Add in BIOS 0.3.2\\r\\n\\r\\nSHA-1: 6945f9e56e509a897d7b669916515a51daf0f965\\r\\n\\r\\n* DiabloMtl: PIMS-238364 Follow NV define sequence to fine tune S4/CB sequence\\r\\n\",\"no\"),\n",
    "    (28, \"Cancel the CR due to 50Mhz solution has been added.\",\"no\"),\n",
    "    (29, \"Fixed in BIOS 99.01.03\\r\\n\\r\\nSHA-1: f39b421d8ff1b4c1edd577f21795245011106683\\r\\n* DiabloMtl: [CR][PIMS-219502] Update XML for TBT setting\\r\\n\",\"no\"),\n",
    "    (30, \"Base on Intel command to add EC WA as short term to cover the issue.WA detail : First time reference SLP_A# if level is Low then drop WLAN 3.3v power directly,If level is High then read againg after 300ms. If SLP_A# still High(AMT user) then keep WLAN 3.3 power when read SLP_A# second times.\",\"no\"),\n",
    "    (31, \"TP vendor has been fixed TP test tool.\",\"no\"),\n",
    "    (32, \"RD side got pass result on DVT2 system\",\"no\"),\n",
    "    (33, \"Already add this code in BIOS 0.2.4 (DVT2 SMT).\",\"no\"),\n",
    "    (34, \"Already add this code in BIOS 0.2.4 (DVT2 SMT).\",\"no\"),\n",
    "    (35, \"DTD owner plan to fix in next version v6.1 launching on Feb 06, 2024.\",\"no\"),\n",
    "    (36, \"DPeM 1.7.2 \",\"no\"),\n",
    "    (37, \"Issue related to DA305 FW update. Going to propose ATS.\",\"no\"),\n",
    "    (38, \"Monitor FW M2T105 has been release on Website on 2/28.\",\"no\"),\n",
    "    (39, \"DA305 FW changed\",\"no\"),\n",
    "    (40, \"Refer Dell AgS team confirm,\\r\\nThis is Expected Behavior, because the system is scanning/pairing the devices execution is taking place in background.\\u00a0\\r\\nPlease close this issue.\",\"no\"),\n",
    "    (41, \"Import Bluetooth solution in formal BIOS 1.3.1\\r\\n\\r\\nPlease verify this issue with formal BIOS 1.3.1\",\"no\"),\n",
    "    (42, \"CEP-10467\\r\\n[PIMS-214776][Scorpio] Charger AC PROCHOT setting\",\"no\"),\n",
    "    (43, \"CEP-12798\\r\\n[PIMS-257508][Scorpio] cTGP and D-notify common issue\",\"no\"),\n",
    "    (44, \"CEP-10655\\r\\n[PIMS-216784][Scorpio] Enable CATERR feature\",\"no\"),\n",
    "    (45, \"CEP-12434\\r\\n[PIMS-250136][Scorpio] Revert PCR e-diag beep sound by EC\",\"no\"),\n",
    "    (46, \"Update into latest TI PD Patch\",\"no\"),\n",
    "    (47, \"CEP-12687\\r\\n[PIMS-255218][Scorpio] Release Failsafe EC for A-rev\",\"no\"),\n",
    "    (48, \"CEP-12503\\r\\n[PIMS-251889][Scorpio] Re-build failsafe EC base on latest formal EC\",\"no\"),\n",
    "    (49, \"Need add P-MOSFET to correct for EC_ACAV_IN_N behavior change.\\r\\nMSFT Bug#919303: tracking MSFT behavior.\\r\\n\",\"no\"),\n",
    "    (50, \"CEP-11552\\r\\n[PIMS-229873][Scorpio 16] Re-build failsafe EC base on new version\",\"no\"),\n",
    "    (51, \"CEP-11184\\r\\n[PIMS-225230][Scorpio] Release first version of failsafe EC\",\"no\"),\n",
    "    (52, \"CEP-11235\\r\\n[PIMS-225652][Scorpio] Modify HwQuery list maximum size\",\"no\"),\n",
    "    (53, \"Add filed colume to meet Narrator requirement.\",\"no\"),\n",
    "    (54, \"MEFW update between 1.0.0 & 1.2.0\",\"no\"),\n",
    "    (55, \"Monitor FW issue.\",\"no\"),\n",
    "    (56, \"CEP-13326\",\"no\"),\n",
    "    (57, \"3DMark application timeout and caused application stopped.\\r\\nPort Royal v1.3.1.1 fixed some issues where the test would sometimes fail without presenting an error.\",\"no\"),\n",
    "    (58, \"Please verify on Sign BIOS + fused EC on BIOS 0.2.2\\r\\nUse chipsec-1.12.4-p0072_20231123.7zto have a retest on DVT2 + closemnf machine + BIOS 0.2.3 or later.\\r\\nnew cmd update\",\"no\"),\n",
    "    (59, \"RC: Battery service on headset is not implemented.(This solution will be added to next formal WL3024 headset FW v2.5)\\r\\n\\r\\nNewer WL3024 headset FW will be ready on Jan 25th 2024 , web post/DPeM ready on Jan 25th 2024 via DPeM app.\\r\\nHeadset fw version v2.5\\r\\nEnd user can to upgrade headset FW via DPeM app/standalone updater to update newer headset FW.\",\"no\"),\n",
    "    (60, \"This looks to be an Intel issue. Information shared with Dawid Kwiatkowski at Intel on how to address this issue in the Intel USB sideband audio driver.\",\"no\"),\n",
    "    (61, \"Please verify latest BIOS 1.5.1 by enable preOS bluetooth\\r\\n\",\"no\"),\n",
    "    (62, \"Please verify latest BIOS 1.5.1 by enable preOS bluetooth\\r\\n\",\"no\"),\n",
    "    (63, \"New firmware with improvement in boomless mic.\\r\\nthe mic path takes around 1-2sec upon activation. this is common behavior also seen in a number of headsets such as Jabra Evolve 2 85\",\"yes\"),\n",
    "    (64, \"Provided new Firmware with the issue fixed, and has been verified\",\"yes\"),\n",
    "    (65, \"previous input gain for 3.5mm was set too high, this has been corrected in new FW and verified fixed\",\"yes\"),\n",
    "    (66, \"HW change to delay power cut to device.\",\"yes\"),\n",
    "    (67, \"Duplicate issue of PIMS-220905 about CATERR(1A8W).\",\"yes\"),\n",
    "    (68, \"Duplicate issue of PIMS-220905 about CATERR(1A8W).\",\"yes\"),\n",
    "    (69, \"Intel analyze log and find OS does not send \\\"Set brightness\\\" event to GFX driver.\\r\\nMSFT had comment as SV3 known issue that service stuck at wrong level, and cannot increase the brightness via hotkey.\\r\\nThe feature team planning fix the issue on 2024 2D, propose ATS-P2. MSFT bug#926869\\r\\n\",\"yes\"),\n",
    "    (70, \"Intel analyze log and find OS does not send \\\"Set brightness\\\" event to GFX driver.\\r\\nMSFT had comment as SV3 known issue that service stuck at wrong level, and cannot increase the brightness via hotkey.\\r\\nThe feature team planning fix the issue on 2024 2D, propose ATS-P2. MSFT bug#926869\\r\\n\",\"yes\"),\n",
    "    (71, \"For the TAS(Time average SAR) feature, an OS timer will be activated, which will cause problems in FW's calculation of CPU time compensation confirmation. As a result, when FW confirms CPU time compensation after PG comes back, it thinks that the time to be compensated is wrong and triggers an assertion.\",\"yes\"),\n",
    "    (72, \"Change the USB2 driving for SIV\\r\\n\\r\\n213170 (T3 board):\\r\\nPort6 High speed Rise and Fall time : +17%\\r\\nPort6 High speed DC voltage level : +16%\\r\\n\\r\\n213171 (T4 board):\\r\\nPort6 High speed Rise and Fall time : +17%\\r\\nPort6 High speed DC voltage level : +20%\",\"yes\"),\n",
    "    (73, \"Per MSR requested, we updated ME FW to 18.0.5.2077v2.1\",\"yes\"),\n",
    "    (74, \"Change VCCGT FVM Itrip value and disable VCCSA FVM\",\"yes\"),\n",
    "    (75, \"Please verify with BIOS 99.0.12.\",\"yes\"),\n",
    "    (76, \"The DTD process dying while running as a critical process \\r\\nNewer DTD version changes the DTD service no longer a critical process to prevent this issue happen\\r\\nRoot cause : The DTD process dying while running as a critical process \\r\\nSolution : Newer DTD version changes the DTD service no longer a critical process to prevent this issue happen\\r\\n\",\"yes\"),\n",
    "    (77, \"DUP installation failure in the path/folder on L10N OS.\\r\\nDUP in itself was never supported localization.\",\"yes\"),\n",
    "    (78, \"Add back to back p mosfet to reduce inrush current.\",\"yes\"),\n",
    "    (79, \"System is under heavy loading trigger ac prochot.\",\"yes\"),\n",
    "    (80, \"CEP-11655\\r\\n[PIMS-231862][Scorpio 16] Change GPIO 063 to PRIM_VR_EN\",\"yes\"),\n",
    "    (81, \"Update ISST driver to enhanced record function.\",\"yes\"),\n",
    "    (82, \"WBT will record the checksum for specified BIOS version.\",\"yes\"),\n",
    "    (83, \"CEP-10401\\r\\n[PIMS-213813][Scorpio] Add charger(ISL95522) setting parameters with two level AC current limit into common code \",\"yes\"),\n",
    "    (84, \"Based on MSFT's feedback, the following behavior are by design.\\r\\n1. Video will lag/black screen when drag video window from LCD to monitor on Extend mode if \\u00a0the external monitor and the internal LCD are displayed by different GPUs (Ex. internal LCD via intel + external monitor via Nvidia)\\r\\n2. While the Movie Clip is playing on the External Display, close lid (set \\\"Do nothing\\\") and open lid, the Movie Clip will always lag about 2s\",\"yes\"),\n",
    "    (85, \"Intel GPU trigger a TDR (Timeout detection Recovery) event when GPU loading too high or need to adjust GPU frequency.\\r\\nTimeout Detection and Recovery (TDR) is a process that the Windows operating system uses to improve the user experience when the GPU is busy processing intensive graphics operations. It is not indicative of a GPU or driver failure.\\r\\n\\r\\nIntel confirm root cause with intel VGA OCL related function , need intel provide fix plan\",\"yes\"),\n",
    "    (86, \"HW change to delay power cut to device.\",\"yes\")]\n"
   ]
  },
  {
   "cell_type": "raw",
   "id": "14fdb5bc-112d-4370-8fcf-dd937e4d2248",
   "metadata": {},
   "source": [
    "flags = [None] * len(root_cause_samples)"
   ]
  },
  {
   "cell_type": "raw",
   "id": "d5b3fbf3-ccae-4f12-97e0-559b8961452a",
   "metadata": {},
   "source": [
    "%%time\n",
    "for sample in root_cause_samples:\n",
    "    i = sample[0]\n",
    "    if flags[i] is not None: continue # 續跑支援\n",
    "    print(\"\\n\"+\"-\"*10+\"\\n\", i, sample[1], sample[2], end=\" \")\n",
    "    response = pred(text=sample[1])\n",
    "    print(response.output)\n",
    "    quality = json.loads(response.output)['quality']\n",
    "    flag = (i,True) if quality == sample[2] else (i,False)\n",
    "    flags[i] = flag\n",
    "    if not flag[1] : \n",
    "        print(\" *** alarm ***\")"
   ]
  },
  {
   "cell_type": "raw",
   "id": "7db475fe-1a6a-485b-861b-b634ee7f29f3",
   "metadata": {},
   "source": [
    "arr = [ sample + (flags[i][1],) for i,sample in enumerate(root_cause_samples)]\n",
    "arr[0]"
   ]
  },
  {
   "cell_type": "raw",
   "id": "4a38b685-1438-40d2-aafc-64a4abb960b6",
   "metadata": {},
   "source": [
    "# I have a list named arr with elements like this:\n",
    "# (86, 'HW change to delay power cut to device.', 'yes', False)\n",
    "# where 86 is the index, followed by 'text', 'quality', and 'flag'.\n",
    "# help me to convert this list into a pandas DataFrame.\n",
    "\n",
    "# Create a dictionary with the list elements as values\n",
    "data = {\n",
    "    \"index\": [x[0] for x in arr],\n",
    "    \"text\": [x[1] for x in arr],\n",
    "    \"quality\": [x[2] for x in arr],\n",
    "    \"flag\": [x[3] for x in arr],\n",
    "}\n",
    "\n",
    "# Create a DataFrame from the dictionary\n",
    "df = pd.DataFrame(data)\n",
    "df.to_excel(\"check.xlsx\")"
   ]
  },
  {
   "cell_type": "raw",
   "id": "9f9128ce-e137-4abe-803c-edbd710354ff",
   "metadata": {
    "tags": []
   },
   "source": [
    "df = pd.read_excel(\"RootCause quality training dataset.xlsx\")"
   ]
  },
  {
   "cell_type": "markdown",
   "id": "5edf06fe-6467-40b6-8f2c-f02fa2bc43bb",
   "metadata": {},
   "source": [
    "### Read back df from saved dataset pickle file."
   ]
  },
  {
   "cell_type": "code",
   "execution_count": 30,
   "id": "236396d3-0c01-43fa-905c-512dd81ed6bd",
   "metadata": {
    "tags": []
   },
   "outputs": [],
   "source": [
    "pathname = f\"{github}\\\\insightbridge\\\\IBTools\\\\Hubble2 RootCause quality training 83 TRs dataset for DSPy.pkl\" "
   ]
  },
  {
   "cell_type": "code",
   "execution_count": 31,
   "id": "0ef40fdf-20e6-4ca2-9b34-76bb5d365ce1",
   "metadata": {
    "tags": []
   },
   "outputs": [],
   "source": [
    "df = pd.read_pickle(pathname)"
   ]
  },
  {
   "cell_type": "raw",
   "id": "a8ba8202-e23c-4ca8-8e52-11ba4c1e2b70",
   "metadata": {
    "tags": []
   },
   "source": [
    "df.to_pickle(pathname)"
   ]
  },
  {
   "cell_type": "code",
   "execution_count": 32,
   "id": "dfe25a4b-0ce3-4693-95a7-0270bf71413a",
   "metadata": {
    "tags": []
   },
   "outputs": [],
   "source": [
    "# Convert DataFrame to DSPy format\n",
    "train_data = [dspy.Example(text=row['text'], quality=row['quality']).with_inputs('text') for _, row in df.iterrows()]"
   ]
  },
  {
   "cell_type": "code",
   "execution_count": 41,
   "id": "346968f3-3c18-4bdd-9254-ba011bc28be6",
   "metadata": {
    "tags": []
   },
   "outputs": [],
   "source": [
    "class RootCauseModel(dspy.Module):\n",
    "    def __init__(self):\n",
    "        super().__init__()\n",
    "        self.predict = dspy.Predict(RootCauseEvaluation)\n",
    "    \n",
    "    def forward(self, text):\n",
    "        prediction = self.predict(text=text)\n",
    "        return prediction\n",
    "    #   Prediction(\n",
    "    #       summary='BIOS version 1.23 fixed',\n",
    "    #       check_rules='Only mention BIOS version that fixed the bug without explaining the root cause',\n",
    "    #       component='N/A',\n",
    "    #       cause='N/A',\n",
    "    #       conclusion='The documentation only mentions the fixed BIOS version without explaining the root cause of the technical issue. Violates the rule.',\n",
    "    #       output='{\"quality\":\"no\"}'\n",
    "    #   )\n",
    "    "
   ]
  },
  {
   "cell_type": "code",
   "execution_count": 42,
   "id": "e22564d3-d764-457d-a691-dc0b9d89de52",
   "metadata": {
    "tags": []
   },
   "outputs": [],
   "source": [
    "root_cause_evaluator = RootCauseModel()"
   ]
  },
  {
   "cell_type": "code",
   "execution_count": 43,
   "id": "3053cd3c-6941-4eab-89e9-a754782723d9",
   "metadata": {
    "tags": []
   },
   "outputs": [
    {
     "data": {
      "text/plain": [
       "Prediction(\n",
       "    summary='BIOS version 1.23 fixed',\n",
       "    check_rules='Only mention BIOS version that fixed the bug without explaining the root cause',\n",
       "    component='N/A',\n",
       "    cause='N/A',\n",
       "    conclusion='The documentation only mentions the fixed BIOS version without explaining the root cause of the technical issue. Violates the rule.',\n",
       "    output='{\"quality\":\"no\"}'\n",
       ")"
      ]
     },
     "execution_count": 43,
     "metadata": {},
     "output_type": "execute_result"
    }
   ],
   "source": [
    "root_cause_evaluator(\"bios v1.23 fixed\")"
   ]
  },
  {
   "cell_type": "code",
   "execution_count": 44,
   "id": "eb985703-c306-489e-8094-99993d0f43d9",
   "metadata": {
    "tags": []
   },
   "outputs": [],
   "source": [
    "def validate_quality(example, pred, trace=None):\n",
    "    q_dict = json.loads(pred.output)\n",
    "    return example['quality'] == q_dict['quality']"
   ]
  },
  {
   "cell_type": "code",
   "execution_count": 45,
   "id": "07e1bc3a-bc60-4ff3-a68b-31c71028a246",
   "metadata": {
    "tags": []
   },
   "outputs": [],
   "source": [
    "from dspy.teleprompt import BootstrapFewShot\n",
    "\n",
    "# Create a teleprompter with the validation logic\n",
    "teleprompter = BootstrapFewShot(metric=validate_quality)"
   ]
  },
  {
   "cell_type": "code",
   "execution_count": 46,
   "id": "d37b131d-d051-4cce-8504-ab5fa5f2143d",
   "metadata": {
    "tags": []
   },
   "outputs": [
    {
     "name": "stderr",
     "output_type": "stream",
     "text": [
      "  7%|█████████████████▍                                                                                                                                                                                                                               | 6/83 [00:00<00:00, 1256.28it/s]\n",
      "2024-06-15 04:28:15,439 - INFO - 2024-06-14T20:28:15.439170Z [info     ] Bootstrapped 4 full traces after 7 examples in round 0. [dspy.teleprompt.bootstrap] filename=bootstrap.py lineno=127\n"
     ]
    },
    {
     "name": "stdout",
     "output_type": "stream",
     "text": [
      "CPU times: total: 0 ns\n",
      "Wall time: 34.7 ms\n"
     ]
    }
   ],
   "source": [
    "%%time\n",
    "# Compile the model\n",
    "compiled_model = teleprompter.compile(RootCauseModel(), trainset=train_data)\n",
    "\n",
    "# CPU times: total: 31.2 ms\n",
    "# Wall time: 156 ms\n",
    "# Compile so fast! "
   ]
  },
  {
   "cell_type": "code",
   "execution_count": 53,
   "id": "a109f0c6-9d3c-4ef1-86fb-4d839bff6d75",
   "metadata": {
    "tags": []
   },
   "outputs": [
    {
     "name": "stderr",
     "output_type": "stream",
     "text": [
      "2024-06-15 04:43:52,919 - INFO - HTTP Request: POST https://api.openai.com/v1/chat/completions \"HTTP/1.1 200 OK\"\n"
     ]
    },
    {
     "data": {
      "text/plain": [
       "Prediction(\n",
       "    summary='Hinge v1.23 fix, fan speed 2 added to 9',\n",
       "    check_rules='No match',\n",
       "    component='Hinge',\n",
       "    cause='N/A',\n",
       "    conclusion='The root cause of the technical issue is the need for a fix in Hinge v1.23 and the addition of fan speed 2 to 9.',\n",
       "    output='{\"quality\":\"yes\"}'\n",
       ")"
      ]
     },
     "execution_count": 53,
     "metadata": {},
     "output_type": "execute_result"
    }
   ],
   "source": [
    "# Example usage\n",
    "example_text = \"Hinge v1.23 fix. Fan speed 2 added to 9\"\n",
    "results = compiled_model(example_text)\n",
    "results"
   ]
  },
  {
   "cell_type": "code",
   "execution_count": 48,
   "id": "1f758871-6108-4178-8b07-f7b0f3e6f68b",
   "metadata": {
    "scrolled": true,
    "tags": []
   },
   "outputs": [
    {
     "name": "stdout",
     "output_type": "stream",
     "text": [
      "\n",
      "\n",
      "\n",
      "You are tasked with evaluating technical descriptions written by \n",
      "    engineers whose first language is not English. The goal is to \n",
      "    determine if their documentation adequately and succinctly explains \n",
      "    the root cause of technical issues in notebook computer design and \n",
      "    manufacturing to a quality of 'yes' or 'no'.\n",
      "\n",
      "    Following are explanations of jargons and abbreviations that you \n",
      "    will see:\n",
      "\n",
      "    List of Abbreviations\n",
      "    ---------------------\n",
      "    Note: A leading * specifies the standard form of the term.\n",
      "    1. win10, W10, *Windows 10.\n",
      "    1. win11, W11, *Windows 11.\n",
      "    1. bt, *bluetooth.\n",
      "    1. bsod, blue screen.\n",
      "    1. YB, Yello wmark, Yellow exlamation, yellow band, *yellow bang.\n",
      "    1. PM, power management.\n",
      "    1. ME, CSME, Management Engine.\n",
      "    1. CND, Can not dupliate, Can not reproduce the bug.\n",
      "    1. WNF, Will not fix.\n",
      "    1. VNP, Verified Not Presented, formally confirmed can not reproduce the bug.\n",
      "    1. EB, Expected Behavior.\n",
      "    1. WAD, Working as Designed.\n",
      "    1. ATS process, Approved To Ship process. It means that the bug has been accepted.\n",
      "    1. frozen, Hard hang, dead, hangup, hang up, freeze.\n",
      "    1. MS, s0i3, *Modern standby\n",
      "    1. kb, keyboard.\n",
      "    1. type-c, typec, *USB Type-C.\n",
      "    1. TC, QT TC, *Test Case.\n",
      "    1. fp, finger print, finger printer, *fingerprint.\n",
      "    1. CB, cold boot, s5.\n",
      "    1. WB, warm boot.\n",
      "    1. WU, Windows Update.\n",
      "    1. RTS, Ready to shipment.\n",
      "    1. wifi, wireless, wlan.\n",
      "    1. DFU, Dock Firmware Upgrade.\n",
      "    1. QT, Quality Test department.\n",
      "    1. CE, Component Engineering department.\n",
      "    1. ES, CPU Engineering Sample.\n",
      "    1. QS, CPU Qualification Sample.\n",
      "    1. EVT or LAB, Laboratory stage of a project.\n",
      "    1. DVT or ENG, Engineering stage of a project, after LAB. Also DVT2, DVT3, etc.\n",
      "    1. PVT, Project stage that occurs after DVT and before MP.\n",
      "    1. MP: The math production stage of a project.\n",
      "\n",
      "    General rules \n",
      "    -------------\n",
      "    Do not accept cases listed below, their quality are 'no'. \n",
      "    1. Human error and poor assembly.\n",
      "    1. CND, Can not dupliate, Can not reproduce the bug.\n",
      "    1. WNF, Will not fix.\n",
      "    1. VNP, Verified Not Presented.\n",
      "    1. EB, Expected Behavior.\n",
      "    1. WAD, Working as Designed.\n",
      "    1. Limitations.\n",
      "    1. Incorrect steps and improper settings.\n",
      "    1. Duplicate/duplicated.\n",
      "    1. Already resolved; refer to elsewhere for reference.\n",
      "    1. Not yet developed; not yet implemented.\n",
      "    1. Not a bug but a tracking issue.\n",
      "    1. Clarify/specify spec (specification).\n",
      "    1. Functionality not supported.\n",
      "    1. Explain and test unrelated adverse phenomena/phenomenon that are unrelated to the explanation and testing purpose(s).\n",
      "    1. Clarify behavior. \n",
      "    1. Reference to other bug ID is NOT valuable, we want the info right here.\n",
      "    1. Only mention BIOS, driver or app version that fixed the bug wihout explain the root cause.\n",
      "\n",
      "---\n",
      "\n",
      "Follow the following format.\n",
      "\n",
      "Text: ${text}\n",
      "\n",
      "Summary: synonyms and abbreviation expansion\n",
      "\n",
      "Check Rules: check the summary with general rules, no match is allowed\n",
      "\n",
      "Component: indicate the component in trouble or N/A if not mentioned\n",
      "\n",
      "Cause: if component exists then explain the mistake happened on the component that caused the bug, otherwise N/A\n",
      "\n",
      "Conclusion: conclude the quality. cause must not N/A and no general rule violation. Ask yourself: so what is the root cause?\n",
      "\n",
      "Output: JSON key-value pairs e.g. {\"quality\":\"yes\"} or {\"quality\":\"no\"}\n",
      "\n",
      "---\n",
      "\n",
      "Text: this is EB/WAD. the 3.5mm input on WL7024 only supports audio listening.\n",
      "\n",
      "Summary: Expected Behavior/Working as Designed. 3.5mm input on WL7024 only supports audio listening.\n",
      "\n",
      "Check Rules: EB, WAD\n",
      "\n",
      "Component: WL7024\n",
      "\n",
      "Cause: N/A\n",
      "\n",
      "Conclusion: The issue is not a bug but rather the expected behavior of the device. The root cause is the design limitation of the 3.5mm input on WL7024.\n",
      "\n",
      "Output: {\"quality\":\"no\"}\n",
      "\n",
      "---\n",
      "\n",
      "Text: The sample(s) which weren't scheduled for presentation and it causes a number of frames being dropped.\n",
      "\n",
      "Summary: Samples not scheduled for presentation causing dropped frames\n",
      "\n",
      "Check Rules: VNP, Expected Behavior\n",
      "\n",
      "Component: N/A\n",
      "\n",
      "Cause: N/A\n",
      "\n",
      "Conclusion: The explanation does not violate any general rules, but it does not provide a clear root cause of the technical issue.\n",
      "\n",
      "Output: {\"quality\":\"no\"}\n",
      "\n",
      "---\n",
      "\n",
      "Text: RC: Battery service on headset is not implemented.(This solution will be added to next formal WL3024 headset FW v2.5)_x000D_ _x000D_ Newer WL3024 headset FW will be ready on Jan 25th 2024 , web post/DPeM ready on Jan 25th 2024 via DPeM app._x000D_ Headset fw version v2.5_x000D_ End user can to upgrade headset FW via DPeM app/standalone updater to update newer headset FW.\n",
      "\n",
      "Summary: Battery service not implemented, firmware update available on Jan 25th 2024\n",
      "\n",
      "Check Rules: Not yet developed; not yet implemented\n",
      "\n",
      "Component: Battery service\n",
      "\n",
      "Cause: N/A\n",
      "\n",
      "Conclusion: The root cause is that the battery service is not yet implemented, leading to the need for a firmware update.\n",
      "\n",
      "Output: {\"quality\":\"no\"}\n",
      "\n",
      "---\n",
      "\n",
      "Text: This looks to be an Intel issue. Information shared with Dawid Kwiatkowski at Intel on how to address this issue in the Intel USB sideband audio driver.\n",
      "\n",
      "Summary: Intel USB sideband audio driver issue\n",
      "\n",
      "Check Rules: No match\n",
      "\n",
      "Component: USB sideband audio driver\n",
      "\n",
      "Cause: Mistake in the Intel USB sideband audio driver\n",
      "\n",
      "Conclusion: The root cause of the technical issue is a mistake in the Intel USB sideband audio driver.\n",
      "\n",
      "Output: {\"quality\":\"yes\"}\n",
      "\n",
      "---\n",
      "\n",
      "Text: Fan speed 2 added to 9 instead of 5. Because the GPU needs more cooling power, implemented in bios v1.23\n",
      "\n",
      "Summary: Fan speed increased to 9 instead of 5 for GPU cooling, implemented in BIOS v1.23\n",
      "\n",
      "Check Rules: Only mention BIOS version that fixed the bug without explaining the root cause\n",
      "\n",
      "Component: GPU cooling\n",
      "\n",
      "Cause: Incorrect fan speed setting in BIOS\n",
      "\n",
      "Conclusion: The root cause of the technical issue is the incorrect fan speed setting in the BIOS, leading to inadequate cooling for the GPU.\n",
      "\n",
      "Output: {\"quality\":\"yes\"}\n",
      "\n",
      "\n",
      "\n"
     ]
    },
    {
     "data": {
      "text/plain": [
       "'\\n\\n\\nYou are tasked with evaluating technical descriptions written by \\n    engineers whose first language is not English. The goal is to \\n    determine if their documentation adequately and succinctly explains \\n    the root cause of technical issues in notebook computer design and \\n    manufacturing to a quality of \\'yes\\' or \\'no\\'.\\n\\n    Following are explanations of jargons and abbreviations that you \\n    will see:\\n\\n    List of Abbreviations\\n    ---------------------\\n    Note: A leading * specifies the standard form of the term.\\n    1. win10, W10, *Windows 10.\\n    1. win11, W11, *Windows 11.\\n    1. bt, *bluetooth.\\n    1. bsod, blue screen.\\n    1. YB, Yello wmark, Yellow exlamation, yellow band, *yellow bang.\\n    1. PM, power management.\\n    1. ME, CSME, Management Engine.\\n    1. CND, Can not dupliate, Can not reproduce the bug.\\n    1. WNF, Will not fix.\\n    1. VNP, Verified Not Presented, formally confirmed can not reproduce the bug.\\n    1. EB, Expected Behavior.\\n    1. WAD, Working as Designed.\\n    1. ATS process, Approved To Ship process. It means that the bug has been accepted.\\n    1. frozen, Hard hang, dead, hangup, hang up, freeze.\\n    1. MS, s0i3, *Modern standby\\n    1. kb, keyboard.\\n    1. type-c, typec, *USB Type-C.\\n    1. TC, QT TC, *Test Case.\\n    1. fp, finger print, finger printer, *fingerprint.\\n    1. CB, cold boot, s5.\\n    1. WB, warm boot.\\n    1. WU, Windows Update.\\n    1. RTS, Ready to shipment.\\n    1. wifi, wireless, wlan.\\n    1. DFU, Dock Firmware Upgrade.\\n    1. QT, Quality Test department.\\n    1. CE, Component Engineering department.\\n    1. ES, CPU Engineering Sample.\\n    1. QS, CPU Qualification Sample.\\n    1. EVT or LAB, Laboratory stage of a project.\\n    1. DVT or ENG, Engineering stage of a project, after LAB. Also DVT2, DVT3, etc.\\n    1. PVT, Project stage that occurs after DVT and before MP.\\n    1. MP: The math production stage of a project.\\n\\n    General rules \\n    -------------\\n    Do not accept cases listed below, their quality are \\'no\\'. \\n    1. Human error and poor assembly.\\n    1. CND, Can not dupliate, Can not reproduce the bug.\\n    1. WNF, Will not fix.\\n    1. VNP, Verified Not Presented.\\n    1. EB, Expected Behavior.\\n    1. WAD, Working as Designed.\\n    1. Limitations.\\n    1. Incorrect steps and improper settings.\\n    1. Duplicate/duplicated.\\n    1. Already resolved; refer to elsewhere for reference.\\n    1. Not yet developed; not yet implemented.\\n    1. Not a bug but a tracking issue.\\n    1. Clarify/specify spec (specification).\\n    1. Functionality not supported.\\n    1. Explain and test unrelated adverse phenomena/phenomenon that are unrelated to the explanation and testing purpose(s).\\n    1. Clarify behavior. \\n    1. Reference to other bug ID is NOT valuable, we want the info right here.\\n    1. Only mention BIOS, driver or app version that fixed the bug wihout explain the root cause.\\n\\n---\\n\\nFollow the following format.\\n\\nText: ${text}\\n\\nSummary: synonyms and abbreviation expansion\\n\\nCheck Rules: check the summary with general rules, no match is allowed\\n\\nComponent: indicate the component in trouble or N/A if not mentioned\\n\\nCause: if component exists then explain the mistake happened on the component that caused the bug, otherwise N/A\\n\\nConclusion: conclude the quality. cause must not N/A and no general rule violation. Ask yourself: so what is the root cause?\\n\\nOutput: JSON key-value pairs e.g. {\"quality\":\"yes\"} or {\"quality\":\"no\"}\\n\\n---\\n\\nText: this is EB/WAD. the 3.5mm input on WL7024 only supports audio listening.\\n\\nSummary: Expected Behavior/Working as Designed. 3.5mm input on WL7024 only supports audio listening.\\n\\nCheck Rules: EB, WAD\\n\\nComponent: WL7024\\n\\nCause: N/A\\n\\nConclusion: The issue is not a bug but rather the expected behavior of the device. The root cause is the design limitation of the 3.5mm input on WL7024.\\n\\nOutput: {\"quality\":\"no\"}\\n\\n---\\n\\nText: The sample(s) which weren\\'t scheduled for presentation and it causes a number of frames being dropped.\\n\\nSummary: Samples not scheduled for presentation causing dropped frames\\n\\nCheck Rules: VNP, Expected Behavior\\n\\nComponent: N/A\\n\\nCause: N/A\\n\\nConclusion: The explanation does not violate any general rules, but it does not provide a clear root cause of the technical issue.\\n\\nOutput: {\"quality\":\"no\"}\\n\\n---\\n\\nText: RC: Battery service on headset is not implemented.(This solution will be added to next formal WL3024 headset FW v2.5)_x000D_ _x000D_ Newer WL3024 headset FW will be ready on Jan 25th 2024 , web post/DPeM ready on Jan 25th 2024 via DPeM app._x000D_ Headset fw version v2.5_x000D_ End user can to upgrade headset FW via DPeM app/standalone updater to update newer headset FW.\\n\\nSummary: Battery service not implemented, firmware update available on Jan 25th 2024\\n\\nCheck Rules: Not yet developed; not yet implemented\\n\\nComponent: Battery service\\n\\nCause: N/A\\n\\nConclusion: The root cause is that the battery service is not yet implemented, leading to the need for a firmware update.\\n\\nOutput: {\"quality\":\"no\"}\\n\\n---\\n\\nText: This looks to be an Intel issue. Information shared with Dawid Kwiatkowski at Intel on how to address this issue in the Intel USB sideband audio driver.\\n\\nSummary: Intel USB sideband audio driver issue\\n\\nCheck Rules: No match\\n\\nComponent: USB sideband audio driver\\n\\nCause: Mistake in the Intel USB sideband audio driver\\n\\nConclusion: The root cause of the technical issue is a mistake in the Intel USB sideband audio driver.\\n\\nOutput: {\"quality\":\"yes\"}\\n\\n---\\n\\nText: Fan speed 2 added to 9 instead of 5. Because the GPU needs more cooling power, implemented in bios v1.23\\n\\nSummary:\\x1b[32m Fan speed increased to 9 instead of 5 for GPU cooling, implemented in BIOS v1.23\\n\\nCheck Rules: Only mention BIOS version that fixed the bug without explaining the root cause\\n\\nComponent: GPU cooling\\n\\nCause: Incorrect fan speed setting in BIOS\\n\\nConclusion: The root cause of the technical issue is the incorrect fan speed setting in the BIOS, leading to inadequate cooling for the GPU.\\n\\nOutput: {\"quality\":\"yes\"}\\x1b[0m\\n\\n\\n'"
      ]
     },
     "execution_count": 48,
     "metadata": {},
     "output_type": "execute_result"
    }
   ],
   "source": [
    "llm.inspect_history(n=1)"
   ]
  },
  {
   "cell_type": "code",
   "execution_count": null,
   "id": "3b57d8c7-1b1e-4e01-a8c1-f13b4c050e85",
   "metadata": {
    "tags": []
   },
   "outputs": [],
   "source": [
    "flags = [None] * len(root_cause_samples)"
   ]
  },
  {
   "cell_type": "code",
   "execution_count": null,
   "id": "563efd20-fad7-4638-b142-cb98d7c0e696",
   "metadata": {
    "scrolled": true,
    "tags": []
   },
   "outputs": [],
   "source": [
    "%%time\n",
    "for sample in root_cause_samples:\n",
    "    i = sample[0]\n",
    "    if flags[i] is not None: continue # 續跑支援\n",
    "    print(\"\\n\"+\"-\"*10+\"\\n\", i, sample[1], sample[2], end=\" \")\n",
    "    response = compiled_model(text=sample[1])\n",
    "    quality = response.quality\n",
    "    print(quality)    \n",
    "    flag = (i,True) if quality == sample[2] else (i,False)\n",
    "    flags[i] = flag\n",
    "    if not flag[1] : \n",
    "        print(\" *** alarm ***\")"
   ]
  },
  {
   "cell_type": "raw",
   "id": "7dd1465a-7aba-46b3-8c01-6f9416a655d7",
   "metadata": {
    "tags": []
   },
   "source": [
    "## Compile very fast thus no need to save-restore the compiled_model.\n",
    "\n",
    "jupyter   = %env jupyter   \n",
    "onedrive  = %env onedrive  \n",
    "github    = %env github    \n",
    "downloads = %env downloads \n",
    "\n",
    "pathname = f\"{github}\\\\insightbridge\\\\IBTools\\\\Hubble2 RootCause quality 83 TRs DSPy compiled_model.pkl\" \n",
    "\n",
    "# Load the compiled model from a file\n",
    "with open(pathname, 'rb') as file:\n",
    "    compiled_model = pickle.load(file)\n",
    "\n",
    "# Save the compiled model to a file\n",
    "with open(pathname, 'wb') as file:\n",
    "    pickle.dump(compiled_model, file)"
   ]
  },
  {
   "cell_type": "code",
   "execution_count": null,
   "id": "5217db17-34c0-4b95-a6cd-55fa5b785ce7",
   "metadata": {},
   "outputs": [],
   "source": []
  }
 ],
 "metadata": {
  "kernelspec": {
   "display_name": "Python 3 (ipykernel)",
   "language": "python",
   "name": "python3"
  },
  "language_info": {
   "codemirror_mode": {
    "name": "ipython",
    "version": 3
   },
   "file_extension": ".py",
   "mimetype": "text/x-python",
   "name": "python",
   "nbconvert_exporter": "python",
   "pygments_lexer": "ipython3",
   "version": "3.10.0"
  },
  "toc-autonumbering": true,
  "toc-showcode": false
 },
 "nbformat": 4,
 "nbformat_minor": 5
}
