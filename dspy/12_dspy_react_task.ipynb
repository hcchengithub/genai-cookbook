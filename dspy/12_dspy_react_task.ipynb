{
 "cells": [
  {
   "cell_type": "markdown",
   "id": "5e553a3d-8bda-4a7e-b475-d137cd33d99f",
   "metadata": {},
   "source": [
    "<img src=\"images/dspy_img.png\" height=\"35%\" width=\"%65\">\n",
    "\n",
    "## ReAct Technique\n",
    "First introduced in a paper by [Yao et al., 2022](https://arxiv.org/abs/2210.03629), ReAct is a reasoning and acting paradigm that guides LLM to respond in a structured manager to complex queries. Reasoning and actions are interleaved and progressive, in the manner of chain of thought, so that LLM progresses from one result to another, using the previous answer.\n",
    "\n",
    "<img src=\"https://www.promptingguide.ai/_next/image?url=%2F_next%2Fstatic%2Fmedia%2Freact.8e7c93ae.png&w=1920&q=75\">\n",
    "\n",
    "Results suggest that ReAct outperforms other leading methods in language and decision-making tasks, enhancing human understanding and trusting in large language models (LLMs). It is best when combined with chain-of-thought (CoT) steps as individual tasks with results being used for the next step, utilizing both internal knowledge and external information during reasoning.\n",
    "\n",
    "Let's first use a few-shot examples to indicate how an LLM should progress with its reasoning and acting to solve a complex query, requiring intermideiate results to progress to its final outcome\n",
    "\n",
    "**Note**: \n",
    "This DSPy notebook is conversion of [LLM ReAct prompting notebook](../llm-prompts/7_how_to_use_react_prompt.ipynb) using DSPy modules"
   ]
  },
  {
   "cell_type": "code",
   "execution_count": 1,
   "id": "37f525e2-a8ab-4e83-bb3e-aa593cfc73f1",
   "metadata": {
    "tags": []
   },
   "outputs": [],
   "source": [
    "_file_ = \"12_dspy_react_task.ipynb\""
   ]
  },
  {
   "cell_type": "code",
   "execution_count": 2,
   "id": "04a88020-3291-4a6b-ad79-6818fe6b459c",
   "metadata": {
    "tags": []
   },
   "outputs": [
    {
     "name": "stdout",
     "output_type": "stream",
     "text": [
      "env: OPENAI_API_KEY=\n"
     ]
    }
   ],
   "source": [
    "%env OPENAI_API_KEY=\n",
    "openai_api_key = \"\" # %env OPENAI_API_KEY"
   ]
  },
  {
   "cell_type": "code",
   "execution_count": 3,
   "id": "64731901-c27c-436c-9c26-6f3e95c44098",
   "metadata": {
    "scrolled": true,
    "tags": []
   },
   "outputs": [
    {
     "name": "stderr",
     "output_type": "stream",
     "text": [
      "2024-06-13 15:18:17,196 - INFO - Start\n",
      "2024-06-13 15:18:18,655 - INFO - access_token : eyJ0eXAiOiJKV1QiLCJhbGciOiJSUzI1NiIsIng1dCI6IkwxS2ZLRklfam5YYndXYzIyeFp4dzFzVUhIMCIsImtpZCI6IkwxS2ZLRklfam5YYndXYzIyeFp4dzFzVUhIMCJ9.eyJhdWQiOiJodHRwczovL2NvZ25pdGl2ZXNlcnZpY2VzLmF6dXJlLmNvbSIsImlzcyI6Imh0dHBzOi8vc3RzLndpbmRvd3MubmV0L2RlMDc5NWUwLWQ3YzAtNGVlYi1iOWJiLWJjOTRkODk4MGQzYi8iLCJpYXQiOjE3MTgyNjI3OTgsIm5iZiI6MTcxODI2Mjc5OCwiZXhwIjoxNzE4MjY2Njk4LCJhaW8iOiJFMmRnWUdpY1Zad1dtV0NpbG1xemZYdkZUSTc5QUE9PSIsImFwcGlkIjoiM2Y4MzI2Y2MtZGQ5Zi00ZTJjLWJlMzYtOWVjMGVjN2VlYWE2IiwiYXBwaWRhY3IiOiIxIiwiZ3JvdXBzIjpbIjM5MDUxZjJkLTlhMDQtNDc2YS1hNTk4LTRiMWRmMGQ1ODA1NiIsImUzYmFjNzk0LTllM2EtNGY1ZC04NWNiLWFkNjJhYWQzYTBmMyJdLCJpZHAiOiJodHRwczovL3N0cy53aW5kb3dzLm5ldC9kZTA3OTVlMC1kN2MwLTRlZWItYjliYi1iYzk0ZDg5ODBkM2IvIiwiaWR0eXAiOiJhcHAiLCJvaWQiOiIzYjFiMzY0OC04ZjVkLTQzNjQtODVhOS1kZjAyYTJjNWJmYWEiLCJyaCI6IjAuQVVrQTRKVUgzc0RYNjA2NXU3eVUySmdOTzVBaU1YM0lLRHhIb08yT1UzU2JiVzFKQUFBLiIsInN1YiI6IjNiMWIzNjQ4LThmNWQtNDM2NC04NWE5LWRmMDJhMmM1YmZhYSIsInRpZCI6ImRlMDc5NWUwLWQ3YzAtNGVlYi1iOWJiLWJjOTRkODk4MGQzYiIsInV0aSI6IlgwbVpwX3hCelUyY2dyUnVYNmNZQUEiLCJ2ZXIiOiIxLjAiLCJ4bXNfaWRyZWwiOiI3IDE2In0.QM9rcO_UjPo546k5R6fzCrb29ilmuc7SnmorEQPhKyeCEzlGlB_xVff5pj4U1r4BbBUeE3KYsy0R-2wPZZY4UiqyjeOnMNHZhpVGMjLYX1lieIJlS3jDqIk_Ed_N36DDwJ_kjsMrO3Yi844vqf8roM3rTpMk946NoES7fT3G9OBIgFHBHaQwN4si7-ddrAB7Ky59wDWKWB_fc2UZVSg9p7kJdihKtT-YJOmIbejRW49RvvCv38uXt1b2OPYopA_kehjg4yg6EXnclGVAwebG29lLdOpl0P1peo6RZ_zncmm_CR4zW2_lNOwZgO2i7P6z8BfSEcBVM8mb-LB1rjAfNw\n",
      "2024-06-13 15:18:18,659 - INFO - Columbus class ready\n",
      "2024-06-13 15:18:25,310 - INFO - Note: NumExpr detected 12 cores but \"NUMEXPR_MAX_THREADS\" not set, so enforcing safe limit of 8.\n",
      "2024-06-13 15:18:25,311 - INFO - NumExpr defaulting to 8 threads.\n",
      "2024-06-13 15:18:34,972 - INFO - get_llm_for_DSPy modelname=gpt-4-turbo, apikey=''\n",
      "2024-06-13 15:18:34,973 - INFO - get_llm_for_DSPy WistronGPT\n",
      "2024-06-13 15:18:35,934 - INFO - llm_for_DSPy.kwargs['extra_headers']['Authorization']: length is 1418 (normal 1374 / FT 1422)\n"
     ]
    }
   ],
   "source": [
    "from columbus_api import Columbus\n",
    "columbus = Columbus()\n",
    "llm = columbus.get_llm_for_DSPy(\"gpt-4-turbo\", openai_api_key=openai_api_key)\n",
    "llm.kwargs['max_tokens']=1500"
   ]
  },
  {
   "cell_type": "code",
   "execution_count": 41,
   "id": "905a2199-67ef-4af1-8dc3-2a2deeda2c47",
   "metadata": {
    "tags": []
   },
   "outputs": [
    {
     "name": "stderr",
     "output_type": "stream",
     "text": [
      "2024-06-14 05:01:00,182 - INFO - HTTP Request: POST https://wistron-apim-qas.wistron.com/openai/deployments/gpt-4-turbo/chat/completions?api-version=2024-03-01-preview \"HTTP/1.1 200 OK\"\n"
     ]
    },
    {
     "data": {
      "text/plain": [
       "['Hello! How can I assist you today? If you have any questions or need information on a particular topic, feel free to ask.']"
      ]
     },
     "execution_count": 41,
     "metadata": {},
     "output_type": "execute_result"
    }
   ],
   "source": [
    "llm.kwargs['extra_headers']['Authorization'] = f\"Bearer {columbus.get_access_token()}\"    \n",
    "llm(\"Hello World!\")"
   ]
  },
  {
   "cell_type": "code",
   "execution_count": 5,
   "id": "d4666f55-0188-4629-807f-2f04769d9b14",
   "metadata": {
    "tags": []
   },
   "outputs": [],
   "source": [
    "import warnings\n",
    "import dspy\n",
    "from dspy.teleprompt import LabeledFewShot\n",
    "\n",
    "from dspy_utils import BOLD_BEGIN, BOLD_END, ThoughtReflection\n",
    "from dspy_examples_utils import get_few_shot_dspy_examples\n",
    "warnings.filterwarnings(\"ignore\")"
   ]
  },
  {
   "cell_type": "markdown",
   "id": "003e71d0-c623-4a90-bb33-63a9d962bf9b",
   "metadata": {},
   "source": [
    "### Instantiate our Language Model"
   ]
  },
  {
   "cell_type": "code",
   "execution_count": 6,
   "id": "72eab348-93c5-41a2-950f-247a087bfe5f",
   "metadata": {
    "tags": []
   },
   "outputs": [],
   "source": [
    "# Setup OLlama environment on the local machine\n",
    "# ollama_mistral = dspy.OllamaLocal(model='mistral',\n",
    "#                                       max_tokens=5000)\n",
    "# Instantiate the ColBERTv2 as Retrieval module\n",
    "colbert_rm = dspy.ColBERTv2(url='http://20.102.90.50:2017/wiki17_abstracts')\n",
    "\n",
    "# Configure the settings\n",
    "# dspy.settings.configure(lm=ollama_mistral, rm=colbert_rm)\n",
    "dspy.settings.configure(lm=llm, rm=colbert_rm)"
   ]
  },
  {
   "cell_type": "markdown",
   "id": "57635341-0d91-412c-8b06-75d4a15a434b",
   "metadata": {},
   "source": [
    "### Get some few-shot DSPy Examples"
   ]
  },
  {
   "cell_type": "code",
   "execution_count": 8,
   "id": "38d3527f-7ceb-4ab1-afce-5e8ffd666e78",
   "metadata": {
    "scrolled": true,
    "tags": []
   },
   "outputs": [
    {
     "data": {
      "text/plain": [
       "(3,\n",
       " Example({'question': 'What is the elevation range for the area that the eastern sector of the\\n                    Colorado orogeny extends into?', 'thought_1': 'I need to search Colorado orogeny, find the area that the eastern sector\\n                        of the Colorado orogeny extends into, then find the elevation range of the\\n                        area.', 'action_1': 'Search[Colorado orogeny]', 'observation_1': 'The Colorado orogeny was an episode of mountain building (an orogeny) in\\n                          Colorado and surrounding areas. It occurred during the Late Cretaceous and early Paleogene periods of the', 'thought_2': 'It does not mention the eastern sector. So I need to look up eastern sector.', 'action_2': 'Search[eastern sector]', 'observation_2': '(Result 1 / 1) The eastern sector extends into the High Plains and is called\\n                        the Central Plains orogeny. .', 'thought_3': 'The eastern sector of Colorado orogeny extends into the High Plains. So I\\n                    need to search High Plains and find its elevation range.', 'action_3': 'Search[High Plains]', 'observation_3': 'High Plains refers to one of two distinct land regions', 'thought_4': 'I need to instead search High Plains (United States).', 'action_4': 'Search[High Plains (United States)]', 'observation_4': 'The High Plains are a subregion of the Great Plains. From east to west, the\\n                        High Plains rise in elevation from around 1,800 to 7,000 ft (550 to 2,130\\n                    m).[3]', 'thought_5': ' High Plains rise in elevation from around 1,800 to 7,000 ft, so the answer\\n                    is 1,800 to 7,000 ft.', 'answer': 'Finish[1,800 to 7,000 ft]'}) (input_keys={'question'}))"
      ]
     },
     "execution_count": 8,
     "metadata": {},
     "output_type": "execute_result"
    }
   ],
   "source": [
    "# Get some few-shot DSPy Examples for the module to learn and respond\n",
    "# according\n",
    "examples_set = get_few_shot_dspy_examples()\n",
    "len(examples_set),examples_set[0]"
   ]
  },
  {
   "cell_type": "markdown",
   "id": "a2a88895-744b-4c2e-8c4e-304a27dfc966",
   "metadata": {},
   "source": [
    "### Instantiate the ThoughtReflection module"
   ]
  },
  {
   "cell_type": "code",
   "execution_count": 46,
   "id": "7fceb599-fc34-4b2f-97c4-7c46aa921d7a",
   "metadata": {
    "tags": []
   },
   "outputs": [
    {
     "data": {
      "text/plain": [
       "predict = ChainOfThought(QuestionAnswer(question -> answer\n",
       "    instructions='Answer questions based on the input question.'\n",
       "    question = Field(annotation=str required=True json_schema_extra={'__dspy_field_type': 'input', 'prefix': 'Question:', 'desc': '${question}'})\n",
       "    answer = Field(annotation=str required=True json_schema_extra={'__dspy_field_type': 'output', 'prefix': 'Answer:', 'desc': '${answer}'})\n",
       "))\n",
       "compare.predict = Predict(StringSignature(question, reasoning_attempt_1, reasoning_attempt_2, reasoning_attempt_3, reasoning_attempt_4, reasoning_attempt_5 -> rationale, answer\n",
       "    instructions='Answer questions based on the input question.'\n",
       "    question = Field(annotation=str required=True json_schema_extra={'__dspy_field_type': 'input', 'prefix': 'Question:', 'desc': '${question}'})\n",
       "    reasoning_attempt_1 = Field(annotation=str required=True json_schema_extra={'prefix': 'Student Attempt #1:', 'desc': '${reasoning attempt}', '__dspy_field_type': 'input'})\n",
       "    reasoning_attempt_2 = Field(annotation=str required=True json_schema_extra={'prefix': 'Student Attempt #2:', 'desc': '${reasoning attempt}', '__dspy_field_type': 'input'})\n",
       "    reasoning_attempt_3 = Field(annotation=str required=True json_schema_extra={'prefix': 'Student Attempt #3:', 'desc': '${reasoning attempt}', '__dspy_field_type': 'input'})\n",
       "    reasoning_attempt_4 = Field(annotation=str required=True json_schema_extra={'prefix': 'Student Attempt #4:', 'desc': '${reasoning attempt}', '__dspy_field_type': 'input'})\n",
       "    reasoning_attempt_5 = Field(annotation=str required=True json_schema_extra={'prefix': 'Student Attempt #5:', 'desc': '${reasoning attempt}', '__dspy_field_type': 'input'})\n",
       "    rationale = Field(annotation=str required=True json_schema_extra={'prefix': \"Accurate Reasoning: Thank you everyone. Let's now holistically\", 'desc': '${corrected reasoning}', '__dspy_field_type': 'output'})\n",
       "    answer = Field(annotation=str required=True json_schema_extra={'__dspy_field_type': 'output', 'prefix': 'Answer:', 'desc': '${answer}'})\n",
       "))"
      ]
     },
     "execution_count": 46,
     "metadata": {},
     "output_type": "execute_result"
    }
   ],
   "source": [
    "tought_of_reflection = ThoughtReflection()\n",
    "tought_of_reflection"
   ]
  },
  {
   "cell_type": "markdown",
   "id": "36dda410-d677-4aae-b1a6-f9c11e02be67",
   "metadata": {},
   "source": [
    "### Set up a basic teleprompter optimizer "
   ]
  },
  {
   "cell_type": "code",
   "execution_count": 10,
   "id": "d31317f7-053a-4b71-acf2-536dd3058d79",
   "metadata": {
    "tags": []
   },
   "outputs": [],
   "source": [
    "# Set up a basic teleprompter optimizer \n",
    "# and use it to compile our ReACT program.\n",
    "teleprompter = LabeledFewShot(k=5)"
   ]
  },
  {
   "cell_type": "markdown",
   "id": "4b561634-bfa0-42c6-a45e-03b3d2423f3e",
   "metadata": {},
   "source": [
    "### Compile the ReAct module"
   ]
  },
  {
   "cell_type": "code",
   "execution_count": 11,
   "id": "95c95cad-db9c-4cdf-8900-293d0f34767b",
   "metadata": {
    "tags": []
   },
   "outputs": [
    {
     "name": "stdout",
     "output_type": "stream",
     "text": [
      "CPU times: total: 0 ns\n",
      "Wall time: 0 ns\n"
     ]
    }
   ],
   "source": [
    "# Compile the ReACT model\n",
    "compiled_tf= teleprompter.compile(tought_of_reflection, trainset=examples_set)"
   ]
  },
  {
   "cell_type": "markdown",
   "id": "9c491593-b411-4e9c-994d-e44bc9e739a8",
   "metadata": {},
   "source": [
    "### Example 1: Use a in-context example for calculating the pace and rate each day of climbing Mount Kilimajaro"
   ]
  },
  {
   "cell_type": "code",
   "execution_count": 17,
   "id": "4ca9f56c-6856-4f3b-946d-932d61e87457",
   "metadata": {
    "tags": []
   },
   "outputs": [],
   "source": [
    "question = \"\"\"\"Based on information provided to you upto 2023, \n",
    "                what is the elevation in feet of Mount Kilimanjoro?\n",
    "                What is the recommended and healthy way to climb the mountain \n",
    "                in terms of ascending number of feet per day?\n",
    "                and how long will it take to get to the top?\"\"\""
   ]
  },
  {
   "cell_type": "code",
   "execution_count": 18,
   "id": "24cb73e7-c7b4-4f3a-a562-d4dab3f2d4ba",
   "metadata": {
    "tags": []
   },
   "outputs": [],
   "source": [
    "answer = compiled_tf(question)"
   ]
  },
  {
   "cell_type": "code",
   "execution_count": 19,
   "id": "65864d82-76e1-4c85-8cc7-186c8d424a9b",
   "metadata": {
    "scrolled": true,
    "tags": []
   },
   "outputs": [
    {
     "name": "stdout",
     "output_type": "stream",
     "text": [
      "Answer    : Prediction(\n",
      "    rationale='review the attempts and provide the corrected reasoning. Mount Kilimanjaro\\'s elevation is approximately 19,341 feet. The rate of ascent recommended for acclimatization varies, but it is generally accepted to be between 1,000 to 2,000 feet per day. The average time to climb the mountain allowing for proper acclimatization is usually between 7 to 9 days. This is because climbing routes are designed to help hikers acclimatize by following the \"climb high, sleep low\" principle, with rest days included. Given this, the exact number of days to reach the summit can vary depending on the route taken and the climber\\'s pace, but the general recommendation is to take it slow and allow for acclimatization rather than adhering to a strict number of ascending feet per day.',\n",
      "    answer='19,341 feet, it is recommended to ascend slowly and allow for acclimatization, taking approximately 7 to 9 days to reach the summit.'\n",
      ")\n"
     ]
    }
   ],
   "source": [
    "print(f\"{BOLD_BEGIN}Answer    : {BOLD_END}{answer}\")"
   ]
  },
  {
   "cell_type": "markdown",
   "id": "b328b729-c0ba-4c3e-94e3-240826590ab4",
   "metadata": {},
   "source": [
    "#### Examine optimized prompts generated for the LLMs"
   ]
  },
  {
   "cell_type": "code",
   "execution_count": 21,
   "id": "d4df69bc-807f-43d8-a643-f70f4bb30071",
   "metadata": {
    "scrolled": true,
    "tags": []
   },
   "outputs": [
    {
     "name": "stdout",
     "output_type": "stream",
     "text": [
      "\n",
      "\n",
      "\n",
      "Answer questions based on the input question.\n",
      "\n",
      "---\n",
      "\n",
      "Question: Based on information provided to you upto 2023, Who was Olivia Wilde's boyfriend? What is his current age raised to the 0.23 power?\n",
      "Answer: Finish[2.66]\n",
      "\n",
      "Question: Based on information provided to you upto 2023, how do you calculate the value of PI. With its current value of PI, given a circle of diameter 2 meters, what its its circumcernce and area?\n",
      "Answer: Finish[Circumference: 6.28318 meters, Area: 3.14159 square meters]\n",
      "\n",
      "Question: What is the elevation range for the area that the eastern sector of the Colorado orogeny extends into?\n",
      "Answer: Finish[1,800 to 7,000 ft]\n",
      "\n",
      "---\n",
      "\n",
      "Follow the following format.\n",
      "\n",
      "Question: ${question}\n",
      "\n",
      "Student Attempt #1: ${reasoning attempt}\n",
      "\n",
      "Student Attempt #2: ${reasoning attempt}\n",
      "\n",
      "Student Attempt #3: ${reasoning attempt}\n",
      "\n",
      "Student Attempt #4: ${reasoning attempt}\n",
      "\n",
      "Student Attempt #5: ${reasoning attempt}\n",
      "\n",
      "Accurate Reasoning: Thank you everyone. Let's now holistically ${corrected reasoning}\n",
      "\n",
      "Answer: ${answer}\n",
      "\n",
      "---\n",
      "\n",
      "Question: \"Based on information provided to you upto 2023, what is the elevation in feet of Mount Kilimanjoro? What is the recommended and healthy way to climb the mountain in terms of ascending number of feet per day? and how long will it take to get to the top?\n",
      "\n",
      "Student Attempt #1: «I'm trying to Question: \"Based on information provided to you upto 2023, what is the elevation in feet of Mount Kilimanjaro? What is the recommended and healthy way to climb the mountain in terms of ascending number of feet per day? and how long will it take to get to the top? I'm not sure but my prediction is Mount Kilimanjaro's elevation is approximately 19,341 feet. It is generally recommended to ascend no more than 1,000 to 2,000 feet per day for acclimatization. If we take an average of this range, say 1,500 feet per day, it would take roughly 13 days to reach the summit, allowing for rest and acclimatization days.»\n",
      "\n",
      "Student Attempt #2: «I'm trying to Question: Based on information provided to you upto 2023, what is the elevation in feet of Mount Kilimanjaro? What is the recommended and healthy way to climb the mountain in terms of ascending number of feet per day? and how long will it take to get to the top? I'm not sure but my prediction is Mount Kilimanjaro's elevation is approximately 19,341 feet. It is recommended to ascend at a rate of 1,000 to 2,000 feet per day to allow for proper acclimatization. If we take a moderate ascent rate of 1,500 feet per day, it would take about 13 days to reach the summit, which aligns with the typical 5 to 9 days it takes most climbers on various routes that include acclimatization days. However, the exact time can vary based on the chosen route and individual acclimatization needs.»\n",
      "\n",
      "Student Attempt #3: «I'm trying to Question: \"Based on information provided to you upto 2023, what is the elevation in feet of Mount Kilimanjaro? What is the recommended and healthy way to climb the mountain in terms of ascending number of feet per day? and how long will it take to get to the top? I'm not sure but my prediction is ${answer}»\n",
      "\n",
      "Student Attempt #4: «I'm trying to Question: Based on information provided to you upto 2023, what is the elevation in feet of Mount Kilimanjaro? What is the recommended and healthy way to climb the mountain in terms of ascending number of feet per day? and how long will it take to get to the top? I'm not sure but my prediction is The elevation of Mount Kilimanjaro is 19,341 feet. A healthy way to climb is to ascend gradually, allowing for acclimatization with a recommended ascent of about 1,000 feet per day once above 10,000 feet, and taking rest days into account. It typically takes about 7 to 9 days to reach the top following the recommended guidelines.»\n",
      "\n",
      "Student Attempt #5: «I'm trying to Question: \"Based on information provided to you upto 2023, what is the elevation in feet of Mount Kilimanjaro? What is the recommended and healthy way to climb the mountain in terms of ascending number of feet per day? and how long will it take to get to the top? I'm not sure but my prediction is Finish[19,341 feet, recommended ascent is 1,000 feet per day, so it would take approximately 19 days to reach the top]»\n",
      "\n",
      "Accurate Reasoning: Thank you everyone. Let's now holistically review the attempts and provide the corrected reasoning. Mount Kilimanjaro's elevation is approximately 19,341 feet. The rate of ascent recommended for acclimatization varies, but it is generally accepted to be between 1,000 to 2,000 feet per day. The average time to climb the mountain allowing for proper acclimatization is usually between 7 to 9 days. This is because climbing routes are designed to help hikers acclimatize by following the \"climb high, sleep low\" principle, with rest days included. Given this, the exact number of days to reach the summit can vary depending on the route taken and the climber's pace, but the general recommendation is to take it slow and allow for acclimatization rather than adhering to a strict number of ascending feet per day.\n",
      "\n",
      "Answer: 19,341 feet, it is recommended to ascend slowly and allow for acclimatization, taking approximately 7 to 9 days to reach the summit.\n",
      "\n",
      "\n",
      "\n"
     ]
    },
    {
     "data": {
      "text/plain": [
       "'\\n\\n\\nAnswer questions based on the input question.\\n\\n---\\n\\nQuestion: Based on information provided to you upto 2023, Who was Olivia Wilde\\'s boyfriend? What is his current age raised to the 0.23 power?\\nAnswer: Finish[2.66]\\n\\nQuestion: Based on information provided to you upto 2023, how do you calculate the value of PI. With its current value of PI, given a circle of diameter 2 meters, what its its circumcernce and area?\\nAnswer: Finish[Circumference: 6.28318 meters, Area: 3.14159 square meters]\\n\\nQuestion: What is the elevation range for the area that the eastern sector of the Colorado orogeny extends into?\\nAnswer: Finish[1,800 to 7,000 ft]\\n\\n---\\n\\nFollow the following format.\\n\\nQuestion: ${question}\\n\\nStudent Attempt #1: ${reasoning attempt}\\n\\nStudent Attempt #2: ${reasoning attempt}\\n\\nStudent Attempt #3: ${reasoning attempt}\\n\\nStudent Attempt #4: ${reasoning attempt}\\n\\nStudent Attempt #5: ${reasoning attempt}\\n\\nAccurate Reasoning: Thank you everyone. Let\\'s now holistically ${corrected reasoning}\\n\\nAnswer: ${answer}\\n\\n---\\n\\nQuestion: \"Based on information provided to you upto 2023, what is the elevation in feet of Mount Kilimanjoro? What is the recommended and healthy way to climb the mountain in terms of ascending number of feet per day? and how long will it take to get to the top?\\n\\nStudent Attempt #1: «I\\'m trying to Question: \"Based on information provided to you upto 2023, what is the elevation in feet of Mount Kilimanjaro? What is the recommended and healthy way to climb the mountain in terms of ascending number of feet per day? and how long will it take to get to the top? I\\'m not sure but my prediction is Mount Kilimanjaro\\'s elevation is approximately 19,341 feet. It is generally recommended to ascend no more than 1,000 to 2,000 feet per day for acclimatization. If we take an average of this range, say 1,500 feet per day, it would take roughly 13 days to reach the summit, allowing for rest and acclimatization days.»\\n\\nStudent Attempt #2: «I\\'m trying to Question: Based on information provided to you upto 2023, what is the elevation in feet of Mount Kilimanjaro? What is the recommended and healthy way to climb the mountain in terms of ascending number of feet per day? and how long will it take to get to the top? I\\'m not sure but my prediction is Mount Kilimanjaro\\'s elevation is approximately 19,341 feet. It is recommended to ascend at a rate of 1,000 to 2,000 feet per day to allow for proper acclimatization. If we take a moderate ascent rate of 1,500 feet per day, it would take about 13 days to reach the summit, which aligns with the typical 5 to 9 days it takes most climbers on various routes that include acclimatization days. However, the exact time can vary based on the chosen route and individual acclimatization needs.»\\n\\nStudent Attempt #3: «I\\'m trying to Question: \"Based on information provided to you upto 2023, what is the elevation in feet of Mount Kilimanjaro? What is the recommended and healthy way to climb the mountain in terms of ascending number of feet per day? and how long will it take to get to the top? I\\'m not sure but my prediction is ${answer}»\\n\\nStudent Attempt #4: «I\\'m trying to Question: Based on information provided to you upto 2023, what is the elevation in feet of Mount Kilimanjaro? What is the recommended and healthy way to climb the mountain in terms of ascending number of feet per day? and how long will it take to get to the top? I\\'m not sure but my prediction is The elevation of Mount Kilimanjaro is 19,341 feet. A healthy way to climb is to ascend gradually, allowing for acclimatization with a recommended ascent of about 1,000 feet per day once above 10,000 feet, and taking rest days into account. It typically takes about 7 to 9 days to reach the top following the recommended guidelines.»\\n\\nStudent Attempt #5: «I\\'m trying to Question: \"Based on information provided to you upto 2023, what is the elevation in feet of Mount Kilimanjaro? What is the recommended and healthy way to climb the mountain in terms of ascending number of feet per day? and how long will it take to get to the top? I\\'m not sure but my prediction is Finish[19,341 feet, recommended ascent is 1,000 feet per day, so it would take approximately 19 days to reach the top]»\\n\\nAccurate Reasoning: Thank you everyone. Let\\'s now holistically\\x1b[32m review the attempts and provide the corrected reasoning. Mount Kilimanjaro\\'s elevation is approximately 19,341 feet. The rate of ascent recommended for acclimatization varies, but it is generally accepted to be between 1,000 to 2,000 feet per day. The average time to climb the mountain allowing for proper acclimatization is usually between 7 to 9 days. This is because climbing routes are designed to help hikers acclimatize by following the \"climb high, sleep low\" principle, with rest days included. Given this, the exact number of days to reach the summit can vary depending on the route taken and the climber\\'s pace, but the general recommendation is to take it slow and allow for acclimatization rather than adhering to a strict number of ascending feet per day.\\n\\nAnswer: 19,341 feet, it is recommended to ascend slowly and allow for acclimatization, taking approximately 7 to 9 days to reach the summit.\\x1b[0m\\n\\n\\n'"
      ]
     },
     "execution_count": 21,
     "metadata": {},
     "output_type": "execute_result"
    }
   ],
   "source": [
    "# Examine the history of the prompts generated by the ReACT model\n",
    "# print(ollama_mistral.inspect_history(n=1))\n",
    "llm.inspect_history(n=1)"
   ]
  },
  {
   "cell_type": "markdown",
   "id": "11677faa-8fa1-4470-a37a-ac121c264f16",
   "metadata": {},
   "source": [
    "### Example 2: Use a in-context example for quering history of an Apple gadget from its existing knowledge base"
   ]
  },
  {
   "cell_type": "code",
   "execution_count": 22,
   "id": "f27c976f-a662-47ad-87d6-3ca679f43b8b",
   "metadata": {
    "tags": []
   },
   "outputs": [],
   "source": [
    "question = \"\"\"\n",
    "            Based on information provided to you upto 2023, aside from the Apple Remote, what other devices can \n",
    "            control the program Apple Remote was originally designed to interact with?\"\"\""
   ]
  },
  {
   "cell_type": "code",
   "execution_count": 25,
   "id": "166c47e0-ea53-4ed6-bae3-b1d49c349b6a",
   "metadata": {
    "tags": []
   },
   "outputs": [
    {
     "name": "stderr",
     "output_type": "stream",
     "text": [
      "2024-06-13 16:58:40,704 - INFO - HTTP Request: POST https://wistron-apim-qas.wistron.com/openai/deployments/gpt-4-turbo/chat/completions?api-version=2024-03-01-preview \"HTTP/1.1 200 OK\"\n",
      "2024-06-13 16:58:51,867 - INFO - HTTP Request: POST https://wistron-apim-qas.wistron.com/openai/deployments/gpt-4-turbo/chat/completions?api-version=2024-03-01-preview \"HTTP/1.1 200 OK\"\n"
     ]
    }
   ],
   "source": [
    "answer = compiled_tf(question)"
   ]
  },
  {
   "cell_type": "code",
   "execution_count": 26,
   "id": "f93efc53-acbc-43e2-9b7f-94ea0b45c213",
   "metadata": {
    "scrolled": true,
    "tags": []
   },
   "outputs": [
    {
     "name": "stdout",
     "output_type": "stream",
     "text": [
      "Answer    : Prediction(\n",
      "    rationale=\"review the devices that can control the program Apple Remote was originally designed to interact with. The Apple Remote was designed to work with various Apple products, including Mac computers, Apple TV, and some iPod models. With technological advancements, the control options have expanded. Devices such as iPhones and iPads can control these Apple devices using the Remote app, which has been integrated into the iOS Control Center. The Apple Watch can also control these devices via its own remote control functionalities. In addition to Apple's own products, third-party universal remotes that are compatible with Apple's IR system can be used to control these programs. Furthermore, there are third-party apps available on various smartphones that can interact with Apple's ecosystem using Wi-Fi. Some of these apps emulate the functions of the Apple Remote and can be used to control Apple TV and other compatible devices. Given the information available up to 2023, these are the devices and methods that can control the program Apple Remote was originally designed to interact with.\",\n",
      "    answer=\"iPhones, iPads (using the Remote app or Control Center), Apple Watch, third-party universal remotes compatible with Apple's IR system, and third-party apps on smartphones using Wi-Fi.\"\n",
      ")\n"
     ]
    }
   ],
   "source": [
    "print(f\"{BOLD_BEGIN}Answer    : {BOLD_END}{answer}\")"
   ]
  },
  {
   "cell_type": "code",
   "execution_count": 27,
   "id": "b9ee85c3-9ef0-445a-bdbe-845fd218fddc",
   "metadata": {
    "scrolled": true,
    "tags": []
   },
   "outputs": [
    {
     "name": "stdout",
     "output_type": "stream",
     "text": [
      "\n",
      "\n",
      "\n",
      "Answer questions based on the input question.\n",
      "\n",
      "---\n",
      "\n",
      "Question: Based on information provided to you upto 2023, Who was Olivia Wilde's boyfriend? What is his current age raised to the 0.23 power?\n",
      "Answer: Finish[2.66]\n",
      "\n",
      "Question: Based on information provided to you upto 2023, how do you calculate the value of PI. With its current value of PI, given a circle of diameter 2 meters, what its its circumcernce and area?\n",
      "Answer: Finish[Circumference: 6.28318 meters, Area: 3.14159 square meters]\n",
      "\n",
      "Question: What is the elevation range for the area that the eastern sector of the Colorado orogeny extends into?\n",
      "Answer: Finish[1,800 to 7,000 ft]\n",
      "\n",
      "---\n",
      "\n",
      "Follow the following format.\n",
      "\n",
      "Question: ${question}\n",
      "\n",
      "Student Attempt #1: ${reasoning attempt}\n",
      "\n",
      "Student Attempt #2: ${reasoning attempt}\n",
      "\n",
      "Student Attempt #3: ${reasoning attempt}\n",
      "\n",
      "Student Attempt #4: ${reasoning attempt}\n",
      "\n",
      "Student Attempt #5: ${reasoning attempt}\n",
      "\n",
      "Accurate Reasoning: Thank you everyone. Let's now holistically ${corrected reasoning}\n",
      "\n",
      "Answer: ${answer}\n",
      "\n",
      "---\n",
      "\n",
      "Question: Based on information provided to you upto 2023, aside from the Apple Remote, what other devices can control the program Apple Remote was originally designed to interact with?\n",
      "\n",
      "Student Attempt #1: «I'm trying to Question: Based on information provided to you upto 2023, aside from the Apple Remote, what other devices can control the program Apple Remote was originally designed to interact with? I'm not sure but my prediction is iPhones, iPads, third-party universal remotes, and smart home systems can control the program Apple Remote was originally designed to interact with.»\n",
      "\n",
      "Student Attempt #2: «I'm trying to Question: Based on information provided to you upto 2023, aside from the Apple Remote, what other devices can control the program Apple Remote was originally designed to interact with? I'm not sure but my prediction is iOS devices (iPhone, iPad), Apple Watch, Siri Remote, third-party apps, HomeKit-compatible devices, and AirPlay 2 speakers.»\n",
      "\n",
      "Student Attempt #3: «I'm trying to Question: Based on information provided to you upto 2023, aside from the Apple Remote, what other devices can control the program Apple Remote was originally designed to interact with? I'm not sure but my prediction is iPhone, iPad, Apple Watch, Mac computers with keyboard and trackpad, third-party universal remotes»\n",
      "\n",
      "Student Attempt #4: «I'm trying to Reasoning: Let's think step by step in order to identify other devices that can control the program the Apple Remote was originally designed to interact with. Firstly, we know that the Apple Remote is designed to work with Apple devices such as Mac computers, iPods, iPhones, and Apple TV. Beyond the Apple Remote, other devices that can control these programs include other Apple products with built-in remotes or remote functionalities, such as the iPhone, iPad, and Apple Watch when they use apps like the Remote app. Additionally, third-party universal remotes that are compatible with Apple's IR system, as well as software solutions like third-party apps on smartphones, can also control these devices. Furthermore, Mac computers can be controlled using keyboards and mice or trackpads with appropriate software to simulate remote control functions. I'm not sure but my prediction is Finish[iPhone, iPad, Apple Watch, third-party universal remotes, and other third-party apps on smartphones]»\n",
      "\n",
      "Student Attempt #5: «I'm trying to Reasoning: Let's think step by step in order to identify the devices that can control the program Apple Remote was originally designed to interact with. The Apple Remote was primarily designed to work with Apple devices such as Mac computers, Apple TV, and some iPod models. However, other devices can also control these Apple programs and services, such as iPhones and iPads running the Remote app (now integrated into the Control Center on iOS), third-party universal remotes that are compatible with Apple's IR system, and even some third-party apps on various smartphones that use Wi-Fi to interact with Apple's ecosystem. Therefore, we need to list these alternative control methods that have been available up to 2023. I'm not sure but my prediction is iPhones, iPads (with the Remote app or Control Center functionalities), third-party universal remotes compatible with Apple's IR system, and third-party apps on smartphones using Wi-Fi.»\n",
      "\n",
      "Accurate Reasoning: Thank you everyone. Let's now holistically review the devices that can control the program Apple Remote was originally designed to interact with. The Apple Remote was designed to work with various Apple products, including Mac computers, Apple TV, and some iPod models. With technological advancements, the control options have expanded. Devices such as iPhones and iPads can control these Apple devices using the Remote app, which has been integrated into the iOS Control Center. The Apple Watch can also control these devices via its own remote control functionalities. In addition to Apple's own products, third-party universal remotes that are compatible with Apple's IR system can be used to control these programs. Furthermore, there are third-party apps available on various smartphones that can interact with Apple's ecosystem using Wi-Fi. Some of these apps emulate the functions of the Apple Remote and can be used to control Apple TV and other compatible devices. Given the information available up to 2023, these are the devices and methods that can control the program Apple Remote was originally designed to interact with.\n",
      "\n",
      "Answer: iPhones, iPads (using the Remote app or Control Center), Apple Watch, third-party universal remotes compatible with Apple's IR system, and third-party apps on smartphones using Wi-Fi.\n",
      "\n",
      "\n",
      "\n"
     ]
    },
    {
     "data": {
      "text/plain": [
       "\"\\n\\n\\nAnswer questions based on the input question.\\n\\n---\\n\\nQuestion: Based on information provided to you upto 2023, Who was Olivia Wilde's boyfriend? What is his current age raised to the 0.23 power?\\nAnswer: Finish[2.66]\\n\\nQuestion: Based on information provided to you upto 2023, how do you calculate the value of PI. With its current value of PI, given a circle of diameter 2 meters, what its its circumcernce and area?\\nAnswer: Finish[Circumference: 6.28318 meters, Area: 3.14159 square meters]\\n\\nQuestion: What is the elevation range for the area that the eastern sector of the Colorado orogeny extends into?\\nAnswer: Finish[1,800 to 7,000 ft]\\n\\n---\\n\\nFollow the following format.\\n\\nQuestion: ${question}\\n\\nStudent Attempt #1: ${reasoning attempt}\\n\\nStudent Attempt #2: ${reasoning attempt}\\n\\nStudent Attempt #3: ${reasoning attempt}\\n\\nStudent Attempt #4: ${reasoning attempt}\\n\\nStudent Attempt #5: ${reasoning attempt}\\n\\nAccurate Reasoning: Thank you everyone. Let's now holistically ${corrected reasoning}\\n\\nAnswer: ${answer}\\n\\n---\\n\\nQuestion: Based on information provided to you upto 2023, aside from the Apple Remote, what other devices can control the program Apple Remote was originally designed to interact with?\\n\\nStudent Attempt #1: «I'm trying to Question: Based on information provided to you upto 2023, aside from the Apple Remote, what other devices can control the program Apple Remote was originally designed to interact with? I'm not sure but my prediction is iPhones, iPads, third-party universal remotes, and smart home systems can control the program Apple Remote was originally designed to interact with.»\\n\\nStudent Attempt #2: «I'm trying to Question: Based on information provided to you upto 2023, aside from the Apple Remote, what other devices can control the program Apple Remote was originally designed to interact with? I'm not sure but my prediction is iOS devices (iPhone, iPad), Apple Watch, Siri Remote, third-party apps, HomeKit-compatible devices, and AirPlay 2 speakers.»\\n\\nStudent Attempt #3: «I'm trying to Question: Based on information provided to you upto 2023, aside from the Apple Remote, what other devices can control the program Apple Remote was originally designed to interact with? I'm not sure but my prediction is iPhone, iPad, Apple Watch, Mac computers with keyboard and trackpad, third-party universal remotes»\\n\\nStudent Attempt #4: «I'm trying to Reasoning: Let's think step by step in order to identify other devices that can control the program the Apple Remote was originally designed to interact with. Firstly, we know that the Apple Remote is designed to work with Apple devices such as Mac computers, iPods, iPhones, and Apple TV. Beyond the Apple Remote, other devices that can control these programs include other Apple products with built-in remotes or remote functionalities, such as the iPhone, iPad, and Apple Watch when they use apps like the Remote app. Additionally, third-party universal remotes that are compatible with Apple's IR system, as well as software solutions like third-party apps on smartphones, can also control these devices. Furthermore, Mac computers can be controlled using keyboards and mice or trackpads with appropriate software to simulate remote control functions. I'm not sure but my prediction is Finish[iPhone, iPad, Apple Watch, third-party universal remotes, and other third-party apps on smartphones]»\\n\\nStudent Attempt #5: «I'm trying to Reasoning: Let's think step by step in order to identify the devices that can control the program Apple Remote was originally designed to interact with. The Apple Remote was primarily designed to work with Apple devices such as Mac computers, Apple TV, and some iPod models. However, other devices can also control these Apple programs and services, such as iPhones and iPads running the Remote app (now integrated into the Control Center on iOS), third-party universal remotes that are compatible with Apple's IR system, and even some third-party apps on various smartphones that use Wi-Fi to interact with Apple's ecosystem. Therefore, we need to list these alternative control methods that have been available up to 2023. I'm not sure but my prediction is iPhones, iPads (with the Remote app or Control Center functionalities), third-party universal remotes compatible with Apple's IR system, and third-party apps on smartphones using Wi-Fi.»\\n\\nAccurate Reasoning: Thank you everyone. Let's now holistically\\x1b[32m review the devices that can control the program Apple Remote was originally designed to interact with. The Apple Remote was designed to work with various Apple products, including Mac computers, Apple TV, and some iPod models. With technological advancements, the control options have expanded. Devices such as iPhones and iPads can control these Apple devices using the Remote app, which has been integrated into the iOS Control Center. The Apple Watch can also control these devices via its own remote control functionalities. In addition to Apple's own products, third-party universal remotes that are compatible with Apple's IR system can be used to control these programs. Furthermore, there are third-party apps available on various smartphones that can interact with Apple's ecosystem using Wi-Fi. Some of these apps emulate the functions of the Apple Remote and can be used to control Apple TV and other compatible devices. Given the information available up to 2023, these are the devices and methods that can control the program Apple Remote was originally designed to interact with.\\n\\nAnswer: iPhones, iPads (using the Remote app or Control Center), Apple Watch, third-party universal remotes compatible with Apple's IR system, and third-party apps on smartphones using Wi-Fi.\\x1b[0m\\n\\n\\n\""
      ]
     },
     "execution_count": 27,
     "metadata": {},
     "output_type": "execute_result"
    }
   ],
   "source": [
    "# Examine the history of the prompts generated by the ReACT model\n",
    "# print(ollama_mistral.inspect_history(n=1))\n",
    "llm.inspect_history(n=1)"
   ]
  },
  {
   "cell_type": "markdown",
   "id": "91eae264-bfd8-4056-b26c-884909ac1179",
   "metadata": {},
   "source": [
    "### Example 3: Use an in-context example for converting `HH:MM:SS` string format into seconds using ReAct prompting"
   ]
  },
  {
   "cell_type": "code",
   "execution_count": 28,
   "id": "ec4ebf57-9bb2-43de-9809-d04895012b3e",
   "metadata": {
    "tags": []
   },
   "outputs": [],
   "source": [
    "question = \"\"\"Convert a time string with format H:MM:SS to seconds. How do you convert 3:56:25 into seconds?\n",
    "\"\"\""
   ]
  },
  {
   "cell_type": "code",
   "execution_count": 29,
   "id": "c2eb27eb-7e38-4a70-9a9f-35b5b9c0f2f0",
   "metadata": {
    "tags": []
   },
   "outputs": [
    {
     "name": "stderr",
     "output_type": "stream",
     "text": [
      "2024-06-13 17:02:08,016 - INFO - HTTP Request: POST https://wistron-apim-qas.wistron.com/openai/deployments/gpt-4-turbo/chat/completions?api-version=2024-03-01-preview \"HTTP/1.1 200 OK\"\n",
      "2024-06-13 17:02:33,253 - INFO - HTTP Request: POST https://wistron-apim-qas.wistron.com/openai/deployments/gpt-4-turbo/chat/completions?api-version=2024-03-01-preview \"HTTP/1.1 200 OK\"\n"
     ]
    }
   ],
   "source": [
    "answer = compiled_tf(question)"
   ]
  },
  {
   "cell_type": "code",
   "execution_count": 30,
   "id": "4601dc7f-5e2a-4a42-ba66-2e9c254c0afa",
   "metadata": {
    "tags": []
   },
   "outputs": [
    {
     "name": "stdout",
     "output_type": "stream",
     "text": [
      "Answer    : Prediction(\n",
      "    rationale='combine the reasoning steps provided to form a complete explanation for converting time to seconds. We understand that we need to convert each unit of time (hours, minutes, and seconds) into seconds and then sum them up to get the total time in seconds. Based on the correct method described in the attempts:\\n\\n1. Convert hours to seconds by multiplying the number of hours by 3600.\\n2. Convert minutes to seconds by multiplying the number of minutes by 60.\\n3. Add the converted hours and minutes to the seconds.\\n\\nApplying this to the time string 3:56:25:\\n\\n- Hours to seconds: 3 hours * 3600 seconds/hour = 10800 seconds\\n- Minutes to seconds: 56 minutes * 60 seconds/minute = 3360 seconds\\n- Seconds: 25 seconds\\n\\nNow, we add them together to get the total seconds:\\n\\nTotal seconds = 10800 seconds + 3360 seconds + 25 seconds = 14185 seconds',\n",
      "    answer='14185'\n",
      ")\n"
     ]
    }
   ],
   "source": [
    "print(f\"{BOLD_BEGIN}Answer    : {BOLD_END}{answer}\")"
   ]
  },
  {
   "cell_type": "code",
   "execution_count": 31,
   "id": "cfd8e2a4-37c9-40dc-b1d2-39c39cde87ef",
   "metadata": {
    "scrolled": true,
    "tags": []
   },
   "outputs": [
    {
     "name": "stdout",
     "output_type": "stream",
     "text": [
      "\n",
      "\n",
      "\n",
      "Answer questions based on the input question.\n",
      "\n",
      "---\n",
      "\n",
      "Question: Based on information provided to you upto 2023, Who was Olivia Wilde's boyfriend? What is his current age raised to the 0.23 power?\n",
      "Answer: Finish[2.66]\n",
      "\n",
      "Question: Based on information provided to you upto 2023, how do you calculate the value of PI. With its current value of PI, given a circle of diameter 2 meters, what its its circumcernce and area?\n",
      "Answer: Finish[Circumference: 6.28318 meters, Area: 3.14159 square meters]\n",
      "\n",
      "Question: What is the elevation range for the area that the eastern sector of the Colorado orogeny extends into?\n",
      "Answer: Finish[1,800 to 7,000 ft]\n",
      "\n",
      "---\n",
      "\n",
      "Follow the following format.\n",
      "\n",
      "Question: ${question}\n",
      "\n",
      "Student Attempt #1: ${reasoning attempt}\n",
      "\n",
      "Student Attempt #2: ${reasoning attempt}\n",
      "\n",
      "Student Attempt #3: ${reasoning attempt}\n",
      "\n",
      "Student Attempt #4: ${reasoning attempt}\n",
      "\n",
      "Student Attempt #5: ${reasoning attempt}\n",
      "\n",
      "Accurate Reasoning: Thank you everyone. Let's now holistically ${corrected reasoning}\n",
      "\n",
      "Answer: ${answer}\n",
      "\n",
      "---\n",
      "\n",
      "Question: Convert a time string with format H:MM:SS to seconds. How do you convert 3:56:25 into seconds?\n",
      "\n",
      "Student Attempt #1: «I'm trying to Reasoning: Let's think step by step in order to convert hours, minutes, and seconds into seconds. First, we take the number of hours and multiply it by the number of seconds in an hour, which is 3600. Then, we take the number of minutes and multiply it by the number of seconds in a minute, which is 60. Finally, we add the number of seconds. So, for 3:56:25, we have 3 hours, 56 minutes, and 25 seconds. The calculation will be as follows: (3 hours * 3600 seconds/hour) + (56 minutes * 60 seconds/minute) + 25 seconds. I'm not sure but my prediction is ${answer}»\n",
      "\n",
      "Student Attempt #2: «I'm trying to Reasoning: Let's think step by step in order to convert the time given in hours, minutes, and seconds to only seconds. First, we need to convert the hours to seconds by multiplying the number of hours by 3600, since there are 3600 seconds in an hour. Then, we convert the minutes to seconds by multiplying the number of minutes by 60, as there are 60 seconds in a minute. Finally, we add the seconds that are already in the correct unit. So, the calculation will be as follows: hours * 3600 + minutes * 60 + seconds. I'm not sure but my prediction is 14185»\n",
      "\n",
      "Student Attempt #3: «I'm trying to Reasoning: Let's think step by step in order to convert the given time into seconds. We know that there are 60 seconds in a minute and 60 minutes in an hour. To convert the time into seconds, we multiply the hours by 3600 (since there are 3600 seconds in an hour), the minutes by 60 (since there are 60 seconds in a minute), and then we add these to the number of seconds. I'm not sure but my prediction is 14185»\n",
      "\n",
      "Student Attempt #4: «I'm trying to Reasoning: Let's think step by step in order to convert hours, minutes, and seconds into total seconds. First, we need to understand that there are 60 seconds in a minute and 3600 seconds in an hour. To convert time to seconds, we multiply the number of hours by 3600, the number of minutes by 60, and then add all the values together along with the number of seconds. I'm not sure but my prediction is 14185»\n",
      "\n",
      "Student Attempt #5: «I'm trying to Reasoning: Let's think step by step in order to convert the time from hours, minutes, and seconds to just seconds. First, we know that one hour has 3600 seconds (since 1 hour = 60 minutes and 1 minute = 60 seconds, so 60 * 60 = 3600 seconds). Next, we know that one minute has 60 seconds. To convert the given time of 3:56:25 to seconds, we multiply the hours by the number of seconds in an hour, the minutes by the number of seconds in a minute, and then add those to the number of seconds. I'm not sure but my prediction is 14185»\n",
      "\n",
      "Accurate Reasoning: Thank you everyone. Let's now holistically combine the reasoning steps provided to form a complete explanation for converting time to seconds. We understand that we need to convert each unit of time (hours, minutes, and seconds) into seconds and then sum them up to get the total time in seconds. Based on the correct method described in the attempts:\n",
      "\n",
      "1. Convert hours to seconds by multiplying the number of hours by 3600.\n",
      "2. Convert minutes to seconds by multiplying the number of minutes by 60.\n",
      "3. Add the converted hours and minutes to the seconds.\n",
      "\n",
      "Applying this to the time string 3:56:25:\n",
      "\n",
      "- Hours to seconds: 3 hours * 3600 seconds/hour = 10800 seconds\n",
      "- Minutes to seconds: 56 minutes * 60 seconds/minute = 3360 seconds\n",
      "- Seconds: 25 seconds\n",
      "\n",
      "Now, we add them together to get the total seconds:\n",
      "\n",
      "Total seconds = 10800 seconds + 3360 seconds + 25 seconds = 14185 seconds\n",
      "\n",
      "Answer: 14185\n",
      "\n",
      "\n",
      "\n"
     ]
    },
    {
     "data": {
      "text/plain": [
       "\"\\n\\n\\nAnswer questions based on the input question.\\n\\n---\\n\\nQuestion: Based on information provided to you upto 2023, Who was Olivia Wilde's boyfriend? What is his current age raised to the 0.23 power?\\nAnswer: Finish[2.66]\\n\\nQuestion: Based on information provided to you upto 2023, how do you calculate the value of PI. With its current value of PI, given a circle of diameter 2 meters, what its its circumcernce and area?\\nAnswer: Finish[Circumference: 6.28318 meters, Area: 3.14159 square meters]\\n\\nQuestion: What is the elevation range for the area that the eastern sector of the Colorado orogeny extends into?\\nAnswer: Finish[1,800 to 7,000 ft]\\n\\n---\\n\\nFollow the following format.\\n\\nQuestion: ${question}\\n\\nStudent Attempt #1: ${reasoning attempt}\\n\\nStudent Attempt #2: ${reasoning attempt}\\n\\nStudent Attempt #3: ${reasoning attempt}\\n\\nStudent Attempt #4: ${reasoning attempt}\\n\\nStudent Attempt #5: ${reasoning attempt}\\n\\nAccurate Reasoning: Thank you everyone. Let's now holistically ${corrected reasoning}\\n\\nAnswer: ${answer}\\n\\n---\\n\\nQuestion: Convert a time string with format H:MM:SS to seconds. How do you convert 3:56:25 into seconds?\\n\\nStudent Attempt #1: «I'm trying to Reasoning: Let's think step by step in order to convert hours, minutes, and seconds into seconds. First, we take the number of hours and multiply it by the number of seconds in an hour, which is 3600. Then, we take the number of minutes and multiply it by the number of seconds in a minute, which is 60. Finally, we add the number of seconds. So, for 3:56:25, we have 3 hours, 56 minutes, and 25 seconds. The calculation will be as follows: (3 hours * 3600 seconds/hour) + (56 minutes * 60 seconds/minute) + 25 seconds. I'm not sure but my prediction is ${answer}»\\n\\nStudent Attempt #2: «I'm trying to Reasoning: Let's think step by step in order to convert the time given in hours, minutes, and seconds to only seconds. First, we need to convert the hours to seconds by multiplying the number of hours by 3600, since there are 3600 seconds in an hour. Then, we convert the minutes to seconds by multiplying the number of minutes by 60, as there are 60 seconds in a minute. Finally, we add the seconds that are already in the correct unit. So, the calculation will be as follows: hours * 3600 + minutes * 60 + seconds. I'm not sure but my prediction is 14185»\\n\\nStudent Attempt #3: «I'm trying to Reasoning: Let's think step by step in order to convert the given time into seconds. We know that there are 60 seconds in a minute and 60 minutes in an hour. To convert the time into seconds, we multiply the hours by 3600 (since there are 3600 seconds in an hour), the minutes by 60 (since there are 60 seconds in a minute), and then we add these to the number of seconds. I'm not sure but my prediction is 14185»\\n\\nStudent Attempt #4: «I'm trying to Reasoning: Let's think step by step in order to convert hours, minutes, and seconds into total seconds. First, we need to understand that there are 60 seconds in a minute and 3600 seconds in an hour. To convert time to seconds, we multiply the number of hours by 3600, the number of minutes by 60, and then add all the values together along with the number of seconds. I'm not sure but my prediction is 14185»\\n\\nStudent Attempt #5: «I'm trying to Reasoning: Let's think step by step in order to convert the time from hours, minutes, and seconds to just seconds. First, we know that one hour has 3600 seconds (since 1 hour = 60 minutes and 1 minute = 60 seconds, so 60 * 60 = 3600 seconds). Next, we know that one minute has 60 seconds. To convert the given time of 3:56:25 to seconds, we multiply the hours by the number of seconds in an hour, the minutes by the number of seconds in a minute, and then add those to the number of seconds. I'm not sure but my prediction is 14185»\\n\\nAccurate Reasoning: Thank you everyone. Let's now holistically\\x1b[32m combine the reasoning steps provided to form a complete explanation for converting time to seconds. We understand that we need to convert each unit of time (hours, minutes, and seconds) into seconds and then sum them up to get the total time in seconds. Based on the correct method described in the attempts:\\n\\n1. Convert hours to seconds by multiplying the number of hours by 3600.\\n2. Convert minutes to seconds by multiplying the number of minutes by 60.\\n3. Add the converted hours and minutes to the seconds.\\n\\nApplying this to the time string 3:56:25:\\n\\n- Hours to seconds: 3 hours * 3600 seconds/hour = 10800 seconds\\n- Minutes to seconds: 56 minutes * 60 seconds/minute = 3360 seconds\\n- Seconds: 25 seconds\\n\\nNow, we add them together to get the total seconds:\\n\\nTotal seconds = 10800 seconds + 3360 seconds + 25 seconds = 14185 seconds\\n\\nAnswer: 14185\\x1b[0m\\n\\n\\n\""
      ]
     },
     "execution_count": 31,
     "metadata": {},
     "output_type": "execute_result"
    }
   ],
   "source": [
    "# Examine the history of the prompts generated by the ReACT model\n",
    "# print(ollama_mistral.inspect_history(n=1))\n",
    "llm.inspect_history(n=1)"
   ]
  },
  {
   "cell_type": "code",
   "execution_count": null,
   "id": "53d55260-47e0-4367-b59c-4ee9fe1d0f18",
   "metadata": {},
   "outputs": [],
   "source": []
  },
  {
   "cell_type": "code",
   "execution_count": null,
   "id": "4da28bf1-0196-4197-95cc-a04c73565462",
   "metadata": {},
   "outputs": [],
   "source": []
  },
  {
   "cell_type": "markdown",
   "id": "3b4636b0-05f1-4db9-a6e6-0f1aadc76c54",
   "metadata": {},
   "source": [
    "### Example 4: How about a simple job of telling a joke?"
   ]
  },
  {
   "cell_type": "code",
   "execution_count": 38,
   "id": "4d6d6e62-2f63-4f04-a2d0-d9932d812663",
   "metadata": {
    "tags": []
   },
   "outputs": [],
   "source": [
    "question = \"Tell me a joke about 殺雞用牛刀\""
   ]
  },
  {
   "cell_type": "code",
   "execution_count": 42,
   "id": "c4f2d71d-61f0-498f-9964-16554bbdf107",
   "metadata": {
    "tags": []
   },
   "outputs": [
    {
     "name": "stderr",
     "output_type": "stream",
     "text": [
      "2024-06-14 05:01:19,431 - INFO - Retrying request to /deployments/gpt-4-turbo/chat/completions in 0.927935 seconds\n",
      "2024-06-14 05:01:25,374 - INFO - Retrying request to /deployments/gpt-4-turbo/chat/completions in 1.789144 seconds\n",
      "2024-06-14 05:01:32,200 - INFO - Backing off request(...) for 0.9s (openai.APITimeoutError: Request timed out.)\n"
     ]
    },
    {
     "name": "stdout",
     "output_type": "stream",
     "text": [
      "Backing off 0.9 seconds after 1 tries calling function <function AzureOpenAI.request at 0x00000273795AEDD0> with kwargs {'n': 5, 'temperature': 0.7}\n"
     ]
    },
    {
     "name": "stderr",
     "output_type": "stream",
     "text": [
      "2024-06-14 05:01:38,140 - INFO - Retrying request to /deployments/gpt-4-turbo/chat/completions in 0.864691 seconds\n",
      "2024-06-14 05:01:44,031 - INFO - Retrying request to /deployments/gpt-4-turbo/chat/completions in 1.805876 seconds\n",
      "2024-06-14 05:01:50,860 - INFO - Backing off request(...) for 1.8s (openai.APITimeoutError: Request timed out.)\n"
     ]
    },
    {
     "name": "stdout",
     "output_type": "stream",
     "text": [
      "Backing off 1.8 seconds after 2 tries calling function <function AzureOpenAI.request at 0x00000273795AEDD0> with kwargs {'n': 5, 'temperature': 0.7}\n"
     ]
    },
    {
     "name": "stderr",
     "output_type": "stream",
     "text": [
      "2024-06-14 05:01:57,651 - INFO - Retrying request to /deployments/gpt-4-turbo/chat/completions in 0.936771 seconds\n",
      "2024-06-14 05:02:03,610 - INFO - Retrying request to /deployments/gpt-4-turbo/chat/completions in 1.780675 seconds\n",
      "2024-06-14 05:02:10,418 - INFO - Backing off request(...) for 3.0s (openai.APITimeoutError: Request timed out.)\n"
     ]
    },
    {
     "name": "stdout",
     "output_type": "stream",
     "text": [
      "Backing off 3.0 seconds after 3 tries calling function <function AzureOpenAI.request at 0x00000273795AEDD0> with kwargs {'n': 5, 'temperature': 0.7}\n"
     ]
    },
    {
     "name": "stderr",
     "output_type": "stream",
     "text": [
      "2024-06-14 05:02:18,462 - INFO - Retrying request to /deployments/gpt-4-turbo/chat/completions in 0.848307 seconds\n",
      "2024-06-14 05:02:24,335 - INFO - Retrying request to /deployments/gpt-4-turbo/chat/completions in 1.740873 seconds\n",
      "2024-06-14 05:02:31,112 - INFO - Backing off request(...) for 5.9s (openai.APITimeoutError: Request timed out.)\n"
     ]
    },
    {
     "name": "stdout",
     "output_type": "stream",
     "text": [
      "Backing off 5.9 seconds after 4 tries calling function <function AzureOpenAI.request at 0x00000273795AEDD0> with kwargs {'n': 5, 'temperature': 0.7}\n"
     ]
    },
    {
     "name": "stderr",
     "output_type": "stream",
     "text": [
      "2024-06-14 05:02:42,013 - INFO - Retrying request to /deployments/gpt-4-turbo/chat/completions in 0.871622 seconds\n",
      "2024-06-14 05:02:47,903 - INFO - Retrying request to /deployments/gpt-4-turbo/chat/completions in 1.962949 seconds\n",
      "2024-06-14 05:02:54,895 - INFO - Backing off request(...) for 8.6s (openai.APITimeoutError: Request timed out.)\n"
     ]
    },
    {
     "name": "stdout",
     "output_type": "stream",
     "text": [
      "Backing off 8.6 seconds after 5 tries calling function <function AzureOpenAI.request at 0x00000273795AEDD0> with kwargs {'n': 5, 'temperature': 0.7}\n"
     ]
    },
    {
     "name": "stderr",
     "output_type": "stream",
     "text": [
      "2024-06-14 05:03:08,562 - INFO - Retrying request to /deployments/gpt-4-turbo/chat/completions in 0.983136 seconds\n",
      "2024-06-14 05:03:28,123 - INFO - HTTP Request: POST https://wistron-apim-qas.wistron.com/openai/deployments/gpt-4-turbo/chat/completions?api-version=2024-03-01-preview \"HTTP/1.1 200 OK\"\n",
      "2024-06-14 05:03:56,865 - INFO - HTTP Request: POST https://wistron-apim-qas.wistron.com/openai/deployments/gpt-4-turbo/chat/completions?api-version=2024-03-01-preview \"HTTP/1.1 200 OK\"\n"
     ]
    }
   ],
   "source": [
    "answer = compiled_tf(question)"
   ]
  },
  {
   "cell_type": "code",
   "execution_count": 43,
   "id": "726fbf25-24a6-4b5d-b567-51cf828376e6",
   "metadata": {
    "tags": []
   },
   "outputs": [
    {
     "name": "stdout",
     "output_type": "stream",
     "text": [
      "Answer    : Prediction(\n",
      "    rationale='Accurate Reasoning: Thank you everyone. Let\\'s now holistically consider the attempts to create a joke about the idiom \"殺雞用牛刀.\" Each attempt humorously interprets the idiom by suggesting an absurdly excessive tool for a simple task, which is indeed the essence of the idiom. The joke should not only reflect the literal meaning of using an inappropriately large or complex tool for an easy job but also do so in a way that is unexpected and plays with the literal and figurative meanings of the idiom. We want to deliver a punchline that highlights the humorous contrast between the task of killing a chicken and the exaggerated method proposed.',\n",
      "    answer='Why did the guy bring a laser cannon to the farm? Because when he was told to \"殺雞用牛刀,\" he didn\\'t realize they weren\\'t preparing for an alien invasion!'\n",
      ")\n"
     ]
    }
   ],
   "source": [
    "print(f\"{BOLD_BEGIN}Answer    : {BOLD_END}{answer}\")"
   ]
  },
  {
   "cell_type": "code",
   "execution_count": 44,
   "id": "086d672f-684f-44eb-b970-98e1b6784263",
   "metadata": {
    "scrolled": true,
    "tags": []
   },
   "outputs": [
    {
     "name": "stdout",
     "output_type": "stream",
     "text": [
      "\n",
      "\n",
      "\n",
      "Answer questions based on the input question.\n",
      "\n",
      "---\n",
      "\n",
      "Question: Based on information provided to you upto 2023, Who was Olivia Wilde's boyfriend? What is his current age raised to the 0.23 power?\n",
      "Answer: Finish[2.66]\n",
      "\n",
      "Question: Based on information provided to you upto 2023, how do you calculate the value of PI. With its current value of PI, given a circle of diameter 2 meters, what its its circumcernce and area?\n",
      "Answer: Finish[Circumference: 6.28318 meters, Area: 3.14159 square meters]\n",
      "\n",
      "Question: What is the elevation range for the area that the eastern sector of the Colorado orogeny extends into?\n",
      "Answer: Finish[1,800 to 7,000 ft]\n",
      "\n",
      "---\n",
      "\n",
      "Follow the following format.\n",
      "\n",
      "Question: ${question}\n",
      "\n",
      "Student Attempt #1: ${reasoning attempt}\n",
      "\n",
      "Student Attempt #2: ${reasoning attempt}\n",
      "\n",
      "Student Attempt #3: ${reasoning attempt}\n",
      "\n",
      "Student Attempt #4: ${reasoning attempt}\n",
      "\n",
      "Student Attempt #5: ${reasoning attempt}\n",
      "\n",
      "Accurate Reasoning: Thank you everyone. Let's now holistically ${corrected reasoning}\n",
      "\n",
      "Answer: ${answer}\n",
      "\n",
      "---\n",
      "\n",
      "Question: Tell me a joke about 殺雞用牛刀\n",
      "\n",
      "Student Attempt #1: «I'm trying to Reasoning: Let's think step by step in order to craft a joke about the Chinese idiom \"殺雞用牛刀\" which translates to \"using a sledgehammer to crack a nut\" or \"using a beef knife to kill a chicken,\" meaning to use disproportionate force or excessive measures to accomplish something simple. A joke based on this idiom would ideally involve an overly complicated or grandiose solution to a simple problem, emphasizing the absurdity of the mismatch between the action and the task. I'm not sure but my prediction is Why did the mathematician bring a rocket launcher to the chicken coop? Because he heard that if you want to make an omelet, you've got to do it with a bang – but he took \"殺雞用牛刀\" a bit too literally!»\n",
      "\n",
      "Student Attempt #2: «I'm trying to Question: Tell me a joke about 殺雞用牛刀 I'm not sure but my prediction is Why did the chef bring a sword to the kitchen? Because he heard someone say \"殺雞用牛刀\", and he took it a bit too literally!»\n",
      "\n",
      "Student Attempt #3: «I'm trying to Question: Tell me a joke about 殺雞用牛刀 I'm not sure but my prediction is Why did the man bring a chainsaw to the cooking class? Because he heard they were going to teach how to slice chicken, and he didn't want to be underprepared—classic case of 殺雞用牛刀!»\n",
      "\n",
      "Student Attempt #4: «I'm trying to Question: Tell me a joke about 殺雞用牛刀 I'm not sure but my prediction is Why did the chicken cross the playground? To tell the kids not to use a bulldozer to swing him!»\n",
      "\n",
      "Student Attempt #5: «I'm trying to create a humorous scenario that involves an excessive approach to a simple task, which is the literal meaning of the Chinese idiom \"殺雞用牛刀\" (using a cleaver to kill a chicken). We can imagine a situation where using a tool or method that is disproportionately large or complex for a simple task would be comical. I'm not sure but my prediction is Why did the chef bring a machete to the kitchen? Because he heard someone saying \"殺雞用牛刀\" and took it a little too seriously!»\n",
      "\n",
      "Accurate Reasoning: Thank you everyone. Let's now holistically Accurate Reasoning: Thank you everyone. Let's now holistically consider the attempts to create a joke about the idiom \"殺雞用牛刀.\" Each attempt humorously interprets the idiom by suggesting an absurdly excessive tool for a simple task, which is indeed the essence of the idiom. The joke should not only reflect the literal meaning of using an inappropriately large or complex tool for an easy job but also do so in a way that is unexpected and plays with the literal and figurative meanings of the idiom. We want to deliver a punchline that highlights the humorous contrast between the task of killing a chicken and the exaggerated method proposed.\n",
      "\n",
      "Answer: Why did the guy bring a laser cannon to the farm? Because when he was told to \"殺雞用牛刀,\" he didn't realize they weren't preparing for an alien invasion!\n",
      "\n",
      "\n",
      "\n"
     ]
    },
    {
     "data": {
      "text/plain": [
       "'\\n\\n\\nAnswer questions based on the input question.\\n\\n---\\n\\nQuestion: Based on information provided to you upto 2023, Who was Olivia Wilde\\'s boyfriend? What is his current age raised to the 0.23 power?\\nAnswer: Finish[2.66]\\n\\nQuestion: Based on information provided to you upto 2023, how do you calculate the value of PI. With its current value of PI, given a circle of diameter 2 meters, what its its circumcernce and area?\\nAnswer: Finish[Circumference: 6.28318 meters, Area: 3.14159 square meters]\\n\\nQuestion: What is the elevation range for the area that the eastern sector of the Colorado orogeny extends into?\\nAnswer: Finish[1,800 to 7,000 ft]\\n\\n---\\n\\nFollow the following format.\\n\\nQuestion: ${question}\\n\\nStudent Attempt #1: ${reasoning attempt}\\n\\nStudent Attempt #2: ${reasoning attempt}\\n\\nStudent Attempt #3: ${reasoning attempt}\\n\\nStudent Attempt #4: ${reasoning attempt}\\n\\nStudent Attempt #5: ${reasoning attempt}\\n\\nAccurate Reasoning: Thank you everyone. Let\\'s now holistically ${corrected reasoning}\\n\\nAnswer: ${answer}\\n\\n---\\n\\nQuestion: Tell me a joke about 殺雞用牛刀\\n\\nStudent Attempt #1: «I\\'m trying to Reasoning: Let\\'s think step by step in order to craft a joke about the Chinese idiom \"殺雞用牛刀\" which translates to \"using a sledgehammer to crack a nut\" or \"using a beef knife to kill a chicken,\" meaning to use disproportionate force or excessive measures to accomplish something simple. A joke based on this idiom would ideally involve an overly complicated or grandiose solution to a simple problem, emphasizing the absurdity of the mismatch between the action and the task. I\\'m not sure but my prediction is Why did the mathematician bring a rocket launcher to the chicken coop? Because he heard that if you want to make an omelet, you\\'ve got to do it with a bang – but he took \"殺雞用牛刀\" a bit too literally!»\\n\\nStudent Attempt #2: «I\\'m trying to Question: Tell me a joke about 殺雞用牛刀 I\\'m not sure but my prediction is Why did the chef bring a sword to the kitchen? Because he heard someone say \"殺雞用牛刀\", and he took it a bit too literally!»\\n\\nStudent Attempt #3: «I\\'m trying to Question: Tell me a joke about 殺雞用牛刀 I\\'m not sure but my prediction is Why did the man bring a chainsaw to the cooking class? Because he heard they were going to teach how to slice chicken, and he didn\\'t want to be underprepared—classic case of 殺雞用牛刀!»\\n\\nStudent Attempt #4: «I\\'m trying to Question: Tell me a joke about 殺雞用牛刀 I\\'m not sure but my prediction is Why did the chicken cross the playground? To tell the kids not to use a bulldozer to swing him!»\\n\\nStudent Attempt #5: «I\\'m trying to create a humorous scenario that involves an excessive approach to a simple task, which is the literal meaning of the Chinese idiom \"殺雞用牛刀\" (using a cleaver to kill a chicken). We can imagine a situation where using a tool or method that is disproportionately large or complex for a simple task would be comical. I\\'m not sure but my prediction is Why did the chef bring a machete to the kitchen? Because he heard someone saying \"殺雞用牛刀\" and took it a little too seriously!»\\n\\nAccurate Reasoning: Thank you everyone. Let\\'s now holistically\\x1b[32m Accurate Reasoning: Thank you everyone. Let\\'s now holistically consider the attempts to create a joke about the idiom \"殺雞用牛刀.\" Each attempt humorously interprets the idiom by suggesting an absurdly excessive tool for a simple task, which is indeed the essence of the idiom. The joke should not only reflect the literal meaning of using an inappropriately large or complex tool for an easy job but also do so in a way that is unexpected and plays with the literal and figurative meanings of the idiom. We want to deliver a punchline that highlights the humorous contrast between the task of killing a chicken and the exaggerated method proposed.\\n\\nAnswer: Why did the guy bring a laser cannon to the farm? Because when he was told to \"殺雞用牛刀,\" he didn\\'t realize they weren\\'t preparing for an alien invasion!\\x1b[0m\\n\\n\\n'"
      ]
     },
     "execution_count": 44,
     "metadata": {},
     "output_type": "execute_result"
    }
   ],
   "source": [
    "# Examine the history of the prompts generated by the ReACT model\n",
    "# print(ollama_mistral.inspect_history(n=1))\n",
    "llm.inspect_history(n=1)"
   ]
  },
  {
   "cell_type": "code",
   "execution_count": null,
   "id": "5b9fbc53-6d16-4259-9f96-6c3f3713ca39",
   "metadata": {},
   "outputs": [],
   "source": []
  },
  {
   "cell_type": "code",
   "execution_count": null,
   "id": "a46f0fdf-4a20-4291-8b77-46c0af0abf18",
   "metadata": {},
   "outputs": [],
   "source": []
  },
  {
   "cell_type": "code",
   "execution_count": null,
   "id": "3a3268b3-069b-457d-95e6-b6b73179f465",
   "metadata": {},
   "outputs": [],
   "source": []
  },
  {
   "cell_type": "markdown",
   "id": "b9569817-a6ff-4e4f-8485-46bfd8ca7b76",
   "metadata": {},
   "source": [
    "## All this is amazing! 😜 Feel the wizardy in DSPy power 🧙‍♀️"
   ]
  }
 ],
 "metadata": {
  "kernelspec": {
   "display_name": "Python 3 (ipykernel)",
   "language": "python",
   "name": "python3"
  },
  "language_info": {
   "codemirror_mode": {
    "name": "ipython",
    "version": 3
   },
   "file_extension": ".py",
   "mimetype": "text/x-python",
   "name": "python",
   "nbconvert_exporter": "python",
   "pygments_lexer": "ipython3",
   "version": "3.10.0"
  }
 },
 "nbformat": 4,
 "nbformat_minor": 5
}
