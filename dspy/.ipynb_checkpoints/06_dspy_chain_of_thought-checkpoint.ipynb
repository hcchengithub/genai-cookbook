{
 "cells": [
  {
   "cell_type": "markdown",
   "id": "0c6a9d1e-35de-4197-9673-5d5bf262ae65",
   "metadata": {},
   "source": [
    "\n",
    "<img src=\"images/dspy_img.png\" height=\"35%\" width=\"%65\">\n",
    "\n",
    "## Chain of thought (CoT) prompting\n",
    "\n",
    "Chain of thought prompting for LLMs involves providing a sequence of reasoning steps in the prompt to guide the model toward a solution. This technique helps the model to process complex problems by breaking them down into intermediate steps, much like a human would. By mimicking human-like reasoning, chain of thought prompting improves the model's ability to handle tasks that require logic and deduction.\n",
    "\n",
    "[Wei et al.](https://arxiv.org/abs/2201.11903) (2022) introduced chain-of-thought (CoT) prompting, which uses steps to help solve complex problems. By adding few-shot prompts, it works even better for tasks that need careful thinking before answering, giving the model time to \"think.\" This can simply be achieved as prompting or instructing the LLM to \"Let's think through this step and step. Solve each step and explain how to arrived at your answer.\" These instructions eliminate the need to explicitly provide \"few-shot\" examples. This combination helps in tackling more difficult tasks effectively. \n",
    "\n",
    "Let's look at a few of those examples below 👇 using DSPy Chain of Thought (CoT) Module\n",
    "`dspy.ChainOfThought`.\n",
    "The diagram below shows how DSPy generates a CoT prompt for the LLM from the Signature class.\n",
    "\n",
    "<img src=\"images/cot_signature.png\">\n",
    "\n",
    "[source](https://towardsdatascience.com/intro-to-dspy-goodbye-prompting-hello-programming-4ca1c6ce3eb9)\n",
    "\n",
    "**Note**: \n",
    "To run any of these relevant notebooks you will need to install OLlama on the local\n",
    "latop or use any LLM-hosted provder service: OpenAI, Anyscale Endpoints, Anthropic, etc.\n"
   ]
  },
  {
   "cell_type": "code",
   "execution_count": 1,
   "id": "187463dc-4606-4407-b3c8-5dca96a83f30",
   "metadata": {
    "tags": []
   },
   "outputs": [],
   "source": [
    "import dspy\n",
    "import warnings\n",
    "import argparse\n",
    "from dspy_utils import COT, BOLD_BEGIN, BOLD_END"
   ]
  },
  {
   "cell_type": "code",
   "execution_count": 2,
   "id": "fbe5f8f1-02b4-4530-b1e6-b36dab439575",
   "metadata": {
    "tags": []
   },
   "outputs": [],
   "source": [
    "warnings.filterwarnings(\"ignore\")"
   ]
  },
  {
   "cell_type": "code",
   "execution_count": 3,
   "id": "9b94b0f6-e1f6-409a-80c6-06a726318fe5",
   "metadata": {
    "tags": []
   },
   "outputs": [
    {
     "name": "stderr",
     "output_type": "stream",
     "text": [
      "2024-06-12 17:10:13,279 - INFO - Start\n",
      "2024-06-12 17:10:14,703 - INFO - access_token : eyJ0eXAiOiJKV1QiLCJhbGciOiJSUzI1NiIsIng1dCI6IkwxS2ZLRklfam5YYndXYzIyeFp4dzFzVUhIMCIsImtpZCI6IkwxS2ZLRklfam5YYndXYzIyeFp4dzFzVUhIMCJ9.eyJhdWQiOiJodHRwczovL2NvZ25pdGl2ZXNlcnZpY2VzLmF6dXJlLmNvbSIsImlzcyI6Imh0dHBzOi8vc3RzLndpbmRvd3MubmV0L2RlMDc5NWUwLWQ3YzAtNGVlYi1iOWJiLWJjOTRkODk4MGQzYi8iLCJpYXQiOjE3MTgxODMxMTQsIm5iZiI6MTcxODE4MzExNCwiZXhwIjoxNzE4MTg3MDE0LCJhaW8iOiJFMmRnWUpnWHZQTi9yMHZCb2hWK1pUdTBkSGk0QUE9PSIsImFwcGlkIjoiM2Y4MzI2Y2MtZGQ5Zi00ZTJjLWJlMzYtOWVjMGVjN2VlYWE2IiwiYXBwaWRhY3IiOiIxIiwiZ3JvdXBzIjpbIjM5MDUxZjJkLTlhMDQtNDc2YS1hNTk4LTRiMWRmMGQ1ODA1NiIsImUzYmFjNzk0LTllM2EtNGY1ZC04NWNiLWFkNjJhYWQzYTBmMyJdLCJpZHAiOiJodHRwczovL3N0cy53aW5kb3dzLm5ldC9kZTA3OTVlMC1kN2MwLTRlZWItYjliYi1iYzk0ZDg5ODBkM2IvIiwiaWR0eXAiOiJhcHAiLCJvaWQiOiIzYjFiMzY0OC04ZjVkLTQzNjQtODVhOS1kZjAyYTJjNWJmYWEiLCJyaCI6IjAuQVVrQTRKVUgzc0RYNjA2NXU3eVUySmdOTzVBaU1YM0lLRHhIb08yT1UzU2JiVzFKQUFBLiIsInN1YiI6IjNiMWIzNjQ4LThmNWQtNDM2NC04NWE5LWRmMDJhMmM1YmZhYSIsInRpZCI6ImRlMDc5NWUwLWQ3YzAtNGVlYi1iOWJiLWJjOTRkODk4MGQzYiIsInV0aSI6Ii1OQU9jZlFieDA2dFBNLWtxNnhMQUEiLCJ2ZXIiOiIxLjAifQ.fRXMxs7hwb7YKvczQFSGFyTMUchRkYrD8a_Fl6UYa7qL3wLz8qjcIjVT0ROxArwsOhQ28U0m34ueTXLMmPcY18aVymHy8OddVPvTv02m2OQrE7DWVvOwsdI9fkaWr43YpCCbIipl91XJVedrQ-AJrCb6TnEIOGOnh438xmgvw-oZcXCmWNZEZAH1ky1reCclrPANHDzbcHjSK_w_62pV2VQh6UwgxkrHWziEIO2WauEmXOgn9JbWHp8bonOV05K6qIvsVc6eh_3SPw7o59PYgplsJkKg5PmDMO7h7zk5hEMxUJraQI9AWLztIAr-eN1cGFyqwDkGu-AqbDcLQdtWtA\n",
      "2024-06-12 17:10:14,708 - INFO - Columbus class ready\n",
      "2024-06-12 17:10:15,503 - INFO - get_llm_for_DSPy modelname=gpt-4-turbo, apikey=''\n",
      "2024-06-12 17:10:15,504 - INFO - get_llm_for_DSPy WistronGPT\n",
      "2024-06-12 17:10:16,372 - INFO - llm_for_DSPy.kwargs['extra_headers']['Authorization']: length is 1393 (normal 1374 / FT 1422)\n",
      "2024-06-12 17:10:18,920 - INFO - HTTP Request: POST https://wistron-apim-qas.wistron.com/openai/deployments/gpt-4-turbo/chat/completions?api-version=2024-03-01-preview \"HTTP/1.1 200 OK\"\n"
     ]
    },
    {
     "data": {
      "text/plain": [
       "['Hello! How can I assist you today? If you have any questions or need information on a particular topic, feel free to ask.']"
      ]
     },
     "execution_count": 3,
     "metadata": {},
     "output_type": "execute_result"
    }
   ],
   "source": [
    "from columbus_api import Columbus\n",
    "columbus = Columbus()\n",
    "llm = columbus.get_llm_for_DSPy(\"gpt-4-turbo\")\n",
    "llm.kwargs['max_tokens']=1500\n",
    "llm.kwargs['extra_headers']['Authorization'] = f\"Bearer {columbus.get_access_token()}\"    \n",
    "llm(\"Hello World!\")\n"
   ]
  },
  {
   "cell_type": "markdown",
   "id": "b6ec69c9-d2c3-424d-99dd-8caeb83aac64",
   "metadata": {},
   "source": [
    "Utility function to execute CoT tasks"
   ]
  },
  {
   "cell_type": "code",
   "execution_count": 8,
   "id": "0d40441d-be9b-448a-9f6f-68e0b996d46b",
   "metadata": {
    "tags": []
   },
   "outputs": [],
   "source": [
    "def run_cot_task(task, question=None, history=None):\n",
    "    print(f\"Chain of Thought Task {task}.\")\n",
    "    print(f\"{BOLD_BEGIN}Problem:{BOLD_END}{question}\")\n",
    "    \n",
    "    cot = COT()\n",
    "    response = cot(problem_text=question)\n",
    "    print(f\"{BOLD_BEGIN}Result:{BOLD_END} {response.result}\")\n",
    "    if hasattr(response, \"reasoning\"):\n",
    "        print(f\"{BOLD_BEGIN}Reasoning  :{BOLD_END}{response.reasoning}\")\n",
    "    \n",
    "    print(\"-----------------------------\\n\")\n",
    "    \n",
    "    if history:\n",
    "        print(f\"{BOLD_BEGIN}Prompt History:{BOLD_END}\") \n",
    "      # print(ollama_mistral.inspect_history(n=history))\n",
    "        print(llm.inspect_history(n=history))\n",
    "        print(\"===========================\\n\")"
   ]
  },
  {
   "cell_type": "markdown",
   "id": "258e721d-7cc1-4a97-bb20-da7250dfe434",
   "metadata": {},
   "source": [
    "Define some Chain of Thought word problems to solve with \n",
    "DSPy Signature"
   ]
  },
  {
   "cell_type": "code",
   "execution_count": 5,
   "id": "8f76ec90-db97-4789-be68-b033b585b29e",
   "metadata": {
    "tags": []
   },
   "outputs": [],
   "source": [
    "COT_TASKS_1 = \"\"\"\n",
    "        I'm offered $125.00 an hour contract job for six months.\n",
    "        If I work 30 hours a week, how much will I make by the end of my contract.\n",
    "\"\"\"\n",
    "COT_TASKS_2 = \"\"\"\n",
    "At the recent holiday party, I got a coupon to join a health club\n",
    "for wellness. If I joined before December 31, 2023 I get 35% discount on montly subscritpion fees\n",
    "of $55.00 for one year, and the first three months' fees payments of $55.00 will be waived. \n",
    "\n",
    "The monthly payments for the health club subscription is $55.00\n",
    "\n",
    "If I joined in January 2024, I get 25%, and only one month's fee is waived. \n",
    "\n",
    "Compute the best scenarios for saving costs for a one year subscription.\n",
    "\"\"\"\n",
    "COT_TASKS_3 = \"\"\"\n",
    "    Three girls, Emmy, Kasima, and Lina, had a fresh lemon juice booth stand\n",
    "at the local community fair.\n",
    "\n",
    "Emmy had 45 medium glasses of lemmon. She sold 43 glasses each at $1.25 per glass.\n",
    "\n",
    "Kasima had 50 small glasses, and she sold all of them each at $1.15 per glass. \n",
    "\n",
    "And Lina had 25 large glasses and she sold only 11 glasses but at $1.75 per glass.\n",
    "\n",
    "Of all the three girls, who made most money, and how many glasses each girl sold.\n",
    "How many unsold glasses were left for each girl.\n",
    "\n",
    "And finally, looking at all the numbers, which girl benefited most. That is, which\n",
    "girl cleared her stock\n",
    "\"\"\"\n",
    "\n",
    "COT_TASKS = [COT_TASKS_1, COT_TASKS_2, COT_TASKS_3]"
   ]
  },
  {
   "cell_type": "markdown",
   "id": "69c72d51-34db-49a4-8cc8-d8a54cd5d337",
   "metadata": {},
   "source": [
    "### Setup OLlama environment on the local machine"
   ]
  },
  {
   "cell_type": "raw",
   "id": "be91c646-028c-4b51-b866-7c7734d30b15",
   "metadata": {},
   "source": [
    "ollama_mistral = dspy.OllamaLocal(model='mistral', max_tokens=2500)\n",
    "dspy.settings.configure(lm=ollama_mistral)"
   ]
  },
  {
   "cell_type": "code",
   "execution_count": 6,
   "id": "d104a1b7-cd18-4c2f-a911-312e3ac23525",
   "metadata": {
    "tags": []
   },
   "outputs": [],
   "source": [
    "dspy.settings.configure(lm=llm)"
   ]
  },
  {
   "cell_type": "raw",
   "id": "f8182586-209e-4d4a-85b2-0e2534a20eb6",
   "metadata": {},
   "source": [
    "MODEL = \"ollama/mistral\"\n",
    "print(f\"Using MODEL={MODEL}; base=localhost\")"
   ]
  },
  {
   "cell_type": "markdown",
   "id": "e35d40de-7b76-4701-8796-f41b1693802c",
   "metadata": {},
   "source": [
    "#### Example 1: Chain of Thought"
   ]
  },
  {
   "cell_type": "code",
   "execution_count": 9,
   "id": "56985def-acd8-4afa-929f-ef83bd373915",
   "metadata": {
    "tags": []
   },
   "outputs": [
    {
     "name": "stdout",
     "output_type": "stream",
     "text": [
      "Chain of Thought Task 1.\n",
      "Problem:\n",
      "        I'm offered $125.00 an hour contract job for six months.\n",
      "        If I work 30 hours a week, how much will I make by the end of my contract.\n",
      "\n",
      "Result: By the end of the six-month contract, working 30 hours a week at $125.00 an hour, the total earnings would be $90,000.\n",
      "Reasoning  :We arrived at this answer by first determining the total number of weeks in the contract period (24 weeks), then calculating the total hours worked by multiplying the number of weeks by the weekly hours (720 hours), and finally multiplying the total hours by the hourly rate to find the total earnings ($90,000).\n",
      "-----------------------------\n",
      "\n",
      "Prompt History:\n",
      "\n",
      "\n",
      "\n",
      "Given an input text, solve the problem.\n",
      "    Think through this step by step. Solve each step,\n",
      "    output the result, and explain how you arrived at your answer\n",
      "\n",
      "---\n",
      "\n",
      "Follow the following format.\n",
      "\n",
      "Problem Text: ${problem_text}\n",
      "\n",
      "Reasoning: Let's think step by step in order to ${produce the reasoning}. We ...\n",
      "\n",
      "Result: no need for reasoning\n",
      "\n",
      "Reasoning: Give a step by step reasoning\n",
      "\n",
      "---\n",
      "\n",
      "Problem Text: I'm offered $125.00 an hour contract job for six months. If I work 30 hours a week, how much will I make by the end of my contract.\n",
      "\n",
      "Reasoning: Let's think step by step in order to calculate the total earnings for the six-month contract. We need to determine the total number of hours worked over the six months and then multiply that by the hourly rate.\n",
      "\n",
      "First, we calculate the total number of weeks in six months. Typically, we consider a month to have about 4 weeks, so six months would have:\n",
      "\n",
      "6 months * 4 weeks/month = 24 weeks\n",
      "\n",
      "Next, we calculate the total number of hours worked in those 24 weeks. Since the contract is for 30 hours a week, we multiply the number of weeks by the weekly hours:\n",
      "\n",
      "24 weeks * 30 hours/week = 720 hours\n",
      "\n",
      "Now that we have the total number of hours worked, we can calculate the total earnings by multiplying the total hours by the hourly rate:\n",
      "\n",
      "720 hours * $125.00/hour = $90,000\n",
      "\n",
      "Result: By the end of the six-month contract, working 30 hours a week at $125.00 an hour, the total earnings would be $90,000.\n",
      "\n",
      "Reasoning: We arrived at this answer by first determining the total number of weeks in the contract period (24 weeks), then calculating the total hours worked by multiplying the number of weeks by the weekly hours (720 hours), and finally multiplying the total hours by the hourly rate to find the total earnings ($90,000).\n",
      "\n",
      "\n",
      "\n",
      "\n",
      "\n",
      "\n",
      "Given an input text, solve the problem.\n",
      "    Think through this step by step. Solve each step,\n",
      "    output the result, and explain how you arrived at your answer\n",
      "\n",
      "---\n",
      "\n",
      "Follow the following format.\n",
      "\n",
      "Problem Text: ${problem_text}\n",
      "\n",
      "Reasoning: Let's think step by step in order to ${produce the reasoning}. We ...\n",
      "\n",
      "Result: no need for reasoning\n",
      "\n",
      "Reasoning: Give a step by step reasoning\n",
      "\n",
      "---\n",
      "\n",
      "Problem Text: I'm offered $125.00 an hour contract job for six months. If I work 30 hours a week, how much will I make by the end of my contract.\n",
      "\n",
      "Reasoning: Let's think step by step in order to calculate the total earnings for the six-month contract. We need to determine the total number of hours worked over the six months and then multiply that by the hourly rate.\n",
      "\n",
      "First, we calculate the total number of weeks in six months. Typically, we consider a month to have about 4 weeks, so six months would have:\n",
      "\n",
      "6 months * 4 weeks/month = 24 weeks\n",
      "\n",
      "Next, we calculate the total number of hours worked in those 24 weeks. Since the contract is for 30 hours a week, we multiply the number of weeks by the weekly hours:\n",
      "\n",
      "24 weeks * 30 hours/week = 720 hours\n",
      "\n",
      "Now that we have the total number of hours worked, we can calculate the total earnings by multiplying the total hours by the hourly rate:\n",
      "\n",
      "720 hours * $125.00/hour = $90,000\n",
      "\n",
      "Result: By the end of the six-month contract, working 30 hours a week at $125.00 an hour, the total earnings would be $90,000.\n",
      "\n",
      "Reasoning: We arrived at this answer by first determining the total number of weeks in the contract period (24 weeks), then calculating the total hours worked by multiplying the number of weeks by the weekly hours (720 hours), and finally multiplying the total hours by the hourly rate to find the total earnings ($90,000).\n",
      "\n",
      "\n",
      "\n",
      "===========================\n",
      "\n"
     ]
    }
   ],
   "source": [
    "run_cot_task(1, question=COT_TASKS[0], history=1)"
   ]
  },
  {
   "cell_type": "markdown",
   "id": "806e445c-74a5-445a-a9dc-ffb4a82f0d78",
   "metadata": {},
   "source": [
    "#### Example 2: Chain of Thought"
   ]
  },
  {
   "cell_type": "code",
   "execution_count": 10,
   "id": "606ec31c-faf2-4d1f-a8b1-3a4a67c66c8e",
   "metadata": {
    "tags": []
   },
   "outputs": [
    {
     "name": "stdout",
     "output_type": "stream",
     "text": [
      "Chain of Thought Task 2.\n",
      "Problem:\n",
      "At the recent holiday party, I got a coupon to join a health club\n",
      "for wellness. If I joined before December 31, 2023 I get 35% discount on montly subscritpion fees\n",
      "of $55.00 for one year, and the first three months' fees payments of $55.00 will be waived. \n",
      "\n",
      "The monthly payments for the health club subscription is $55.00\n",
      "\n",
      "If I joined in January 2024, I get 25%, and only one month's fee is waived. \n",
      "\n",
      "Compute the best scenarios for saving costs for a one year subscription.\n",
      "\n"
     ]
    },
    {
     "name": "stderr",
     "output_type": "stream",
     "text": [
      "2024-06-12 17:13:52,135 - INFO - HTTP Request: POST https://wistron-apim-qas.wistron.com/openai/deployments/gpt-4-turbo/chat/completions?api-version=2024-03-01-preview \"HTTP/1.1 200 OK\"\n"
     ]
    },
    {
     "name": "stdout",
     "output_type": "stream",
     "text": [
      "Result: Joining before December 31, 2023, is the best scenario for saving costs.\n",
      "Reasoning  :By comparing the total costs for a one-year subscription in both scenarios, we can see that joining before December 31, 2023, results in a total cost of $321.75, while joining in January 2024 results in a total cost of $453.75. Therefore, the best savings come from joining before December 31, 2023, as it offers a larger discount and more waived months.\n",
      "-----------------------------\n",
      "\n",
      "Prompt History:\n",
      "\n",
      "\n",
      "\n",
      "Given an input text, solve the problem.\n",
      "    Think through this step by step. Solve each step,\n",
      "    output the result, and explain how you arrived at your answer\n",
      "\n",
      "---\n",
      "\n",
      "Follow the following format.\n",
      "\n",
      "Problem Text: ${problem_text}\n",
      "\n",
      "Reasoning: Let's think step by step in order to ${produce the reasoning}. We ...\n",
      "\n",
      "Result: no need for reasoning\n",
      "\n",
      "Reasoning: Give a step by step reasoning\n",
      "\n",
      "---\n",
      "\n",
      "Problem Text: At the recent holiday party, I got a coupon to join a health club for wellness. If I joined before December 31, 2023 I get 35% discount on montly subscritpion fees of $55.00 for one year, and the first three months' fees payments of $55.00 will be waived. The monthly payments for the health club subscription is $55.00 If I joined in January 2024, I get 25%, and only one month's fee is waived. Compute the best scenarios for saving costs for a one year subscription.\n",
      "\n",
      "Reasoning: Let's think step by step in order to Problem Text: At the recent holiday party, I got a coupon to join a health club for wellness. If I joined before December 31, 2023 I get 35% discount on monthly subscription fees of $55.00 for one year, and the first three months' fees payments of $55.00 will be waived. The monthly payments for the health club subscription is $55.00 If I joined in January 2024, I get 25%, and only one month's fee is waived. Compute the best scenarios for saving costs for a one-year subscription.\n",
      "\n",
      "Reasoning: Let's think step by step in order to calculate the total cost for a one-year subscription in both scenarios and determine which one offers the best savings.\n",
      "\n",
      "1. Calculate the total cost without any discounts or waived fees for one year:\n",
      "   - There are 12 months in a year, so the total cost would be $55.00 * 12.\n",
      "\n",
      "2. Calculate the savings for joining before December 31, 2023:\n",
      "   - First, calculate the discounted monthly fee with a 35% discount: $55.00 * (1 - 0.35).\n",
      "   - Then, calculate the cost for the remaining 9 months after the first three waived months: discounted monthly fee * 9.\n",
      "   - Add the cost of the waived months, which is $0.\n",
      "\n",
      "3. Calculate the savings for joining in January 2024:\n",
      "   - First, calculate the discounted monthly fee with a 25% discount: $55.00 * (1 - 0.25).\n",
      "   - Then, calculate the cost for the remaining 11 months after the one waived month: discounted monthly fee * 11.\n",
      "   - Add the cost of the waived month, which is $0.\n",
      "\n",
      "4. Compare the total costs from both scenarios to determine the best savings.\n",
      "\n",
      "Let's do the calculations:\n",
      "\n",
      "1. Total cost without discounts or waived fees:\n",
      "   $55.00 * 12 = $660.00\n",
      "\n",
      "2. Joining before December 31, 2023:\n",
      "   - Discounted monthly fee: $55.00 * (1 - 0.35) = $55.00 * 0.65 = $35.75\n",
      "   - Cost for 9 months: $35.75 * 9 = $321.75\n",
      "   - Cost of waived months: $0\n",
      "   - Total cost for the year: $321.75\n",
      "\n",
      "3. Joining in January 2024:\n",
      "   - Discounted monthly fee: $55.00 * (1 - 0.25) = $55.00 * 0.75 = $41.25\n",
      "   - Cost for 11 months: $41.25 * 11 = $453.75\n",
      "   - Cost of waived month: $0\n",
      "   - Total cost for the year: $453.75\n",
      "\n",
      "Result: Joining before December 31, 2023, is the best scenario for saving costs.\n",
      "\n",
      "Reasoning: By comparing the total costs for a one-year subscription in both scenarios, we can see that joining before December 31, 2023, results in a total cost of $321.75, while joining in January 2024 results in a total cost of $453.75. Therefore, the best savings come from joining before December 31, 2023, as it offers a larger discount and more waived months.\n",
      "\n",
      "\n",
      "\n",
      "\n",
      "\n",
      "\n",
      "Given an input text, solve the problem.\n",
      "    Think through this step by step. Solve each step,\n",
      "    output the result, and explain how you arrived at your answer\n",
      "\n",
      "---\n",
      "\n",
      "Follow the following format.\n",
      "\n",
      "Problem Text: ${problem_text}\n",
      "\n",
      "Reasoning: Let's think step by step in order to ${produce the reasoning}. We ...\n",
      "\n",
      "Result: no need for reasoning\n",
      "\n",
      "Reasoning: Give a step by step reasoning\n",
      "\n",
      "---\n",
      "\n",
      "Problem Text: At the recent holiday party, I got a coupon to join a health club for wellness. If I joined before December 31, 2023 I get 35% discount on montly subscritpion fees of $55.00 for one year, and the first three months' fees payments of $55.00 will be waived. The monthly payments for the health club subscription is $55.00 If I joined in January 2024, I get 25%, and only one month's fee is waived. Compute the best scenarios for saving costs for a one year subscription.\n",
      "\n",
      "Reasoning: Let's think step by step in order to Problem Text: At the recent holiday party, I got a coupon to join a health club for wellness. If I joined before December 31, 2023 I get 35% discount on monthly subscription fees of $55.00 for one year, and the first three months' fees payments of $55.00 will be waived. The monthly payments for the health club subscription is $55.00 If I joined in January 2024, I get 25%, and only one month's fee is waived. Compute the best scenarios for saving costs for a one-year subscription.\n",
      "\n",
      "Reasoning: Let's think step by step in order to calculate the total cost for a one-year subscription in both scenarios and determine which one offers the best savings.\n",
      "\n",
      "1. Calculate the total cost without any discounts or waived fees for one year:\n",
      "   - There are 12 months in a year, so the total cost would be $55.00 * 12.\n",
      "\n",
      "2. Calculate the savings for joining before December 31, 2023:\n",
      "   - First, calculate the discounted monthly fee with a 35% discount: $55.00 * (1 - 0.35).\n",
      "   - Then, calculate the cost for the remaining 9 months after the first three waived months: discounted monthly fee * 9.\n",
      "   - Add the cost of the waived months, which is $0.\n",
      "\n",
      "3. Calculate the savings for joining in January 2024:\n",
      "   - First, calculate the discounted monthly fee with a 25% discount: $55.00 * (1 - 0.25).\n",
      "   - Then, calculate the cost for the remaining 11 months after the one waived month: discounted monthly fee * 11.\n",
      "   - Add the cost of the waived month, which is $0.\n",
      "\n",
      "4. Compare the total costs from both scenarios to determine the best savings.\n",
      "\n",
      "Let's do the calculations:\n",
      "\n",
      "1. Total cost without discounts or waived fees:\n",
      "   $55.00 * 12 = $660.00\n",
      "\n",
      "2. Joining before December 31, 2023:\n",
      "   - Discounted monthly fee: $55.00 * (1 - 0.35) = $55.00 * 0.65 = $35.75\n",
      "   - Cost for 9 months: $35.75 * 9 = $321.75\n",
      "   - Cost of waived months: $0\n",
      "   - Total cost for the year: $321.75\n",
      "\n",
      "3. Joining in January 2024:\n",
      "   - Discounted monthly fee: $55.00 * (1 - 0.25) = $55.00 * 0.75 = $41.25\n",
      "   - Cost for 11 months: $41.25 * 11 = $453.75\n",
      "   - Cost of waived month: $0\n",
      "   - Total cost for the year: $453.75\n",
      "\n",
      "Result: Joining before December 31, 2023, is the best scenario for saving costs.\n",
      "\n",
      "Reasoning: By comparing the total costs for a one-year subscription in both scenarios, we can see that joining before December 31, 2023, results in a total cost of $321.75, while joining in January 2024 results in a total cost of $453.75. Therefore, the best savings come from joining before December 31, 2023, as it offers a larger discount and more waived months.\n",
      "\n",
      "\n",
      "\n",
      "===========================\n",
      "\n"
     ]
    }
   ],
   "source": [
    "run_cot_task(2, question=COT_TASKS[1], history=1)"
   ]
  },
  {
   "cell_type": "markdown",
   "id": "d36cd7c3-c299-4f79-9fb6-6d4306ad1059",
   "metadata": {},
   "source": [
    "#### Example 3: Chain of Thought"
   ]
  },
  {
   "cell_type": "code",
   "execution_count": 22,
   "id": "6e8e76f8-9bc4-47fa-9e63-9b211d4d2ae5",
   "metadata": {},
   "outputs": [
    {
     "name": "stdout",
     "output_type": "stream",
     "text": [
      "Chain of Thought Task 3.\n",
      "\u001b[1mProblem:\u001b[0m\n",
      "    Three girls, Emmy, Kasima, and Lina, had a fresh lemon juice booth stand\n",
      "at the local community fair.\n",
      "\n",
      "Emmy had 45 medium glasses of lemmon. She sold 43 glasses each at $1.25 per glass.\n",
      "\n",
      "Kasima had 50 small glasses, and she sold all of them each at $1.15 per glass. \n",
      "\n",
      "And Lina had 25 large glasses and she sold only 11 glasses but at $1.75 per glass.\n",
      "\n",
      "Of all the three girls, who made most money, and how many glasses each girl sold.\n",
      "How many unsold glasses were left for each girl.\n",
      "\n",
      "And finally, looking at all the numbers, which girl benefited most. That is, which\n",
      "girl cleared her stock\n",
      "\n",
      "\u001b[1mResult:\u001b[0m \n",
      "\u001b[1mReasoning  :\u001b[0mThe girl who made the most money was Kasima, with a total revenue of $57.50 from selling all her 50 small glasses. She also cleared her entire stock. Emmy had 2 unsold medium glasses and Lina had 14 unsold large glasses.\n",
      "-----------------------------\n",
      "\n",
      "\u001b[1mPrompt History:\u001b[0m\n",
      "\n",
      "\n",
      "\n",
      "Given an input text, solve the problem.\n",
      "    Think through this step by step. Solve each step,\n",
      "    output the result, and explain how you arrived at your answer\n",
      "\n",
      "---\n",
      "\n",
      "Follow the following format.\n",
      "\n",
      "Problem Text: ${problem_text}\n",
      "\n",
      "Reasoning: Let's think step by step in order to ${produce the reasoning}. We ...\n",
      "\n",
      "Result: no need for reasoning\n",
      "\n",
      "Reasoning: Give a step by step reasoning\n",
      "\n",
      "---\n",
      "\n",
      "Problem Text: Three girls, Emmy, Kasima, and Lina, had a fresh lemon juice booth stand at the local community fair. Emmy had 45 medium glasses of lemmon. She sold 43 glasses each at $1.25 per glass. Kasima had 50 small glasses, and she sold all of them each at $1.15 per glass. And Lina had 25 large glasses and she sold only 11 glasses but at $1.75 per glass. Of all the three girls, who made most money, and how many glasses each girl sold. How many unsold glasses were left for each girl. And finally, looking at all the numbers, which girl benefited most. That is, which girl cleared her stock\n",
      "\n",
      "Reasoning: Let's think step by step in order to 1. Calculate the revenue for each girl from selling their glasses: - Emmy: 45 medium glasses * $1.25/glass = $56.25 - Kasima: 50 small glasses * $1.15/glass = $57.50 - Lina: 11 large glasses * $1.75/glass = $19.85 2. Determine the number of unsold glasses for each girl: - Emmy: 45 medium glasses (total) - 43 glasses sold = 2 unsold glasses - Kasima: 50 small glasses (total) - 50 glasses sold = 0 unsold glasses - Lina: 25 large glasses (total) - 11 glasses sold = 14 unsold glasses 3. Identify which girl made the most money: The girl who made the most money is Kasima, as she earned $57.50. 4. Determine which girl cleared her stock: Since Kasima sold all of her glasses, she cleared her stock completely. Therefore, Kasima made the most money ($57.50) and cleared her entire stock (50 small glasses). Emmy had 2 unsold medium glasses, and Lina had 14 unsold large glasses.\n",
      "\n",
      "Result:\u001b[32m The girl who made the most money was Kasima, with a total revenue of $57.50 from selling all her 50 small glasses. She also cleared her entire stock. Emmy had 2 unsold medium glasses and Lina had 14 unsold large glasses.\u001b[0m\n",
      "\n",
      "\n",
      "\n",
      "\n",
      "\n",
      "\n",
      "Given an input text, solve the problem.\n",
      "    Think through this step by step. Solve each step,\n",
      "    output the result, and explain how you arrived at your answer\n",
      "\n",
      "---\n",
      "\n",
      "Follow the following format.\n",
      "\n",
      "Problem Text: ${problem_text}\n",
      "\n",
      "Reasoning: Let's think step by step in order to ${produce the reasoning}. We ...\n",
      "\n",
      "Result: no need for reasoning\n",
      "\n",
      "Reasoning: Give a step by step reasoning\n",
      "\n",
      "---\n",
      "\n",
      "Problem Text: Three girls, Emmy, Kasima, and Lina, had a fresh lemon juice booth stand at the local community fair. Emmy had 45 medium glasses of lemmon. She sold 43 glasses each at $1.25 per glass. Kasima had 50 small glasses, and she sold all of them each at $1.15 per glass. And Lina had 25 large glasses and she sold only 11 glasses but at $1.75 per glass. Of all the three girls, who made most money, and how many glasses each girl sold. How many unsold glasses were left for each girl. And finally, looking at all the numbers, which girl benefited most. That is, which girl cleared her stock\n",
      "\n",
      "Reasoning: Let's think step by step in order to 1. Calculate the revenue for each girl from selling their glasses: - Emmy: 45 medium glasses * $1.25/glass = $56.25 - Kasima: 50 small glasses * $1.15/glass = $57.50 - Lina: 11 large glasses * $1.75/glass = $19.85 2. Determine the number of unsold glasses for each girl: - Emmy: 45 medium glasses (total) - 43 glasses sold = 2 unsold glasses - Kasima: 50 small glasses (total) - 50 glasses sold = 0 unsold glasses - Lina: 25 large glasses (total) - 11 glasses sold = 14 unsold glasses 3. Identify which girl made the most money: The girl who made the most money is Kasima, as she earned $57.50. 4. Determine which girl cleared her stock: Since Kasima sold all of her glasses, she cleared her stock completely. Therefore, Kasima made the most money ($57.50) and cleared her entire stock (50 small glasses). Emmy had 2 unsold medium glasses, and Lina had 14 unsold large glasses.\n",
      "\n",
      "Result:\u001b[32m The girl who made the most money was Kasima, with a total revenue of $57.50 from selling all her 50 small glasses. She also cleared her entire stock. Emmy had 2 unsold medium glasses and Lina had 14 unsold large glasses.\u001b[0m\n",
      "\n",
      "\n",
      "\n",
      "===========================\n",
      "\n"
     ]
    }
   ],
   "source": [
    "run_cot_task(3, question=COT_TASKS[2], history=1)"
   ]
  },
  {
   "cell_type": "markdown",
   "id": "db733e66-6bc4-4ca0-9d47-d6bc54a511fa",
   "metadata": {},
   "source": [
    "## All this is amazing! 😜 Feel the wizardy in Chain of Thought reasoning 🧙‍♀️"
   ]
  }
 ],
 "metadata": {
  "kernelspec": {
   "display_name": "Python 3 (ipykernel)",
   "language": "python",
   "name": "python3"
  },
  "language_info": {
   "codemirror_mode": {
    "name": "ipython",
    "version": 3
   },
   "file_extension": ".py",
   "mimetype": "text/x-python",
   "name": "python",
   "nbconvert_exporter": "python",
   "pygments_lexer": "ipython3",
   "version": "3.10.0"
  }
 },
 "nbformat": 4,
 "nbformat_minor": 5
}
